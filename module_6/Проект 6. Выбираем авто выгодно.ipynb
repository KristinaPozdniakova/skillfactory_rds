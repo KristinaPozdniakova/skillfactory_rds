{
 "cells": [
  {
   "cell_type": "code",
   "execution_count": 51,
   "id": "94011c28",
   "metadata": {},
   "outputs": [],
   "source": [
    "import numpy as np\n",
    "import pandas as pd\n",
    "import sys\n",
    "import re\n",
    "import matplotlib.pyplot as plt\n",
    "import seaborn as sns\n",
    "import warnings\n",
    "import sys\n",
    "\n",
    "from pandas_profiling import ProfileReport\n",
    "\n",
    "%matplotlib inline\n",
    "warnings.simplefilter('ignore')\n",
    "sns.set()"
   ]
  },
  {
   "cell_type": "code",
   "execution_count": 52,
   "id": "50e950a8",
   "metadata": {},
   "outputs": [],
   "source": [
    "RANDOM_SEED = 42"
   ]
  },
  {
   "cell_type": "code",
   "execution_count": 53,
   "id": "32f4332d",
   "metadata": {},
   "outputs": [],
   "source": [
    "cols_to_oh_encode=[]\n",
    "cols_to_lab_encode=[]\n",
    "num_cols=[]\n",
    "cols_to_del_train=[]\n",
    "cols_to_del_test=[]"
   ]
  },
  {
   "cell_type": "code",
   "execution_count": 54,
   "id": "657ff9ce",
   "metadata": {},
   "outputs": [],
   "source": [
    "# подсчет количества выбросов\n",
    "\n",
    "def outliers(column): \n",
    "    Q1 = column.quantile(0.25)\n",
    "    Q2 = column.quantile(0.75)\n",
    "    IQR = Q2 - Q1\n",
    "    left = Q1 - 1.5 * IQR\n",
    "    right = Q2 + 1.5 * IQR\n",
    "    return (column < left).sum() + (column > right).sum(), left, right"
   ]
  },
  {
   "cell_type": "code",
   "execution_count": 55,
   "id": "eaead7fa",
   "metadata": {},
   "outputs": [],
   "source": [
    "data_train=pd.read_csv('data_train.csv')\n",
    "data_test=pd.read_csv('test.csv')"
   ]
  },
  {
   "cell_type": "code",
   "execution_count": 56,
   "id": "de54bca0",
   "metadata": {},
   "outputs": [
    {
     "data": {
      "text/html": [
       "<div>\n",
       "<style scoped>\n",
       "    .dataframe tbody tr th:only-of-type {\n",
       "        vertical-align: middle;\n",
       "    }\n",
       "\n",
       "    .dataframe tbody tr th {\n",
       "        vertical-align: top;\n",
       "    }\n",
       "\n",
       "    .dataframe thead th {\n",
       "        text-align: right;\n",
       "    }\n",
       "</style>\n",
       "<table border=\"1\" class=\"dataframe\">\n",
       "  <thead>\n",
       "    <tr style=\"text-align: right;\">\n",
       "      <th></th>\n",
       "      <th>model</th>\n",
       "      <th>url</th>\n",
       "      <th>price</th>\n",
       "      <th>doors_amount</th>\n",
       "      <th>model_year</th>\n",
       "      <th>parsing_unixtime</th>\n",
       "      <th>год выпуска</th>\n",
       "      <th>Пробег</th>\n",
       "      <th>Кузов</th>\n",
       "      <th>Цвет</th>\n",
       "      <th>...</th>\n",
       "      <th>Госномер</th>\n",
       "      <th>Обмен</th>\n",
       "      <th>Кузов №</th>\n",
       "      <th>Запас хода</th>\n",
       "      <th>Статус</th>\n",
       "      <th>fuel_type</th>\n",
       "      <th>enginePower</th>\n",
       "      <th>engineVolume</th>\n",
       "      <th>brand</th>\n",
       "      <th>modelDate</th>\n",
       "    </tr>\n",
       "  </thead>\n",
       "  <tbody>\n",
       "    <tr>\n",
       "      <th>0</th>\n",
       "      <td>Skoda Kodiaq I</td>\n",
       "      <td>https://auto.ru/cars/used/sale/skoda/kodiaq/11...</td>\n",
       "      <td>2 400 000 ₽</td>\n",
       "      <td>5.0</td>\n",
       "      <td>I 2016 – н.в.</td>\n",
       "      <td>1638365394</td>\n",
       "      <td>2019</td>\n",
       "      <td>20 000 км</td>\n",
       "      <td>внедорожник 5 дв.</td>\n",
       "      <td>белый</td>\n",
       "      <td>...</td>\n",
       "      <td>******|126</td>\n",
       "      <td>NaN</td>\n",
       "      <td>NaN</td>\n",
       "      <td>NaN</td>\n",
       "      <td>NaN</td>\n",
       "      <td>Бензин</td>\n",
       "      <td>150 л.с.</td>\n",
       "      <td>1.4 л</td>\n",
       "      <td>Skoda</td>\n",
       "      <td>2016.0</td>\n",
       "    </tr>\n",
       "    <tr>\n",
       "      <th>1</th>\n",
       "      <td>Skoda Rapid II</td>\n",
       "      <td>https://auto.ru/cars/used/sale/skoda/rapid/110...</td>\n",
       "      <td>1 525 000 ₽</td>\n",
       "      <td>5.0</td>\n",
       "      <td>II 2020 – н.в.</td>\n",
       "      <td>1638365396</td>\n",
       "      <td>2020</td>\n",
       "      <td>18 890 км</td>\n",
       "      <td>лифтбек</td>\n",
       "      <td>синий</td>\n",
       "      <td>...</td>\n",
       "      <td>NaN</td>\n",
       "      <td>Рассмотрю варианты</td>\n",
       "      <td>NaN</td>\n",
       "      <td>NaN</td>\n",
       "      <td>NaN</td>\n",
       "      <td>Бензин</td>\n",
       "      <td>110 л.с.</td>\n",
       "      <td>1.6 л</td>\n",
       "      <td>Skoda</td>\n",
       "      <td>2020.0</td>\n",
       "    </tr>\n",
       "    <tr>\n",
       "      <th>2</th>\n",
       "      <td>Skoda Superb II</td>\n",
       "      <td>https://auto.ru/cars/used/sale/skoda/superb/11...</td>\n",
       "      <td>1 450 000 ₽</td>\n",
       "      <td>5.0</td>\n",
       "      <td>II 2008 – 2013</td>\n",
       "      <td>1638365399</td>\n",
       "      <td>2012</td>\n",
       "      <td>119 730 км</td>\n",
       "      <td>универсал 5 дв.</td>\n",
       "      <td>пурпурный</td>\n",
       "      <td>...</td>\n",
       "      <td>******|197</td>\n",
       "      <td>NaN</td>\n",
       "      <td>NaN</td>\n",
       "      <td>NaN</td>\n",
       "      <td>NaN</td>\n",
       "      <td>Дизель</td>\n",
       "      <td>140 л.с.</td>\n",
       "      <td>2.0 л</td>\n",
       "      <td>Skoda</td>\n",
       "      <td>2008.0</td>\n",
       "    </tr>\n",
       "    <tr>\n",
       "      <th>3</th>\n",
       "      <td>Skoda Superb II</td>\n",
       "      <td>https://auto.ru/cars/used/sale/skoda/superb/11...</td>\n",
       "      <td>690 000 ₽</td>\n",
       "      <td>5.0</td>\n",
       "      <td>II 2008 – 2013</td>\n",
       "      <td>1638365402</td>\n",
       "      <td>2011</td>\n",
       "      <td>210 000 км</td>\n",
       "      <td>лифтбек</td>\n",
       "      <td>чёрный</td>\n",
       "      <td>...</td>\n",
       "      <td>******|190</td>\n",
       "      <td>NaN</td>\n",
       "      <td>NaN</td>\n",
       "      <td>NaN</td>\n",
       "      <td>NaN</td>\n",
       "      <td>Бензин</td>\n",
       "      <td>152 л.с.</td>\n",
       "      <td>1.8 л</td>\n",
       "      <td>Skoda</td>\n",
       "      <td>2008.0</td>\n",
       "    </tr>\n",
       "    <tr>\n",
       "      <th>4</th>\n",
       "      <td>Skoda Octavia I (A4) Рестайлинг</td>\n",
       "      <td>https://auto.ru/cars/used/sale/skoda/octavia/1...</td>\n",
       "      <td>215 000 ₽</td>\n",
       "      <td>5.0</td>\n",
       "      <td>I (A4) Рестайлинг 2000 – 2011</td>\n",
       "      <td>1638365404</td>\n",
       "      <td>2000</td>\n",
       "      <td>183 800 км</td>\n",
       "      <td>лифтбек</td>\n",
       "      <td>зелёный</td>\n",
       "      <td>...</td>\n",
       "      <td>******|198</td>\n",
       "      <td>NaN</td>\n",
       "      <td>NaN</td>\n",
       "      <td>NaN</td>\n",
       "      <td>NaN</td>\n",
       "      <td>Бензин</td>\n",
       "      <td>150 л.с.</td>\n",
       "      <td>1.8 л</td>\n",
       "      <td>Skoda</td>\n",
       "      <td>2000.0</td>\n",
       "    </tr>\n",
       "  </tbody>\n",
       "</table>\n",
       "<p>5 rows × 33 columns</p>\n",
       "</div>"
      ],
      "text/plain": [
       "                             model  \\\n",
       "0                   Skoda Kodiaq I   \n",
       "1                   Skoda Rapid II   \n",
       "2                  Skoda Superb II   \n",
       "3                  Skoda Superb II   \n",
       "4  Skoda Octavia I (A4) Рестайлинг   \n",
       "\n",
       "                                                 url        price  \\\n",
       "0  https://auto.ru/cars/used/sale/skoda/kodiaq/11...  2 400 000 ₽   \n",
       "1  https://auto.ru/cars/used/sale/skoda/rapid/110...  1 525 000 ₽   \n",
       "2  https://auto.ru/cars/used/sale/skoda/superb/11...  1 450 000 ₽   \n",
       "3  https://auto.ru/cars/used/sale/skoda/superb/11...    690 000 ₽   \n",
       "4  https://auto.ru/cars/used/sale/skoda/octavia/1...    215 000 ₽   \n",
       "\n",
       "   doors_amount                      model_year  parsing_unixtime  \\\n",
       "0           5.0                  I 2016 – н.в.         1638365394   \n",
       "1           5.0                 II 2020 – н.в.         1638365396   \n",
       "2           5.0                 II 2008 – 2013         1638365399   \n",
       "3           5.0                 II 2008 – 2013         1638365402   \n",
       "4           5.0  I (A4) Рестайлинг 2000 – 2011         1638365404   \n",
       "\n",
       "   год выпуска      Пробег              Кузов       Цвет  ...    Госномер  \\\n",
       "0         2019   20 000 км  внедорожник 5 дв.      белый  ...  ******|126   \n",
       "1         2020   18 890 км            лифтбек      синий  ...         NaN   \n",
       "2         2012  119 730 км    универсал 5 дв.  пурпурный  ...  ******|197   \n",
       "3         2011  210 000 км            лифтбек     чёрный  ...  ******|190   \n",
       "4         2000  183 800 км            лифтбек    зелёный  ...  ******|198   \n",
       "\n",
       "                Обмен Кузов № Запас хода Статус fuel_type enginePower  \\\n",
       "0                 NaN     NaN        NaN    NaN    Бензин   150 л.с.    \n",
       "1  Рассмотрю варианты     NaN        NaN    NaN    Бензин   110 л.с.    \n",
       "2                 NaN     NaN        NaN    NaN    Дизель   140 л.с.    \n",
       "3                 NaN     NaN        NaN    NaN    Бензин   152 л.с.    \n",
       "4                 NaN     NaN        NaN    NaN    Бензин   150 л.с.    \n",
       "\n",
       "  engineVolume  brand modelDate  \n",
       "0       1.4 л   Skoda    2016.0  \n",
       "1       1.6 л   Skoda    2020.0  \n",
       "2       2.0 л   Skoda    2008.0  \n",
       "3       1.8 л   Skoda    2008.0  \n",
       "4       1.8 л   Skoda    2000.0  \n",
       "\n",
       "[5 rows x 33 columns]"
      ]
     },
     "execution_count": 56,
     "metadata": {},
     "output_type": "execute_result"
    }
   ],
   "source": [
    "data_train.head()"
   ]
  },
  {
   "cell_type": "code",
   "execution_count": 57,
   "id": "10a66cfa",
   "metadata": {},
   "outputs": [
    {
     "data": {
      "text/html": [
       "<div>\n",
       "<style scoped>\n",
       "    .dataframe tbody tr th:only-of-type {\n",
       "        vertical-align: middle;\n",
       "    }\n",
       "\n",
       "    .dataframe tbody tr th {\n",
       "        vertical-align: top;\n",
       "    }\n",
       "\n",
       "    .dataframe thead th {\n",
       "        text-align: right;\n",
       "    }\n",
       "</style>\n",
       "<table border=\"1\" class=\"dataframe\">\n",
       "  <thead>\n",
       "    <tr style=\"text-align: right;\">\n",
       "      <th></th>\n",
       "      <th>bodyType</th>\n",
       "      <th>brand</th>\n",
       "      <th>car_url</th>\n",
       "      <th>color</th>\n",
       "      <th>complectation_dict</th>\n",
       "      <th>description</th>\n",
       "      <th>engineDisplacement</th>\n",
       "      <th>enginePower</th>\n",
       "      <th>equipment_dict</th>\n",
       "      <th>fuelType</th>\n",
       "      <th>...</th>\n",
       "      <th>vehicleConfiguration</th>\n",
       "      <th>vehicleTransmission</th>\n",
       "      <th>vendor</th>\n",
       "      <th>Владельцы</th>\n",
       "      <th>Владение</th>\n",
       "      <th>ПТС</th>\n",
       "      <th>Привод</th>\n",
       "      <th>Руль</th>\n",
       "      <th>Состояние</th>\n",
       "      <th>Таможня</th>\n",
       "    </tr>\n",
       "  </thead>\n",
       "  <tbody>\n",
       "    <tr>\n",
       "      <th>0</th>\n",
       "      <td>лифтбек</td>\n",
       "      <td>SKODA</td>\n",
       "      <td>https://auto.ru/cars/used/sale/skoda/octavia/1...</td>\n",
       "      <td>синий</td>\n",
       "      <td>NaN</td>\n",
       "      <td>Все автомобили, представленные в продаже, прох...</td>\n",
       "      <td>1.2 LTR</td>\n",
       "      <td>105 N12</td>\n",
       "      <td>{\"engine-proof\":true,\"tinted-glass\":true,\"airb...</td>\n",
       "      <td>бензин</td>\n",
       "      <td>...</td>\n",
       "      <td>LIFTBACK ROBOT 1.2</td>\n",
       "      <td>роботизированная</td>\n",
       "      <td>EUROPEAN</td>\n",
       "      <td>3 или более</td>\n",
       "      <td>NaN</td>\n",
       "      <td>Оригинал</td>\n",
       "      <td>передний</td>\n",
       "      <td>Левый</td>\n",
       "      <td>Не требует ремонта</td>\n",
       "      <td>Растаможен</td>\n",
       "    </tr>\n",
       "    <tr>\n",
       "      <th>1</th>\n",
       "      <td>лифтбек</td>\n",
       "      <td>SKODA</td>\n",
       "      <td>https://auto.ru/cars/used/sale/skoda/octavia/1...</td>\n",
       "      <td>чёрный</td>\n",
       "      <td>NaN</td>\n",
       "      <td>ЛОТ: 01217195\\nАвтопрага Север\\nДанный автомоб...</td>\n",
       "      <td>1.6 LTR</td>\n",
       "      <td>110 N12</td>\n",
       "      <td>{\"cruise-control\":true,\"asr\":true,\"esp\":true,\"...</td>\n",
       "      <td>бензин</td>\n",
       "      <td>...</td>\n",
       "      <td>LIFTBACK MECHANICAL 1.6</td>\n",
       "      <td>механическая</td>\n",
       "      <td>EUROPEAN</td>\n",
       "      <td>1 владелец</td>\n",
       "      <td>NaN</td>\n",
       "      <td>Оригинал</td>\n",
       "      <td>передний</td>\n",
       "      <td>Левый</td>\n",
       "      <td>Не требует ремонта</td>\n",
       "      <td>Растаможен</td>\n",
       "    </tr>\n",
       "    <tr>\n",
       "      <th>2</th>\n",
       "      <td>лифтбек</td>\n",
       "      <td>SKODA</td>\n",
       "      <td>https://auto.ru/cars/used/sale/skoda/superb/11...</td>\n",
       "      <td>серый</td>\n",
       "      <td>{\"id\":\"20026336\",\"name\":\"Ambition\",\"available_...</td>\n",
       "      <td>Все автомобили, представленные в продаже, прох...</td>\n",
       "      <td>1.8 LTR</td>\n",
       "      <td>152 N12</td>\n",
       "      <td>{\"cruise-control\":true,\"tinted-glass\":true,\"es...</td>\n",
       "      <td>бензин</td>\n",
       "      <td>...</td>\n",
       "      <td>LIFTBACK ROBOT 1.8</td>\n",
       "      <td>роботизированная</td>\n",
       "      <td>EUROPEAN</td>\n",
       "      <td>1 владелец</td>\n",
       "      <td>NaN</td>\n",
       "      <td>Оригинал</td>\n",
       "      <td>передний</td>\n",
       "      <td>Левый</td>\n",
       "      <td>Не требует ремонта</td>\n",
       "      <td>Растаможен</td>\n",
       "    </tr>\n",
       "    <tr>\n",
       "      <th>3</th>\n",
       "      <td>лифтбек</td>\n",
       "      <td>SKODA</td>\n",
       "      <td>https://auto.ru/cars/used/sale/skoda/octavia/1...</td>\n",
       "      <td>коричневый</td>\n",
       "      <td>{\"id\":\"20803582\",\"name\":\"Ambition\",\"available_...</td>\n",
       "      <td>КОМПЛЕКТ ЗИМНЕЙ (ЛЕТНЕЙ) РЕЗИНЫ ПО СЕЗОНУ В ПО...</td>\n",
       "      <td>1.6 LTR</td>\n",
       "      <td>110 N12</td>\n",
       "      <td>{\"cruise-control\":true,\"roller-blind-for-rear-...</td>\n",
       "      <td>бензин</td>\n",
       "      <td>...</td>\n",
       "      <td>LIFTBACK AUTOMATIC 1.6</td>\n",
       "      <td>автоматическая</td>\n",
       "      <td>EUROPEAN</td>\n",
       "      <td>1 владелец</td>\n",
       "      <td>NaN</td>\n",
       "      <td>Оригинал</td>\n",
       "      <td>передний</td>\n",
       "      <td>Левый</td>\n",
       "      <td>Не требует ремонта</td>\n",
       "      <td>Растаможен</td>\n",
       "    </tr>\n",
       "    <tr>\n",
       "      <th>4</th>\n",
       "      <td>лифтбек</td>\n",
       "      <td>SKODA</td>\n",
       "      <td>https://auto.ru/cars/used/sale/skoda/octavia/1...</td>\n",
       "      <td>белый</td>\n",
       "      <td>NaN</td>\n",
       "      <td>ЛОТ: 01220889\\nАвтопрага Север\\n\\nВы можете по...</td>\n",
       "      <td>1.8 LTR</td>\n",
       "      <td>152 N12</td>\n",
       "      <td>{\"cruise-control\":true,\"asr\":true,\"esp\":true,\"...</td>\n",
       "      <td>бензин</td>\n",
       "      <td>...</td>\n",
       "      <td>LIFTBACK AUTOMATIC 1.8</td>\n",
       "      <td>автоматическая</td>\n",
       "      <td>EUROPEAN</td>\n",
       "      <td>1 владелец</td>\n",
       "      <td>NaN</td>\n",
       "      <td>Оригинал</td>\n",
       "      <td>передний</td>\n",
       "      <td>Левый</td>\n",
       "      <td>Не требует ремонта</td>\n",
       "      <td>Растаможен</td>\n",
       "    </tr>\n",
       "  </tbody>\n",
       "</table>\n",
       "<p>5 rows × 32 columns</p>\n",
       "</div>"
      ],
      "text/plain": [
       "  bodyType  brand                                            car_url  \\\n",
       "0  лифтбек  SKODA  https://auto.ru/cars/used/sale/skoda/octavia/1...   \n",
       "1  лифтбек  SKODA  https://auto.ru/cars/used/sale/skoda/octavia/1...   \n",
       "2  лифтбек  SKODA  https://auto.ru/cars/used/sale/skoda/superb/11...   \n",
       "3  лифтбек  SKODA  https://auto.ru/cars/used/sale/skoda/octavia/1...   \n",
       "4  лифтбек  SKODA  https://auto.ru/cars/used/sale/skoda/octavia/1...   \n",
       "\n",
       "        color                                 complectation_dict  \\\n",
       "0       синий                                                NaN   \n",
       "1      чёрный                                                NaN   \n",
       "2       серый  {\"id\":\"20026336\",\"name\":\"Ambition\",\"available_...   \n",
       "3  коричневый  {\"id\":\"20803582\",\"name\":\"Ambition\",\"available_...   \n",
       "4       белый                                                NaN   \n",
       "\n",
       "                                         description engineDisplacement  \\\n",
       "0  Все автомобили, представленные в продаже, прох...            1.2 LTR   \n",
       "1  ЛОТ: 01217195\\nАвтопрага Север\\nДанный автомоб...            1.6 LTR   \n",
       "2  Все автомобили, представленные в продаже, прох...            1.8 LTR   \n",
       "3  КОМПЛЕКТ ЗИМНЕЙ (ЛЕТНЕЙ) РЕЗИНЫ ПО СЕЗОНУ В ПО...            1.6 LTR   \n",
       "4  ЛОТ: 01220889\\nАвтопрага Север\\n\\nВы можете по...            1.8 LTR   \n",
       "\n",
       "  enginePower                                     equipment_dict fuelType  \\\n",
       "0     105 N12  {\"engine-proof\":true,\"tinted-glass\":true,\"airb...   бензин   \n",
       "1     110 N12  {\"cruise-control\":true,\"asr\":true,\"esp\":true,\"...   бензин   \n",
       "2     152 N12  {\"cruise-control\":true,\"tinted-glass\":true,\"es...   бензин   \n",
       "3     110 N12  {\"cruise-control\":true,\"roller-blind-for-rear-...   бензин   \n",
       "4     152 N12  {\"cruise-control\":true,\"asr\":true,\"esp\":true,\"...   бензин   \n",
       "\n",
       "   ...     vehicleConfiguration  vehicleTransmission    vendor    Владельцы  \\\n",
       "0  ...       LIFTBACK ROBOT 1.2     роботизированная  EUROPEAN  3 или более   \n",
       "1  ...  LIFTBACK MECHANICAL 1.6         механическая  EUROPEAN   1 владелец   \n",
       "2  ...       LIFTBACK ROBOT 1.8     роботизированная  EUROPEAN   1 владелец   \n",
       "3  ...   LIFTBACK AUTOMATIC 1.6       автоматическая  EUROPEAN   1 владелец   \n",
       "4  ...   LIFTBACK AUTOMATIC 1.8       автоматическая  EUROPEAN   1 владелец   \n",
       "\n",
       "  Владение       ПТС    Привод   Руль           Состояние     Таможня  \n",
       "0      NaN  Оригинал  передний  Левый  Не требует ремонта  Растаможен  \n",
       "1      NaN  Оригинал  передний  Левый  Не требует ремонта  Растаможен  \n",
       "2      NaN  Оригинал  передний  Левый  Не требует ремонта  Растаможен  \n",
       "3      NaN  Оригинал  передний  Левый  Не требует ремонта  Растаможен  \n",
       "4      NaN  Оригинал  передний  Левый  Не требует ремонта  Растаможен  \n",
       "\n",
       "[5 rows x 32 columns]"
      ]
     },
     "execution_count": 57,
     "metadata": {},
     "output_type": "execute_result"
    }
   ],
   "source": [
    "data_test.head()"
   ]
  },
  {
   "cell_type": "code",
   "execution_count": 58,
   "id": "9791993f",
   "metadata": {},
   "outputs": [
    {
     "name": "stdout",
     "output_type": "stream",
     "text": [
      "<class 'pandas.core.frame.DataFrame'>\n",
      "RangeIndex: 36835 entries, 0 to 36834\n",
      "Data columns (total 33 columns):\n",
      " #   Column            Non-Null Count  Dtype  \n",
      "---  ------            --------------  -----  \n",
      " 0   model             36835 non-null  object \n",
      " 1   url               36835 non-null  object \n",
      " 2   price             36835 non-null  object \n",
      " 3   doors_amount      36826 non-null  float64\n",
      " 4   model_year        36826 non-null  object \n",
      " 5   parsing_unixtime  36835 non-null  int64  \n",
      " 6   год выпуска       36835 non-null  int64  \n",
      " 7   Пробег            36835 non-null  object \n",
      " 8   Кузов             36835 non-null  object \n",
      " 9   Цвет              36835 non-null  object \n",
      " 10  Двигатель         36835 non-null  object \n",
      " 11  Комплектация      29901 non-null  object \n",
      " 12  Налог             36046 non-null  object \n",
      " 13  Коробка           36835 non-null  object \n",
      " 14  Привод            36835 non-null  object \n",
      " 15  Руль              36835 non-null  object \n",
      " 16  Состояние         36835 non-null  object \n",
      " 17  Владельцы         36834 non-null  object \n",
      " 18  ПТС               36835 non-null  object \n",
      " 19  Владение          7676 non-null   object \n",
      " 20  Таможня           36835 non-null  object \n",
      " 21  Гарантия          5079 non-null   object \n",
      " 22  VIN               34054 non-null  object \n",
      " 23  Госномер          15053 non-null  object \n",
      " 24  Обмен             18350 non-null  object \n",
      " 25  Кузов №           2444 non-null   object \n",
      " 26  Запас хода        119 non-null    object \n",
      " 27  Статус            15 non-null     object \n",
      " 28  fuel_type         36835 non-null  object \n",
      " 29  enginePower       36835 non-null  object \n",
      " 30  engineVolume      36835 non-null  object \n",
      " 31  brand             36835 non-null  object \n",
      " 32  modelDate         36826 non-null  float64\n",
      "dtypes: float64(2), int64(2), object(29)\n",
      "memory usage: 9.3+ MB\n"
     ]
    }
   ],
   "source": [
    "data_train.info()"
   ]
  },
  {
   "cell_type": "code",
   "execution_count": 59,
   "id": "568d19d8",
   "metadata": {},
   "outputs": [
    {
     "name": "stdout",
     "output_type": "stream",
     "text": [
      "<class 'pandas.core.frame.DataFrame'>\n",
      "RangeIndex: 34686 entries, 0 to 34685\n",
      "Data columns (total 32 columns):\n",
      " #   Column                Non-Null Count  Dtype \n",
      "---  ------                --------------  ----- \n",
      " 0   bodyType              34686 non-null  object\n",
      " 1   brand                 34686 non-null  object\n",
      " 2   car_url               34686 non-null  object\n",
      " 3   color                 34686 non-null  object\n",
      " 4   complectation_dict    6418 non-null   object\n",
      " 5   description           34686 non-null  object\n",
      " 6   engineDisplacement    34686 non-null  object\n",
      " 7   enginePower           34686 non-null  object\n",
      " 8   equipment_dict        24690 non-null  object\n",
      " 9   fuelType              34686 non-null  object\n",
      " 10  image                 34686 non-null  object\n",
      " 11  mileage               34686 non-null  int64 \n",
      " 12  modelDate             34686 non-null  int64 \n",
      " 13  model_info            34686 non-null  object\n",
      " 14  model_name            34686 non-null  object\n",
      " 15  name                  34686 non-null  object\n",
      " 16  numberOfDoors         34686 non-null  int64 \n",
      " 17  parsing_unixtime      34686 non-null  int64 \n",
      " 18  priceCurrency         34686 non-null  object\n",
      " 19  productionDate        34686 non-null  int64 \n",
      " 20  sell_id               34686 non-null  int64 \n",
      " 21  super_gen             34686 non-null  object\n",
      " 22  vehicleConfiguration  34686 non-null  object\n",
      " 23  vehicleTransmission   34686 non-null  object\n",
      " 24  vendor                34686 non-null  object\n",
      " 25  Владельцы             34686 non-null  object\n",
      " 26  Владение              11995 non-null  object\n",
      " 27  ПТС                   34685 non-null  object\n",
      " 28  Привод                34686 non-null  object\n",
      " 29  Руль                  34686 non-null  object\n",
      " 30  Состояние             34686 non-null  object\n",
      " 31  Таможня               34686 non-null  object\n",
      "dtypes: int64(6), object(26)\n",
      "memory usage: 8.5+ MB\n"
     ]
    }
   ],
   "source": [
    "data_test.info()"
   ]
  },
  {
   "cell_type": "code",
   "execution_count": 60,
   "id": "a2404906",
   "metadata": {},
   "outputs": [],
   "source": [
    "data_train = data_train.rename(columns={'fuel_type': 'fuelType', 'url': 'car_url', \n",
    "                                        'doors_amount': 'numberOfDoors', 'Кузов': 'bodyType',\n",
    "                                        'Цвет': 'color', 'engineVolume': 'engineDisplacement',\n",
    "                                        'Пробег': 'mileage', 'год выпуска': 'productionDate', \n",
    "                                        'Коробка': 'vehicleTransmission'})"
   ]
  },
  {
   "cell_type": "code",
   "execution_count": 61,
   "id": "9219338f",
   "metadata": {},
   "outputs": [],
   "source": [
    "#ProfileReport(data_train, title=\"Pandas Profiling Report for Train Dataset\")"
   ]
  },
  {
   "cell_type": "code",
   "execution_count": 62,
   "id": "f4730213",
   "metadata": {},
   "outputs": [],
   "source": [
    "#ProfileReport(data_test, title=\"Pandas Profiling Report for Test Dataset\")"
   ]
  },
  {
   "cell_type": "code",
   "execution_count": 63,
   "id": "a13c78d4",
   "metadata": {},
   "outputs": [],
   "source": [
    "# Создадим список с колонками, которые присутствуют и в train, и в test\n",
    "\n",
    "cols_intersection = list(set(data_test.columns).intersection(data_train.columns))"
   ]
  },
  {
   "cell_type": "code",
   "execution_count": 64,
   "id": "8e79b00f",
   "metadata": {},
   "outputs": [
    {
     "name": "stdout",
     "output_type": "stream",
     "text": [
      "Найдены расхождения в типах данных для:\n",
      "\t- колонки numberOfDoors: для train - <class 'numpy.float64'>, для test - <class 'numpy.int64'>\n",
      "\t- колонки mileage: для train - <class 'str'>, для test - <class 'numpy.int64'>\n",
      "\t- колонки modelDate: для train - <class 'numpy.float64'>, для test - <class 'numpy.int64'>\n",
      "\t- колонки Владение: для train - <class 'str'>, для test - <class 'float'>\n"
     ]
    }
   ],
   "source": [
    "# Проверим, в каких колонках типы данных различаются у train и test\n",
    "\n",
    "cols_type_dif = []  \n",
    "print(\"Найдены расхождения в типах данных для:\")\n",
    "\n",
    "for col in cols_intersection:\n",
    "    if type(data_test[col][0]) != type(data_train[col][0]):\n",
    "        print(\n",
    "            f\"\\t- колонки {col}: для train - {type(data_train[col][0])}, для test - {type(data_test[col][0])}\")\n",
    "        cols_type_dif.append(col)"
   ]
  },
  {
   "cell_type": "code",
   "execution_count": 65,
   "id": "aa1c77c0",
   "metadata": {},
   "outputs": [
    {
     "name": "stdout",
     "output_type": "stream",
     "text": [
      "Пример значения для train [2011.]\n",
      "Пример значения для test [1997]\n"
     ]
    }
   ],
   "source": [
    "print(\"Пример значения для train\", data_train['modelDate'].sample(1).values)\n",
    "print(\"Пример значения для test\", data_test['modelDate'].sample(1).values)"
   ]
  },
  {
   "cell_type": "code",
   "execution_count": 66,
   "id": "6f49fae6",
   "metadata": {},
   "outputs": [],
   "source": [
    "data_train['modelDate']=data_train['modelDate'].astype('Int64')"
   ]
  },
  {
   "cell_type": "code",
   "execution_count": 67,
   "id": "819d27f8",
   "metadata": {},
   "outputs": [
    {
     "name": "stdout",
     "output_type": "stream",
     "text": [
      "Пример значения для train ['104 565 км']\n",
      "Пример значения для test [169723]\n"
     ]
    }
   ],
   "source": [
    "print(\"Пример значения для train\", data_train['mileage'].sample(1).values)\n",
    "print(\"Пример значения для test\", data_test['mileage'].sample(1).values)"
   ]
  },
  {
   "cell_type": "code",
   "execution_count": 68,
   "id": "b2bf6358",
   "metadata": {},
   "outputs": [],
   "source": [
    "# Функция перевеодит формат данных \"y yyy км\" в количество км.\n",
    "\n",
    "def num_of_km(row):\n",
    "    if pd.notnull(row):\n",
    "        list_km = row.split(' ')\n",
    "        if len(list_km) == 2: \n",
    "            if list_km[1] in ['км']:\n",
    "                return int(list_km[0])\n",
    "        return int(list_km[0]+list_km[1])"
   ]
  },
  {
   "cell_type": "code",
   "execution_count": 69,
   "id": "15f40219",
   "metadata": {},
   "outputs": [],
   "source": [
    "data_train['mileage'] = data_train['mileage'].apply(num_of_km)"
   ]
  },
  {
   "cell_type": "code",
   "execution_count": 70,
   "id": "b871f50c",
   "metadata": {},
   "outputs": [
    {
     "name": "stdout",
     "output_type": "stream",
     "text": [
      "Пример значения для train [5.]\n",
      "Пример значения для test [4]\n"
     ]
    }
   ],
   "source": [
    "print(\"Пример значения для train\", data_train['numberOfDoors'].sample(1).values)\n",
    "print(\"Пример значения для test\", data_test['numberOfDoors'].sample(1).values)"
   ]
  },
  {
   "cell_type": "code",
   "execution_count": 71,
   "id": "7ca2c46e",
   "metadata": {},
   "outputs": [],
   "source": [
    "data_train['numberOfDoors']=data_train['numberOfDoors'].astype('Int64')"
   ]
  },
  {
   "cell_type": "code",
   "execution_count": 72,
   "id": "a4574b81",
   "metadata": {},
   "outputs": [],
   "source": [
    "# Удалим колонку Владение, потому что в ней очень много пропусков и по смыслу коррелируется информация из Пробега и Дате Выпуска. "
   ]
  },
  {
   "cell_type": "code",
   "execution_count": 73,
   "id": "58e5b537",
   "metadata": {},
   "outputs": [],
   "source": [
    "cols_to_del_train.append('Владение')\n",
    "cols_to_del_test.append('Владение')"
   ]
  },
  {
   "cell_type": "code",
   "execution_count": 74,
   "id": "69d8ae80",
   "metadata": {},
   "outputs": [
    {
     "data": {
      "text/plain": [
       "['Таможня',\n",
       " 'numberOfDoors',\n",
       " 'enginePower',\n",
       " 'parsing_unixtime',\n",
       " 'engineDisplacement',\n",
       " 'ПТС',\n",
       " 'mileage',\n",
       " 'modelDate',\n",
       " 'Привод',\n",
       " 'Состояние',\n",
       " 'bodyType',\n",
       " 'color',\n",
       " 'vehicleTransmission',\n",
       " 'Владение',\n",
       " 'productionDate',\n",
       " 'fuelType',\n",
       " 'Руль',\n",
       " 'brand',\n",
       " 'car_url',\n",
       " 'Владельцы']"
      ]
     },
     "execution_count": 74,
     "metadata": {},
     "output_type": "execute_result"
    }
   ],
   "source": [
    "cols_intersection"
   ]
  },
  {
   "cell_type": "markdown",
   "id": "c33831b8",
   "metadata": {},
   "source": [
    "# Начнем обработку признаков с цены, а следом с общих признаков в датасетах"
   ]
  },
  {
   "cell_type": "markdown",
   "id": "2e48a2ac",
   "metadata": {},
   "source": [
    "# Price"
   ]
  },
  {
   "cell_type": "code",
   "execution_count": 75,
   "id": "32da1c8f",
   "metadata": {},
   "outputs": [
    {
     "data": {
      "text/plain": [
       "6307     1 250 000 ₽\n",
       "2602       435 000 ₽\n",
       "32627      350 000 ₽\n",
       "Name: price, dtype: object"
      ]
     },
     "execution_count": 75,
     "metadata": {},
     "output_type": "execute_result"
    }
   ],
   "source": [
    "data_train['price'].sample(3)"
   ]
  },
  {
   "cell_type": "code",
   "execution_count": 76,
   "id": "38862e0b",
   "metadata": {},
   "outputs": [],
   "source": [
    "data_train['price'] = data_train['price'].str.replace(' ', '')\n",
    "data_train['price']=data_train['price'].str.replace('₽', '')\n",
    "data_train = data_train[data_train['price'] != 'sold']\n",
    "data_train['price']=data_train.price.astype(float).astype('Int64')"
   ]
  },
  {
   "cell_type": "code",
   "execution_count": 77,
   "id": "d7733878",
   "metadata": {},
   "outputs": [
    {
     "data": {
      "image/png": "[encoded data removed]",
      "text/plain": [
       "<Figure size 720x360 with 1 Axes>"
      ]
     },
     "metadata": {},
     "output_type": "display_data"
    }
   ],
   "source": [
    "# Посмотрим на распределение целевой переменной\n",
    "fig, ax = plt.subplots(figsize=(10, 5))\n",
    "sns.histplot(data=data_train, x='price')\n",
    "plt.title(\"Распределение целевой переменной \\n\")\n",
    "plt.show()"
   ]
  },
  {
   "cell_type": "code",
   "execution_count": 78,
   "id": "3d2cd0e1",
   "metadata": {},
   "outputs": [
    {
     "data": {
      "text/plain": [
       "(2353, -1532500.0, 4551500.0)"
      ]
     },
     "execution_count": 78,
     "metadata": {},
     "output_type": "execute_result"
    }
   ],
   "source": [
    "outliers(data_train.price)"
   ]
  },
  {
   "cell_type": "code",
   "execution_count": 79,
   "id": "95d0fcb2",
   "metadata": {},
   "outputs": [
    {
     "data": {
      "text/html": [
       "<div>\n",
       "<style scoped>\n",
       "    .dataframe tbody tr th:only-of-type {\n",
       "        vertical-align: middle;\n",
       "    }\n",
       "\n",
       "    .dataframe tbody tr th {\n",
       "        vertical-align: top;\n",
       "    }\n",
       "\n",
       "    .dataframe thead th {\n",
       "        text-align: right;\n",
       "    }\n",
       "</style>\n",
       "<table border=\"1\" class=\"dataframe\">\n",
       "  <thead>\n",
       "    <tr style=\"text-align: right;\">\n",
       "      <th></th>\n",
       "      <th>count</th>\n",
       "      <th>max</th>\n",
       "    </tr>\n",
       "    <tr>\n",
       "      <th>brand</th>\n",
       "      <th></th>\n",
       "      <th></th>\n",
       "    </tr>\n",
       "  </thead>\n",
       "  <tbody>\n",
       "    <tr>\n",
       "      <th>BMW</th>\n",
       "      <td>586</td>\n",
       "      <td>90000000</td>\n",
       "    </tr>\n",
       "    <tr>\n",
       "      <th>Honda</th>\n",
       "      <td>1</td>\n",
       "      <td>5000001</td>\n",
       "    </tr>\n",
       "    <tr>\n",
       "      <th>Infiniti</th>\n",
       "      <td>51</td>\n",
       "      <td>8500000</td>\n",
       "    </tr>\n",
       "    <tr>\n",
       "      <th>Lexus</th>\n",
       "      <td>446</td>\n",
       "      <td>23300000</td>\n",
       "    </tr>\n",
       "    <tr>\n",
       "      <th>Mercedes-Benz</th>\n",
       "      <td>873</td>\n",
       "      <td>80000000</td>\n",
       "    </tr>\n",
       "    <tr>\n",
       "      <th>Mitsubishi</th>\n",
       "      <td>2</td>\n",
       "      <td>7000000</td>\n",
       "    </tr>\n",
       "    <tr>\n",
       "      <th>Nissan</th>\n",
       "      <td>3</td>\n",
       "      <td>6999999</td>\n",
       "    </tr>\n",
       "    <tr>\n",
       "      <th>Toyota</th>\n",
       "      <td>256</td>\n",
       "      <td>14900000</td>\n",
       "    </tr>\n",
       "    <tr>\n",
       "      <th>Volkswagen</th>\n",
       "      <td>64</td>\n",
       "      <td>7200000</td>\n",
       "    </tr>\n",
       "    <tr>\n",
       "      <th>Volvo</th>\n",
       "      <td>71</td>\n",
       "      <td>6996851</td>\n",
       "    </tr>\n",
       "  </tbody>\n",
       "</table>\n",
       "</div>"
      ],
      "text/plain": [
       "               count       max\n",
       "brand                         \n",
       "BMW              586  90000000\n",
       "Honda              1   5000001\n",
       "Infiniti          51   8500000\n",
       "Lexus            446  23300000\n",
       "Mercedes-Benz    873  80000000\n",
       "Mitsubishi         2   7000000\n",
       "Nissan             3   6999999\n",
       "Toyota           256  14900000\n",
       "Volkswagen        64   7200000\n",
       "Volvo             71   6996851"
      ]
     },
     "execution_count": 79,
     "metadata": {},
     "output_type": "execute_result"
    }
   ],
   "source": [
    "# Посмотрим, какие машины имеют особо высокие цены\n",
    "data_train[(data_train.price > 4551500.0)].groupby(['brand'])['price'].agg(['count', 'max'])"
   ]
  },
  {
   "cell_type": "markdown",
   "id": "664614bb",
   "metadata": {},
   "source": [
    "Eсть очень дорогие авто, которые представлены и в тестовой выборке. Похоже, что эти бренды могут быть экстренно дорогие. Оставим как есть, можно в будещем попробовать удалить автомобилии с большой ценой, где количество таких автомобилей внутри бренда меньше 10."
   ]
  },
  {
   "cell_type": "code",
   "execution_count": 80,
   "id": "e5ca46f5",
   "metadata": {},
   "outputs": [
    {
     "data": {
      "text/plain": [
       "<AxesSubplot:>"
      ]
     },
     "execution_count": 80,
     "metadata": {},
     "output_type": "execute_result"
    },
    {
     "data": {
      "image/png": "[encoded data removed]",
      "text/plain": [
       "<Figure size 432x288 with 1 Axes>"
      ]
     },
     "metadata": {},
     "output_type": "display_data"
    }
   ],
   "source": [
    "# Распределение цены с очень сильным правым хвостом, посмотрим на признак взяв логорифм от цены\n",
    "\n",
    "np.log(data_train['price'] + 1).hist()"
   ]
  },
  {
   "cell_type": "code",
   "execution_count": 81,
   "id": "588de669",
   "metadata": {},
   "outputs": [],
   "source": [
    "#Распределение стало намного нормальнее. Отправим признак на стандартизацию\n",
    "\n",
    "num_cols.append('price')"
   ]
  },
  {
   "cell_type": "markdown",
   "id": "6b135956",
   "metadata": {},
   "source": [
    "# Владельцы"
   ]
  },
  {
   "cell_type": "code",
   "execution_count": 82,
   "id": "20216239",
   "metadata": {},
   "outputs": [
    {
     "name": "stdout",
     "output_type": "stream",
     "text": [
      "Значения в train ['1 владелец' '3 или более' '2 владельца' nan]\n",
      "Значения в test ['3 или более' '1\\xa0владелец' '2\\xa0владельца']\n"
     ]
    }
   ],
   "source": [
    "print(\"Значения в train\", data_train['Владельцы'].unique())\n",
    "print(\"Значения в test\", data_test['Владельцы'].unique())"
   ]
  },
  {
   "cell_type": "code",
   "execution_count": 83,
   "id": "05916566",
   "metadata": {},
   "outputs": [],
   "source": [
    "# Удаояем 1 строку с пропуском\n",
    "\n",
    "data_train.dropna(subset=['Владельцы'], inplace=True)"
   ]
  },
  {
   "cell_type": "code",
   "execution_count": 84,
   "id": "2b2302d5",
   "metadata": {},
   "outputs": [],
   "source": [
    "ownersCount_dict = {'3 или более': 3,\n",
    "                    '1\\xa0владелец': 1,\n",
    "                    '2\\xa0владельца': 2,\n",
    "                    '1 владелец': 1, \n",
    "                    '2 владельца': 2, \n",
    "                    '3 или более': 3}"
   ]
  },
  {
   "cell_type": "code",
   "execution_count": 85,
   "id": "05c37128",
   "metadata": {},
   "outputs": [],
   "source": [
    "data_test['Владельцы'].replace(\n",
    "    to_replace=ownersCount_dict, inplace=True)\n",
    "\n",
    "data_train['Владельцы'].replace(\n",
    "    to_replace=ownersCount_dict, inplace=True)"
   ]
  },
  {
   "cell_type": "code",
   "execution_count": 86,
   "id": "9ed4c305",
   "metadata": {},
   "outputs": [
    {
     "name": "stdout",
     "output_type": "stream",
     "text": [
      "Значения в train [1 3 2]\n",
      "Значения в test [3 1 2]\n"
     ]
    }
   ],
   "source": [
    "print(\"Значения в train\", data_train['Владельцы'].unique())\n",
    "print(\"Значения в test\", data_test['Владельцы'].unique())"
   ]
  },
  {
   "cell_type": "code",
   "execution_count": 87,
   "id": "6059c01c",
   "metadata": {},
   "outputs": [],
   "source": [
    "data_train['Владельцы']=data_train['Владельцы'].astype('Int64')\n",
    "data_test['Владельцы']=data_test['Владельцы'].astype('Int64')"
   ]
  },
  {
   "cell_type": "code",
   "execution_count": 88,
   "id": "45697ad8",
   "metadata": {},
   "outputs": [
    {
     "name": "stdout",
     "output_type": "stream",
     "text": [
      "Значения в train <IntegerArray>\n",
      "[1, 3, 2]\n",
      "Length: 3, dtype: Int64\n",
      "Значения в test <IntegerArray>\n",
      "[3, 1, 2]\n",
      "Length: 3, dtype: Int64\n"
     ]
    }
   ],
   "source": [
    "print(\"Значения в train\", data_train['Владельцы'].unique())\n",
    "print(\"Значения в test\", data_test['Владельцы'].unique())"
   ]
  },
  {
   "cell_type": "code",
   "execution_count": 90,
   "id": "3766767e",
   "metadata": {},
   "outputs": [],
   "source": [
    "def break_long_names(names):\n",
    "    len_name = 12\n",
    "    short_names = []\n",
    "    for name in names:\n",
    "        if type(name) != type('') or len(name) < len_name:\n",
    "            short_names.append(name)\n",
    "        else:\n",
    "            short_names.append(name[:len_name] + '\\n' + name[len_name:])\n",
    "    else:\n",
    "        return short_names"
   ]
  },
  {
   "cell_type": "code",
   "execution_count": 91,
   "id": "c30a73dd",
   "metadata": {},
   "outputs": [],
   "source": [
    "def plot_cat_col_vs_price(data, col, ylim, num_categories=16):\n",
    "    values = data[col].value_counts().index\n",
    "    if len(values) > num_categories:\n",
    "        values = values[:num_categories]\n",
    "    values = list(values)\n",
    "    data_curr_categories = data.query(f\"{col} in {values}\")\n",
    "    curr_categories = break_long_names(data_curr_categories[col].values)\n",
    "\n",
    "    plt.figure()\n",
    "    sns.boxplot(x=curr_categories, y=data_curr_categories['price'])\n",
    "    ylim = sorted(ylim)\n",
    "    plt.ylim(ylim[0], ylim[1])\n",
    "    plt.title(col)\n",
    "    plt.xticks(rotation=45)\n",
    "    plt.xlabel('')\n",
    "    plt.ylabel('price')\n",
    "    plt.grid()\n",
    "    plt.show()"
   ]
  },
  {
   "cell_type": "code",
   "execution_count": 92,
   "id": "cff75900",
   "metadata": {},
   "outputs": [
    {
     "data": {
      "image/png": "[encoded data removed]",
      "text/plain": [
       "<Figure size 432x288 with 1 Axes>"
      ]
     },
     "metadata": {},
     "output_type": "display_data"
    }
   ],
   "source": [
    "plot_cat_col_vs_price(data_train, 'Владельцы', [0, 8e6])"
   ]
  },
  {
   "cell_type": "markdown",
   "id": "ef04a1de",
   "metadata": {},
   "source": [
    "Логично, что чем меньше владельцев было у машины, тем она младще и тем дороже. "
   ]
  },
  {
   "cell_type": "markdown",
   "id": "ad069c7f",
   "metadata": {},
   "source": [
    "cols_to_oh_encode.append('Владельцы')"
   ]
  },
  {
   "cell_type": "markdown",
   "id": "135d2e9e",
   "metadata": {},
   "source": [
    "# Car_url"
   ]
  },
  {
   "cell_type": "code",
   "execution_count": 94,
   "id": "fe3a3680",
   "metadata": {},
   "outputs": [
    {
     "name": "stdout",
     "output_type": "stream",
     "text": [
      "Пример значения для train ['https://auto.ru/cars/used/sale/skoda/kodiaq/1106065854-e0e3e9d6/'\n",
      " 'https://auto.ru/cars/used/sale/skoda/rapid/1106020729-f640cb08/'\n",
      " 'https://auto.ru/cars/used/sale/skoda/superb/1105137525-90afda78/' ...\n",
      " 'https://auto.ru/cars/used/sale/mercedes/g_klasse_amg/1105870179-abd90fb9/'\n",
      " 'https://auto.ru/cars/used/sale/mercedes/eqv/1105895074-1c3a9e3d/'\n",
      " 'https://auto.ru/cars/used/sale/mercedes/s_klasse/1105806540-60f9322f/']\n",
      "Пример значения для test ['https://auto.ru/cars/used/sale/skoda/octavia/1100575026-c780dc09/'\n",
      " 'https://auto.ru/cars/used/sale/skoda/octavia/1100549428-595cadf2/'\n",
      " 'https://auto.ru/cars/used/sale/skoda/superb/1100658222-7ac3def5/' ...\n",
      " 'https://auto.ru/cars/used/sale/bmw/5er/1101364889-0c6be825/'\n",
      " 'https://auto.ru/cars/used/sale/bmw/x1/1101362518-34628283/'\n",
      " 'https://auto.ru/cars/used/sale/bmw/x5/1101256068-ed03accb/']\n"
     ]
    }
   ],
   "source": [
    "print(\"Пример значения для train\", data_train['car_url'].unique())\n",
    "print(\"Пример значения для test\", data_test['car_url'].unique())"
   ]
  },
  {
   "cell_type": "markdown",
   "id": "8cd2457c",
   "metadata": {},
   "source": [
    "Отправляем признак в очередь на удаление"
   ]
  },
  {
   "cell_type": "code",
   "execution_count": 95,
   "id": "9e62f7b3",
   "metadata": {},
   "outputs": [],
   "source": [
    "cols_to_del_train.append('car_url')\n",
    "cols_to_del_test.append('car_url')"
   ]
  },
  {
   "cell_type": "markdown",
   "id": "c01fd718",
   "metadata": {},
   "source": [
    "# Руль"
   ]
  },
  {
   "cell_type": "code",
   "execution_count": 96,
   "id": "9f609fc7",
   "metadata": {},
   "outputs": [
    {
     "name": "stdout",
     "output_type": "stream",
     "text": [
      "Значения в train ['Левый' 'Правый']\n",
      "Значения в test ['Левый' 'Правый']\n"
     ]
    }
   ],
   "source": [
    "print(\"Значения в train\", data_train['Руль'].unique())\n",
    "print(\"Значения в test\", data_test['Руль'].unique())"
   ]
  },
  {
   "cell_type": "code",
   "execution_count": 98,
   "id": "8c72a2df",
   "metadata": {},
   "outputs": [
    {
     "data": {
      "image/png": "[encoded data removed]",
      "text/plain": [
       "<Figure size 432x288 with 1 Axes>"
      ]
     },
     "metadata": {},
     "output_type": "display_data"
    }
   ],
   "source": [
    "plot_cat_col_vs_price(data_train, 'Руль', [0, 6e6])"
   ]
  },
  {
   "cell_type": "code",
   "execution_count": 99,
   "id": "65dae1e7",
   "metadata": {},
   "outputs": [],
   "source": [
    "cols_to_oh_encode.append('Руль')"
   ]
  },
  {
   "cell_type": "markdown",
   "id": "267c5d9b",
   "metadata": {},
   "source": [
    "# FuelType"
   ]
  },
  {
   "cell_type": "code",
   "execution_count": 100,
   "id": "4bef72f7",
   "metadata": {},
   "outputs": [
    {
     "name": "stdout",
     "output_type": "stream",
     "text": [
      "Статистика значений для train\n",
      " Бензин                                29528\n",
      "Дизель                                 5793\n",
      "Гибрид                                  857\n",
      "Бензин, газобаллонное оборудование      404\n",
      "Электро                                  60\n",
      "Газ, газобаллонное оборудование           1\n",
      "Гибрид, газобаллонное оборудование        1\n",
      "Дизель, газобаллонное оборудование        1\n",
      "Газ                                       1\n",
      "Name: fuelType, dtype: int64\n",
      "Статистика значений для test\n",
      " бензин     28601\n",
      "дизель      5800\n",
      "гибрид       223\n",
      "электро       55\n",
      "газ            7\n",
      "Name: fuelType, dtype: int64\n"
     ]
    }
   ],
   "source": [
    "print(\"Статистика значений для train\\n\", data_train['fuelType'].value_counts())\n",
    "print(\"Статистика значений для test\\n\", data_test['fuelType'].value_counts())"
   ]
  },
  {
   "cell_type": "code",
   "execution_count": 101,
   "id": "a313ab26",
   "metadata": {},
   "outputs": [],
   "source": [
    "data_train['fuelType'] = data_train.fuelType.apply(lambda x: 'бензин' if x=='Бензин' \n",
    "                                                    else 'дизель' if x =='Дизель'\n",
    "                                                    else 'гибрид' if x == 'Гибрид' \n",
    "                                                    else 'электро' if x== 'Электро'\n",
    "                                                    else 'газ')"
   ]
  },
  {
   "cell_type": "code",
   "execution_count": 103,
   "id": "2222b1ee",
   "metadata": {},
   "outputs": [
    {
     "data": {
      "image/png": "[encoded data removed]",
      "text/plain": [
       "<Figure size 432x288 with 1 Axes>"
      ]
     },
     "metadata": {},
     "output_type": "display_data"
    }
   ],
   "source": [
    "plot_cat_col_vs_price(data_train, 'fuelType', [0, 8e6])"
   ]
  },
  {
   "cell_type": "code",
   "execution_count": 104,
   "id": "26b9e735",
   "metadata": {},
   "outputs": [],
   "source": [
    "cols_to_lab_encode.append('fuelType')"
   ]
  },
  {
   "cell_type": "markdown",
   "id": "f5fa9396",
   "metadata": {},
   "source": [
    "# Parsing_unixtime"
   ]
  },
  {
   "cell_type": "code",
   "execution_count": 105,
   "id": "660b38a9",
   "metadata": {},
   "outputs": [
    {
     "name": "stdout",
     "output_type": "stream",
     "text": [
      "Статистика значений для train\n",
      " 1638469630    1\n",
      "1638471016    1\n",
      "1638673775    1\n",
      "1638475118    1\n",
      "1638481261    1\n",
      "             ..\n",
      "1638682265    1\n",
      "1638662837    1\n",
      "1638470327    1\n",
      "1638492856    1\n",
      "1638465536    1\n",
      "Name: parsing_unixtime, Length: 36646, dtype: int64\n",
      "Статистика значений для test\n",
      " 1603274751    1\n",
      "1603224994    1\n",
      "1603108229    1\n",
      "1603233158    1\n",
      "1603300743    1\n",
      "             ..\n",
      "1603289821    1\n",
      "1603119840    1\n",
      "1603247872    1\n",
      "1603242724    1\n",
      "1603222137    1\n",
      "Name: parsing_unixtime, Length: 34686, dtype: int64\n"
     ]
    }
   ],
   "source": [
    "print(\"Статистика значений для train\\n\", data_train['parsing_unixtime'].value_counts())\n",
    "print(\"Статистика значений для test\\n\", data_test['parsing_unixtime'].value_counts())"
   ]
  },
  {
   "cell_type": "markdown",
   "id": "61d21632",
   "metadata": {},
   "source": [
    "Parsing_unixtime - время и дата публикации в формате unixtime. Удаляем, так как нет повторяющихся значений, а значит нам ничем он не будет полезен. "
   ]
  },
  {
   "cell_type": "code",
   "execution_count": 106,
   "id": "2e2f1808",
   "metadata": {},
   "outputs": [],
   "source": [
    "cols_to_del_train.append('parsing_unixtime')\n",
    "cols_to_del_test.append('parsing_unixtime')"
   ]
  },
  {
   "cell_type": "markdown",
   "id": "637bc856",
   "metadata": {},
   "source": [
    "# ProductionDate"
   ]
  },
  {
   "cell_type": "code",
   "execution_count": 107,
   "id": "151219a8",
   "metadata": {},
   "outputs": [
    {
     "name": "stdout",
     "output_type": "stream",
     "text": [
      "Значения в train [2019 2020 2012 2011 2000 1998 2015 2017 2007 2013 2014 2016 2001 2008\n",
      " 2010 2018 2021 2006 2005 2009 2003 1994 2002 1997 1996 1999 2004 1987\n",
      " 1989 1993 1991 1990 1959 1992 1988 1995 1986 1984 1985 1982 1978 1974\n",
      " 1979 1981 1968 1980 1983 1948 1939 1975 1976 1960 1971]\n",
      "Значения в test [2014 2017 2012 2011 2019 2018 2010 2020 2016 2013 2006 2007 2015 2005\n",
      " 2008 2009 1997 2004 2002 1987 2003 2001 1976 2000 1998 1995 1999 1993\n",
      " 1939 1996 1984 1990 1991 1992 1989 1982 1985 1994 1938 1981 1988 1983\n",
      " 1980 1986 1978 1970 1979 1977 1972 1975 1969 1950 1953 1949 1937 1959\n",
      " 1968 1936 1904 1974 1967 1961 1960 1965 1963 1957 1952 1973 1948]\n"
     ]
    }
   ],
   "source": [
    "print(\"Значения в train\", data_train['productionDate'].unique())\n",
    "print(\"Значения в test\", data_test['productionDate'].unique())"
   ]
  },
  {
   "cell_type": "code",
   "execution_count": 108,
   "id": "149f9c58",
   "metadata": {},
   "outputs": [
    {
     "name": "stdout",
     "output_type": "stream",
     "text": [
      "Минимальное значение в train 1939\n",
      "Минимальное значение в test 1904\n"
     ]
    }
   ],
   "source": [
    "print(\"Минимальное значение в train\", data_train['productionDate'].min())\n",
    "print(\"Минимальное значение в test\", data_test['productionDate'].min())"
   ]
  },
  {
   "cell_type": "markdown",
   "id": "72aceac8",
   "metadata": {},
   "source": [
    "Не будем искать и удалять выбросы, так как в тесте тоже есть старые автомобили, цену на которые надо предсказать"
   ]
  },
  {
   "cell_type": "code",
   "execution_count": 109,
   "id": "af30f7ef",
   "metadata": {},
   "outputs": [
    {
     "data": {
      "text/plain": [
       "<AxesSubplot:>"
      ]
     },
     "execution_count": 109,
     "metadata": {},
     "output_type": "execute_result"
    },
    {
     "data": {
      "image/png": "[encoded data removed]",
      "text/plain": [
       "<Figure size 432x288 with 1 Axes>"
      ]
     },
     "metadata": {},
     "output_type": "display_data"
    }
   ],
   "source": [
    "data_train['productionDate'].hist()"
   ]
  },
  {
   "cell_type": "code",
   "execution_count": 110,
   "id": "7328c2b7",
   "metadata": {},
   "outputs": [
    {
     "data": {
      "text/plain": [
       "<AxesSubplot:>"
      ]
     },
     "execution_count": 110,
     "metadata": {},
     "output_type": "execute_result"
    },
    {
     "data": {
      "image/png": "[encoded data removed]",
      "text/plain": [
       "<Figure size 432x288 with 1 Axes>"
      ]
     },
     "metadata": {},
     "output_type": "display_data"
    }
   ],
   "source": [
    "data_test['productionDate'].hist()"
   ]
  },
  {
   "cell_type": "markdown",
   "id": "cc707c1e",
   "metadata": {},
   "source": [
    "Посмотрим как будет выглядеть логарифмированный признак"
   ]
  },
  {
   "cell_type": "code",
   "execution_count": 111,
   "id": "d28e5920",
   "metadata": {},
   "outputs": [
    {
     "data": {
      "text/plain": [
       "<AxesSubplot:>"
      ]
     },
     "execution_count": 111,
     "metadata": {},
     "output_type": "execute_result"
    },
    {
     "data": {
      "image/png": "[encoded data removed]",
      "text/plain": [
       "<Figure size 432x288 with 1 Axes>"
      ]
     },
     "metadata": {},
     "output_type": "display_data"
    }
   ],
   "source": [
    "np.log(data_train['productionDate'] + 1).hist()"
   ]
  },
  {
   "cell_type": "markdown",
   "id": "296f7d4f",
   "metadata": {},
   "source": [
    "Особо не изменился. Отправляем на стандартизацию"
   ]
  },
  {
   "cell_type": "code",
   "execution_count": 112,
   "id": "8ce65cbe",
   "metadata": {},
   "outputs": [],
   "source": [
    "num_cols.append('productionDate')"
   ]
  },
  {
   "cell_type": "markdown",
   "id": "f28b23e5",
   "metadata": {},
   "source": [
    "# BodyType"
   ]
  },
  {
   "cell_type": "code",
   "execution_count": 113,
   "id": "93c92b60",
   "metadata": {},
   "outputs": [
    {
     "name": "stdout",
     "output_type": "stream",
     "text": [
      "Статистика значений для train\n",
      " внедорожник 5 дв.          17076\n",
      "седан                      10318\n",
      "лифтбек                     2754\n",
      "хэтчбек 5 дв.               2304\n",
      "универсал 5 дв.             1020\n",
      "минивэн                      955\n",
      "компактвэн                   678\n",
      "купе                         557\n",
      "пикап двойная кабина         308\n",
      "хэтчбек 3 дв.                263\n",
      "внедорожник 3 дв.            101\n",
      "купе-хардтоп                  89\n",
      "кабриолет                     87\n",
      "родстер                       50\n",
      "микровэн                      34\n",
      "фургон                        30\n",
      "седан-хардтоп                  7\n",
      "пикап полуторная кабина        4\n",
      "седан 2 дв.                    4\n",
      "пикап одинарная кабина         3\n",
      "лимузин                        3\n",
      "внедорожник открытый           1\n",
      "Name: bodyType, dtype: int64\n",
      "Статистика значений для test\n",
      " седан                      13147\n",
      "внедорожник 5 дв.          12228\n",
      "лифтбек                     2232\n",
      "хэтчбек 5 дв.               2124\n",
      "универсал 5 дв.             1276\n",
      "минивэн                      995\n",
      "купе                         824\n",
      "компактвэн                   489\n",
      "хэтчбек 3 дв.                485\n",
      "пикап двойная кабина         280\n",
      "купе-хардтоп                 158\n",
      "внедорожник 3 дв.            115\n",
      "родстер                       99\n",
      "фургон                        97\n",
      "кабриолет                     90\n",
      "седан-хардтоп                 12\n",
      "микровэн                       7\n",
      "лимузин                        6\n",
      "седан 2 дв.                    6\n",
      "пикап полуторная кабина        5\n",
      "пикап одинарная кабина         5\n",
      "внедорожник открытый           3\n",
      "тарга                          2\n",
      "фастбек                        1\n",
      "Name: bodyType, dtype: int64\n"
     ]
    }
   ],
   "source": [
    "print(\"Статистика значений для train\\n\", data_train['bodyType'].value_counts())\n",
    "print(\"Статистика значений для test\\n\", data_test['bodyType'].value_counts())"
   ]
  },
  {
   "cell_type": "code",
   "execution_count": 114,
   "id": "3dabf17e",
   "metadata": {},
   "outputs": [],
   "source": [
    "data_train['bodyType'].replace(regex={r'внедорожник.*': 'внедорожник',\n",
    "                                r'седан.*': 'седан',\n",
    "                                r'хэтчбек.*': 'хэтчбек',\n",
    "                                r'купе.*': 'купе',  r'тарга.*': 'тарга', r'микровэн.*': 'микровэн',\n",
    "                                r'пикап.*': 'пикап', r'родстер.*': 'родстер',\n",
    "                                r'универсал.*': 'универсал', r'лифтбек.*': 'лифтбек',\n",
    "                                r'минивэн.*': 'минивэн', r'компактвэн.*': 'компактвэн',\n",
    "                                r'лимузин.*': 'лимузин', r'фургон.*': 'фургон', r'кабриолет.*': 'кабриолет'\n",
    "                                },\n",
    "                         inplace=True)"
   ]
  },
  {
   "cell_type": "code",
   "execution_count": 115,
   "id": "95f8379a",
   "metadata": {},
   "outputs": [],
   "source": [
    "data_test['bodyType'].replace(regex={r'внедорожник.*': 'внедорожник',\n",
    "                                r'седан.*': 'седан',\n",
    "                                r'хэтчбек.*': 'хэтчбек',\n",
    "                                r'купе.*': 'купе',  r'тарга.*': 'тарга', r'микровэн.*': 'микровэн',\n",
    "                                r'пикап.*': 'пикап', r'родстер.*': 'родстер',\n",
    "                                r'универсал.*': 'универсал', r'лифтбек.*': 'лифтбек',\n",
    "                                r'минивэн.*': 'минивэн', r'компактвэн.*': 'компактвэн',\n",
    "                                r'лимузин.*': 'лимузин', r'фургон.*': 'фургон', r'кабриолет.*': 'кабриолет'\n",
    "                                },\n",
    "                         inplace=True)"
   ]
  },
  {
   "cell_type": "code",
   "execution_count": 116,
   "id": "3dd3eac4",
   "metadata": {},
   "outputs": [
    {
     "name": "stdout",
     "output_type": "stream",
     "text": [
      "Статистика значений для train\n",
      " внедорожник    17178\n",
      "седан          10329\n",
      "лифтбек         2754\n",
      "хэтчбек         2567\n",
      "универсал       1020\n",
      "минивэн          955\n",
      "компактвэн       678\n",
      "купе             646\n",
      "пикап            315\n",
      "кабриолет         87\n",
      "родстер           50\n",
      "микровэн          34\n",
      "фургон            30\n",
      "лимузин            3\n",
      "Name: bodyType, dtype: int64\n",
      "Статистика значений для test\n",
      " седан          13165\n",
      "внедорожник    12346\n",
      "хэтчбек         2609\n",
      "лифтбек         2232\n",
      "универсал       1276\n",
      "минивэн          995\n",
      "купе             982\n",
      "компактвэн       489\n",
      "пикап            290\n",
      "родстер           99\n",
      "фургон            97\n",
      "кабриолет         90\n",
      "микровэн           7\n",
      "лимузин            6\n",
      "тарга              2\n",
      "фастбек            1\n",
      "Name: bodyType, dtype: int64\n"
     ]
    }
   ],
   "source": [
    "print(\"Статистика значений для train\\n\", data_train['bodyType'].value_counts())\n",
    "print(\"Статистика значений для test\\n\", data_test['bodyType'].value_counts())"
   ]
  },
  {
   "cell_type": "code",
   "execution_count": 118,
   "id": "1df314ed",
   "metadata": {},
   "outputs": [
    {
     "data": {
      "image/png": "[encoded data removed]",
      "text/plain": [
       "<Figure size 432x288 with 1 Axes>"
      ]
     },
     "metadata": {},
     "output_type": "display_data"
    }
   ],
   "source": [
    "plot_cat_col_vs_price(data_train, 'bodyType', [0, 8e6])"
   ]
  },
  {
   "cell_type": "markdown",
   "id": "16a795c6",
   "metadata": {},
   "source": [
    "Предлагаю топ 8 типов автомобилей по дороговизне и оформить как отдельный признак"
   ]
  },
  {
   "cell_type": "code",
   "execution_count": 119,
   "id": "9e58a98a",
   "metadata": {},
   "outputs": [],
   "source": [
    "expensive_bodyType=['внедорожник', 'купе', 'микровэн', 'кабриолет', 'родстер', 'пикап', 'лимузин']"
   ]
  },
  {
   "cell_type": "code",
   "execution_count": 120,
   "id": "8e99fb65",
   "metadata": {},
   "outputs": [],
   "source": [
    "data_test['expensive_bodyType']=data_test['bodyType'].apply(lambda x: 1 if x in expensive_bodyType\n",
    "                                                            else 0)\n",
    "data_train['expensive_bodyType']=data_train['bodyType'].apply(lambda x: 1 if x in expensive_bodyType\n",
    "                                                            else 0)"
   ]
  },
  {
   "cell_type": "code",
   "execution_count": 121,
   "id": "948e4d79",
   "metadata": {},
   "outputs": [],
   "source": [
    "cols_to_lab_encode.append('bodyType')"
   ]
  },
  {
   "cell_type": "markdown",
   "id": "f901e3a2",
   "metadata": {},
   "source": [
    "# Color"
   ]
  },
  {
   "cell_type": "code",
   "execution_count": 122,
   "id": "cc2465a1",
   "metadata": {},
   "outputs": [
    {
     "name": "stdout",
     "output_type": "stream",
     "text": [
      "Статистика значений для train\n",
      " чёрный         10340\n",
      "белый           8592\n",
      "серый           5063\n",
      "серебристый     3600\n",
      "синий           3085\n",
      "коричневый      1716\n",
      "красный         1643\n",
      "бежевый          688\n",
      "зелёный          668\n",
      "голубой          376\n",
      "золотистый       225\n",
      "пурпурный        215\n",
      "фиолетовый       180\n",
      "оранжевый        132\n",
      "жёлтый           115\n",
      "розовый            8\n",
      "Name: color, dtype: int64\n",
      "Статистика значений для test\n",
      " чёрный         11010\n",
      "белый           6133\n",
      "серебристый     4113\n",
      "серый           3984\n",
      "синий           3289\n",
      "красный         1531\n",
      "коричневый      1501\n",
      "зелёный          952\n",
      "бежевый          639\n",
      "голубой          457\n",
      "золотистый       266\n",
      "пурпурный        254\n",
      "фиолетовый       219\n",
      "жёлтый           194\n",
      "оранжевый        131\n",
      "розовый           13\n",
      "Name: color, dtype: int64\n"
     ]
    }
   ],
   "source": [
    "print(\"Статистика значений для train\\n\", data_train['color'].value_counts())\n",
    "print(\"Статистика значений для test\\n\", data_test['color'].value_counts())"
   ]
  },
  {
   "cell_type": "markdown",
   "id": "32b29263",
   "metadata": {},
   "source": [
    "Сделаем новый признак, который будет показывать популярного ли цвета машина. Возмем за популярные цвета: чёрный, белый, \n",
    "серебристый, серый, синий, красный и коричневый, так как после них виден явный перепад в кол-ве автомобилей. А признак color удалить. "
   ]
  },
  {
   "cell_type": "code",
   "execution_count": 123,
   "id": "352c26a8",
   "metadata": {},
   "outputs": [],
   "source": [
    "data_train['popular_color'] = data_train['color'].apply(lambda x: 1 if x in ['чёрный', 'белый', \n",
    "                                                                 'серебристый', 'серый',\n",
    "                                                                 'синий', 'красный', 'коричневый'] \n",
    "                                                    else 0)"
   ]
  },
  {
   "cell_type": "code",
   "execution_count": 124,
   "id": "d6f1961f",
   "metadata": {},
   "outputs": [],
   "source": [
    "data_test['popular_color'] = data_test['color'].apply(lambda x: 1 if x in ['чёрный', 'белый', \n",
    "                                                                 'серебристый', 'серый',\n",
    "                                                                 'синий', 'красный', 'коричневый'] \n",
    "                                                    else 0)"
   ]
  },
  {
   "cell_type": "code",
   "execution_count": 125,
   "id": "16158968",
   "metadata": {},
   "outputs": [
    {
     "data": {
      "image/png": "[encoded data removed]",
      "text/plain": [
       "<Figure size 432x288 with 1 Axes>"
      ]
     },
     "metadata": {},
     "output_type": "display_data"
    }
   ],
   "source": [
    "plot_cat_col_vs_price(data_train, 'color', [0, 4e6])"
   ]
  },
  {
   "cell_type": "markdown",
   "id": "c3593c1b",
   "metadata": {},
   "source": [
    "Видим, что популярные цвета обычно и дороже. "
   ]
  },
  {
   "cell_type": "code",
   "execution_count": 126,
   "id": "b3dca0da",
   "metadata": {},
   "outputs": [],
   "source": [
    "cols_to_del_train.append('color')\n",
    "cols_to_del_test.append('color')"
   ]
  },
  {
   "cell_type": "markdown",
   "id": "d00e31db",
   "metadata": {},
   "source": [
    "# ModelDate"
   ]
  },
  {
   "cell_type": "code",
   "execution_count": 128,
   "id": "810c1714",
   "metadata": {},
   "outputs": [
    {
     "name": "stdout",
     "output_type": "stream",
     "text": [
      "Значения в train <IntegerArray>\n",
      "[2016, 2020, 2008, 2000, 1996, 2013, 2017, 2019, 2015, 1999, 2006, 2009, 2007,\n",
      " 2012, 2010, 2004, 1990, 2001, 1994, 2005, 1998, 2011, 1991, 1993, 1997, 1983,\n",
      " 1995, 1987, 2002, 2018, 2014, 2003, 1988, 1958, 2021, 1982, 1992, 1989, <NA>,\n",
      " 1985, 1981, 1979, 1974, 1968, 1975, 1937, 1986, 1976, 1977, 1978, 1957, 1984,\n",
      " 1971, 1955, 1980, 1967]\n",
      "Length: 56, dtype: Int64\n",
      "Значения в test [2013 2017 2008 2009 2016 2012 2015 2010 2006 2000 2007 1994 2004 1999\n",
      " 2005 1976 2001 1969 1996 1998 1989 1934 2014 2011 2018 1986 1997 1990\n",
      " 2019 2002 1991 1987 1980 1982 1938 1988 2003 1983 1978 1979 1984 1992\n",
      " 1995 1993 1985 1974 1966 1977 1981 1972 1968 1975 1949 1937 1936 1973\n",
      " 1959 1958 2020 1965 1971 1904 1963 1955 1951 1960]\n"
     ]
    }
   ],
   "source": [
    "print(\"Значения в train\", data_train['modelDate'].unique())\n",
    "print(\"Значения в test\", data_test['modelDate'].unique())"
   ]
  },
  {
   "cell_type": "code",
   "execution_count": 129,
   "id": "7a15c892",
   "metadata": {},
   "outputs": [],
   "source": [
    "data_test['modelDate'] = data_test['modelDate'].astype('Int64')"
   ]
  },
  {
   "cell_type": "markdown",
   "id": "8df22754",
   "metadata": {},
   "source": [
    "Оставим этот признак, как и ProductionDate, позже возможно придется выбрать по значимости какой-то один"
   ]
  },
  {
   "cell_type": "code",
   "execution_count": 130,
   "id": "475db720",
   "metadata": {},
   "outputs": [
    {
     "data": {
      "text/plain": [
       "<AxesSubplot:>"
      ]
     },
     "execution_count": 130,
     "metadata": {},
     "output_type": "execute_result"
    },
    {
     "data": {
      "image/png": "[encoded data removed]",
      "text/plain": [
       "<Figure size 432x288 with 1 Axes>"
      ]
     },
     "metadata": {},
     "output_type": "display_data"
    }
   ],
   "source": [
    "data_train['modelDate'].hist()"
   ]
  },
  {
   "cell_type": "code",
   "execution_count": 131,
   "id": "85ff4539",
   "metadata": {},
   "outputs": [
    {
     "data": {
      "text/plain": [
       "<AxesSubplot:>"
      ]
     },
     "execution_count": 131,
     "metadata": {},
     "output_type": "execute_result"
    },
    {
     "data": {
      "image/png": "[encoded data removed]",
      "text/plain": [
       "<Figure size 432x288 with 1 Axes>"
      ]
     },
     "metadata": {},
     "output_type": "display_data"
    }
   ],
   "source": [
    "np.log(data_train['modelDate'] + 1).hist()"
   ]
  },
  {
   "cell_type": "code",
   "execution_count": 132,
   "id": "5a2b9844",
   "metadata": {},
   "outputs": [],
   "source": [
    "num_cols.append('modelDate')"
   ]
  },
  {
   "cell_type": "markdown",
   "id": "d8acddb3",
   "metadata": {},
   "source": [
    "# Таможня"
   ]
  },
  {
   "cell_type": "code",
   "execution_count": 133,
   "id": "62cc84eb",
   "metadata": {},
   "outputs": [
    {
     "name": "stdout",
     "output_type": "stream",
     "text": [
      "Значения в train ['Растаможен']\n",
      "Значения в test ['Растаможен']\n"
     ]
    }
   ],
   "source": [
    "print(\"Значения в train\", data_train['Таможня'].unique())\n",
    "print(\"Значения в test\", data_test['Таможня'].unique())"
   ]
  },
  {
   "cell_type": "markdown",
   "id": "d112761a",
   "metadata": {},
   "source": [
    "Удаляем признак, так как все автомобили растаможены, но в будущем для модели нужно обращать внимание не появились ли не растаможенные автомобили. "
   ]
  },
  {
   "cell_type": "code",
   "execution_count": 134,
   "id": "7c0a9b73",
   "metadata": {},
   "outputs": [],
   "source": [
    "cols_to_del_train.append('Таможня')\n",
    "cols_to_del_test.append('Таможня')"
   ]
  },
  {
   "cell_type": "markdown",
   "id": "c4a89ad7",
   "metadata": {},
   "source": [
    "# Mileage"
   ]
  },
  {
   "cell_type": "code",
   "execution_count": 135,
   "id": "94153e80",
   "metadata": {},
   "outputs": [
    {
     "name": "stdout",
     "output_type": "stream",
     "text": [
      "Статистика значений для train\n",
      " 200000    340\n",
      "250000    289\n",
      "300000    270\n",
      "180000    252\n",
      "150000    241\n",
      "         ... \n",
      "112856      1\n",
      "209586      1\n",
      "10929       1\n",
      "74416       1\n",
      "2049        1\n",
      "Name: mileage, Length: 15697, dtype: int64\n",
      "Статистика значений для test\n",
      " 200000    436\n",
      "150000    382\n",
      "300000    381\n",
      "180000    347\n",
      "250000    346\n",
      "         ... \n",
      "109473      1\n",
      "299910      1\n",
      "101253      1\n",
      "23423       1\n",
      "73732       1\n",
      "Name: mileage, Length: 11268, dtype: int64\n"
     ]
    }
   ],
   "source": [
    "print(\"Статистика значений для train\\n\", data_train['mileage'].value_counts())\n",
    "print(\"Статистика значений для test\\n\", data_test['mileage'].value_counts())"
   ]
  },
  {
   "cell_type": "code",
   "execution_count": 136,
   "id": "57d90a22",
   "metadata": {},
   "outputs": [
    {
     "name": "stdout",
     "output_type": "stream",
     "text": [
      "Максимальное значение для train 999999\n",
      "Максимальное значение для test 1000000\n"
     ]
    }
   ],
   "source": [
    "print(\"Максимальное значение для train\", data_train['mileage'].max())\n",
    "print(\"Максимальное значение для test\", data_test['mileage'].max())"
   ]
  },
  {
   "cell_type": "code",
   "execution_count": 137,
   "id": "db6dafae",
   "metadata": {},
   "outputs": [
    {
     "name": "stdout",
     "output_type": "stream",
     "text": [
      "Минимальное значение для train 1\n",
      "Минимальное значение для test 1\n"
     ]
    }
   ],
   "source": [
    "print(\"Минимальное значение для train\", data_train['mileage'].min())\n",
    "print(\"Минимальное значение для test\", data_test['mileage'].min())"
   ]
  },
  {
   "cell_type": "markdown",
   "id": "c7e3b73d",
   "metadata": {},
   "source": [
    "Так как и в тестовой выборке надо предсказать стоимость автомобиля с большим пробегом, мы опять не будем искать и удалять выбросы. "
   ]
  },
  {
   "cell_type": "code",
   "execution_count": 138,
   "id": "11bd24c6",
   "metadata": {},
   "outputs": [
    {
     "data": {
      "text/plain": [
       "<AxesSubplot:>"
      ]
     },
     "execution_count": 138,
     "metadata": {},
     "output_type": "execute_result"
    },
    {
     "data": {
      "image/png": "[encoded data removed]",
      "text/plain": [
       "<Figure size 432x288 with 1 Axes>"
      ]
     },
     "metadata": {},
     "output_type": "display_data"
    }
   ],
   "source": [
    "data_train['mileage'].hist()"
   ]
  },
  {
   "cell_type": "code",
   "execution_count": 139,
   "id": "29fdf33d",
   "metadata": {},
   "outputs": [
    {
     "data": {
      "text/plain": [
       "<AxesSubplot:>"
      ]
     },
     "execution_count": 139,
     "metadata": {},
     "output_type": "execute_result"
    },
    {
     "data": {
      "image/png": "[encoded data removed]",
      "text/plain": [
       "<Figure size 432x288 with 1 Axes>"
      ]
     },
     "metadata": {},
     "output_type": "display_data"
    }
   ],
   "source": [
    "np.log(data_train['mileage'] + 1).hist()"
   ]
  },
  {
   "cell_type": "markdown",
   "id": "ef6e1584",
   "metadata": {},
   "source": [
    "Отправляем на стандартизацию"
   ]
  },
  {
   "cell_type": "code",
   "execution_count": 140,
   "id": "a9789909",
   "metadata": {},
   "outputs": [],
   "source": [
    "num_cols.append('mileage')"
   ]
  },
  {
   "cell_type": "markdown",
   "id": "716c6d58",
   "metadata": {},
   "source": [
    "Еще предлагаю сделать признак который покажет сколько в год пробегала машина, потому что я думаю что есть разница проехала машина Х км за год или 5. "
   ]
  },
  {
   "cell_type": "code",
   "execution_count": 255,
   "id": "3a221ad8",
   "metadata": {},
   "outputs": [],
   "source": [
    "def km_per_year(row):\n",
    "    if row['mileage'] != 0:\n",
    "        # обрабатываем случаи, когда мошина произведена в год сбора данных, чтоб не делить на 0\n",
    "        if row['productionDate'] == 2021:\n",
    "            return row['mileage']\n",
    "        else:\n",
    "            return row['mileage']/(2021 - row['productionDate'])\n",
    "    return 0  # возвращаем 0, если машина без пробега (новая)"
   ]
  },
  {
   "cell_type": "code",
   "execution_count": 258,
   "id": "63a46098",
   "metadata": {},
   "outputs": [],
   "source": [
    "data_train['km_per_year']=data_train.apply(km_per_year, axis=1)"
   ]
  },
  {
   "cell_type": "code",
   "execution_count": 261,
   "id": "f0874e20",
   "metadata": {},
   "outputs": [
    {
     "data": {
      "text/plain": [
       "<AxesSubplot:>"
      ]
     },
     "execution_count": 261,
     "metadata": {},
     "output_type": "execute_result"
    },
    {
     "data": {
      "image/png": "[encoded data removed]",
      "text/plain": [
       "<Figure size 432x288 with 1 Axes>"
      ]
     },
     "metadata": {},
     "output_type": "display_data"
    }
   ],
   "source": [
    "data_train['km_per_year'].hist()"
   ]
  },
  {
   "cell_type": "code",
   "execution_count": 262,
   "id": "935c806a",
   "metadata": {},
   "outputs": [
    {
     "data": {
      "text/plain": [
       "<AxesSubplot:>"
      ]
     },
     "execution_count": 262,
     "metadata": {},
     "output_type": "execute_result"
    },
    {
     "data": {
      "image/png": "[encoded data removed]",
      "text/plain": [
       "<Figure size 432x288 with 1 Axes>"
      ]
     },
     "metadata": {},
     "output_type": "display_data"
    }
   ],
   "source": [
    "np.log(data_train['km_per_year'] + 1).hist()"
   ]
  },
  {
   "cell_type": "code",
   "execution_count": 263,
   "id": "1a0a06c9",
   "metadata": {},
   "outputs": [],
   "source": [
    "num_cols.append('km_per_year')"
   ]
  },
  {
   "cell_type": "markdown",
   "id": "c150311c",
   "metadata": {},
   "source": [
    "# NumberOfDoors"
   ]
  },
  {
   "cell_type": "code",
   "execution_count": 141,
   "id": "db8c48e1",
   "metadata": {},
   "outputs": [
    {
     "name": "stdout",
     "output_type": "stream",
     "text": [
      "Статистика значений для train\n",
      " 5    24418\n",
      "4    11054\n",
      "2      797\n",
      "3      368\n",
      "Name: numberOfDoors, dtype: Int64\n",
      "Статистика значений для test\n",
      " 5    18703\n",
      "4    14126\n",
      "2     1206\n",
      "3      650\n",
      "0        1\n",
      "Name: numberOfDoors, dtype: int64\n"
     ]
    }
   ],
   "source": [
    "print(\"Статистика значений для train\\n\", data_train['numberOfDoors'].value_counts())\n",
    "print(\"Статистика значений для test\\n\", data_test['numberOfDoors'].value_counts())"
   ]
  },
  {
   "cell_type": "markdown",
   "id": "603d6d43",
   "metadata": {},
   "source": [
    "Автомобиль без двери - возможно это или ошибка или ретро-автомобиль. Ну в любом случае он в тестовой выборке - мы ничего не делаем. "
   ]
  },
  {
   "cell_type": "code",
   "execution_count": 142,
   "id": "11723a18",
   "metadata": {},
   "outputs": [
    {
     "data": {
      "image/png": "[encoded data removed]",
      "text/plain": [
       "<Figure size 432x288 with 1 Axes>"
      ]
     },
     "metadata": {},
     "output_type": "display_data"
    }
   ],
   "source": [
    "plot_cat_col_vs_price(data_train, 'numberOfDoors', [0, 6e6])"
   ]
  },
  {
   "cell_type": "markdown",
   "id": "60b52f7a",
   "metadata": {},
   "source": [
    "Двухдверные машины это обычно спортиные машины, и они дороже. "
   ]
  },
  {
   "cell_type": "code",
   "execution_count": 143,
   "id": "a072b065",
   "metadata": {},
   "outputs": [],
   "source": [
    "cols_to_oh_encode.append('numberOfDoors')"
   ]
  },
  {
   "cell_type": "markdown",
   "id": "dd60f4fe",
   "metadata": {},
   "source": [
    "# EngineDisplacement"
   ]
  },
  {
   "cell_type": "code",
   "execution_count": 144,
   "id": "d4e19a0d",
   "metadata": {},
   "outputs": [
    {
     "name": "stdout",
     "output_type": "stream",
     "text": [
      "Значения в train ['1.4 л ' '1.6 л ' '2.0 л ' '1.8 л ' '1.2 л ' '3.6 л ' '1.3 л ' '1.5 л '\n",
      " '1.9 л ' '3.5 л ' '2.2 л ' '2.3 л ' '2.4 л ' '1.7 л ' '2.5 л ' '3.2 л '\n",
      " '4.4 л ' '2.9 л ' '3.0 л ' '2.8 л ' '0.7 л ' '109 л.с. ' '5.6 л '\n",
      " '3.7 л ' '4.5 л ' '2.1 л ' '5.5 л ' '4.2 л ' '6.0 л ' '4.0 л ' '4.7 л '\n",
      " '5.4 л ' '1.0 л ' '5.7 л ' '2.7 л ' '3.4 л ' '5.0 л ' '4.3 л ' '4.6 л '\n",
      " '4.8 л ' '184 л.с. ' '170 л.с. ' '6.6 л ' '3.3 л ' '3.8 л ' '150 л.с. '\n",
      " '218 л.с. ' '4.1 л ' '2.6 л ' '333 л.с. ' '408 л.с. ' '6.2 л ' '5.8 л '\n",
      " '179 л.с. ' '204 л.с. ' '136 л.с. ' '74 л.с. ' '1.1 л ' '64 л.с. '\n",
      " '67 л.с. ' '41 л.с. ']\n",
      "Значения в test ['1.2 LTR' '1.6 LTR' '1.8 LTR' '2.0 LTR' '1.4 LTR' '1.3 LTR' '1.0 LTR'\n",
      " '3.6 LTR' '1.5 LTR' '1.9 LTR' '2.8 LTR' '1.1 LTR' '2.5 LTR' '4.2 LTR'\n",
      " '3.0 LTR' '4.0 LTR' '5.9 LTR' '2.7 LTR' '3.1 LTR' '2.4 LTR' '5.2 LTR'\n",
      " '3.2 LTR' '4.1 LTR' '6.3 LTR' '2.3 LTR' '6.0 LTR' '2.2 LTR' '3.7 LTR'\n",
      " '2.9 LTR' '5.0 LTR' '3.3 LTR' '2.1 LTR' '2.6 LTR' ' LTR' '3.5 LTR'\n",
      " '1.7 LTR' '0.7 LTR' '4.4 LTR' '4.8 LTR' '5.4 LTR' '6.6 LTR' '4.9 LTR'\n",
      " '3.8 LTR' '3.4 LTR' '3.9 LTR' '4.6 LTR' '5.6 LTR' '4.5 LTR' '5.5 LTR'\n",
      " '6.2 LTR' '4.7 LTR' '4.3 LTR' '5.8 LTR' '5.3 LTR' '5.7 LTR']\n"
     ]
    }
   ],
   "source": [
    "print(\"Значения в train\", data_train['engineDisplacement'].unique())\n",
    "print(\"Значения в test\", data_test['engineDisplacement'].unique())"
   ]
  },
  {
   "cell_type": "code",
   "execution_count": 145,
   "id": "37616457",
   "metadata": {},
   "outputs": [
    {
     "data": {
      "text/plain": [
       "array(['электро'], dtype=object)"
      ]
     },
     "execution_count": 145,
     "metadata": {},
     "output_type": "execute_result"
    }
   ],
   "source": [
    "data_test[data_test['engineDisplacement']==' LTR'].fuelType.unique()"
   ]
  },
  {
   "cell_type": "code",
   "execution_count": 146,
   "id": "ef584b96",
   "metadata": {},
   "outputs": [],
   "source": [
    "# Для значений 'LTR' заменим на 0, т.к. это электрокары\n",
    "\n",
    "engineDisplacement_dict = {' LTR':'0.0 LTR'}\n",
    "                           \n",
    "data_test['engineDisplacement'].replace(\n",
    "    to_replace=engineDisplacement_dict, inplace=True)"
   ]
  },
  {
   "cell_type": "code",
   "execution_count": 147,
   "id": "9b0ef325",
   "metadata": {},
   "outputs": [],
   "source": [
    "data_test['engineDisplacement'] = data_test['engineDisplacement'].str.extract(r\"(\\d\\.\\d)\", expand=True).astype('float')"
   ]
  },
  {
   "cell_type": "code",
   "execution_count": 149,
   "id": "77196d73",
   "metadata": {},
   "outputs": [],
   "source": [
    "data_train['engineDisplacement'] = data_train['engineDisplacement'].apply(lambda x: x[:3])"
   ]
  },
  {
   "cell_type": "code",
   "execution_count": 150,
   "id": "bca07ffe",
   "metadata": {},
   "outputs": [],
   "source": [
    "data_train['engineDisplacement'] = data_train['engineDisplacement'].astype('float')"
   ]
  },
  {
   "cell_type": "code",
   "execution_count": 151,
   "id": "2c6b9c00",
   "metadata": {},
   "outputs": [
    {
     "data": {
      "text/plain": [
       "array(['электро'], dtype=object)"
      ]
     },
     "execution_count": 151,
     "metadata": {},
     "output_type": "execute_result"
    }
   ],
   "source": [
    "data_train[data_train['engineDisplacement']>10].fuelType.unique()"
   ]
  },
  {
   "cell_type": "code",
   "execution_count": 152,
   "id": "8695e204",
   "metadata": {},
   "outputs": [
    {
     "data": {
      "text/plain": [
       "<AxesSubplot:>"
      ]
     },
     "execution_count": 152,
     "metadata": {},
     "output_type": "execute_result"
    },
    {
     "data": {
      "image/png": "[encoded data removed]",
      "text/plain": [
       "<Figure size 432x288 with 1 Axes>"
      ]
     },
     "metadata": {},
     "output_type": "display_data"
    }
   ],
   "source": [
    "data_train['engineDisplacement'][data_train['engineDisplacement']<10].hist()"
   ]
  },
  {
   "cell_type": "code",
   "execution_count": 153,
   "id": "ff4bc1ac",
   "metadata": {},
   "outputs": [
    {
     "data": {
      "text/plain": [
       "<AxesSubplot:>"
      ]
     },
     "execution_count": 153,
     "metadata": {},
     "output_type": "execute_result"
    },
    {
     "data": {
      "image/png": "[encoded data removed]",
      "text/plain": [
       "<Figure size 432x288 with 1 Axes>"
      ]
     },
     "metadata": {},
     "output_type": "display_data"
    }
   ],
   "source": [
    "data_test['engineDisplacement'].hist()"
   ]
  },
  {
   "cell_type": "code",
   "execution_count": 154,
   "id": "cfb8602a",
   "metadata": {},
   "outputs": [],
   "source": [
    "# Прировняем значение engineDisplacement для электрокаров к одному виду\n",
    "\n",
    "data_train['engineDisplacement'][data_train['engineDisplacement']>10]=0.0"
   ]
  },
  {
   "cell_type": "code",
   "execution_count": 156,
   "id": "de3a3b0f",
   "metadata": {},
   "outputs": [],
   "source": [
    "num_cols.append('engineDisplacement')"
   ]
  },
  {
   "cell_type": "markdown",
   "id": "a0b07fb1",
   "metadata": {},
   "source": [
    "# Привод"
   ]
  },
  {
   "cell_type": "code",
   "execution_count": 157,
   "id": "1c57af37",
   "metadata": {},
   "outputs": [
    {
     "name": "stdout",
     "output_type": "stream",
     "text": [
      "Значения в train ['передний' 'полный' 'задний']\n",
      "Значения в test ['передний' 'полный' 'задний']\n"
     ]
    }
   ],
   "source": [
    "print(\"Значения в train\", data_train['Привод'].unique())\n",
    "print(\"Значения в test\", data_test['Привод'].unique())"
   ]
  },
  {
   "cell_type": "code",
   "execution_count": 159,
   "id": "f341611b",
   "metadata": {},
   "outputs": [
    {
     "data": {
      "image/png": "[encoded data removed]",
      "text/plain": [
       "<Figure size 432x288 with 1 Axes>"
      ]
     },
     "metadata": {},
     "output_type": "display_data"
    }
   ],
   "source": [
    "plot_cat_col_vs_price(data_train, 'Привод', [0, 6e6])"
   ]
  },
  {
   "cell_type": "code",
   "execution_count": 160,
   "id": "73d0ff28",
   "metadata": {},
   "outputs": [],
   "source": [
    "cols_to_oh_encode.append('Привод')"
   ]
  },
  {
   "cell_type": "markdown",
   "id": "29a744e4",
   "metadata": {},
   "source": [
    "# VehicleTransmission"
   ]
  },
  {
   "cell_type": "code",
   "execution_count": 161,
   "id": "378ad4db",
   "metadata": {},
   "outputs": [
    {
     "name": "stdout",
     "output_type": "stream",
     "text": [
      "Значения в train ['роботизированная' 'автоматическая' 'механическая' 'вариатор']\n",
      "Значения в test ['роботизированная' 'механическая' 'автоматическая' 'вариатор']\n"
     ]
    }
   ],
   "source": [
    "print(\"Значения в train\", data_train['vehicleTransmission'].unique())\n",
    "print(\"Значения в test\", data_test['vehicleTransmission'].unique())"
   ]
  },
  {
   "cell_type": "code",
   "execution_count": 163,
   "id": "fd94f2e1",
   "metadata": {},
   "outputs": [
    {
     "data": {
      "image/png": "[encoded data removed]",
      "text/plain": [
       "<Figure size 432x288 with 1 Axes>"
      ]
     },
     "metadata": {},
     "output_type": "display_data"
    }
   ],
   "source": [
    "plot_cat_col_vs_price(data_train, 'vehicleTransmission', [0, 6e6])"
   ]
  },
  {
   "cell_type": "code",
   "execution_count": 164,
   "id": "4128de83",
   "metadata": {},
   "outputs": [],
   "source": [
    "cols_to_oh_encode.append('vehicleTransmission')"
   ]
  },
  {
   "cell_type": "markdown",
   "id": "cca6f33a",
   "metadata": {},
   "source": [
    "# Brand"
   ]
  },
  {
   "cell_type": "code",
   "execution_count": 165,
   "id": "37aaf215",
   "metadata": {},
   "outputs": [
    {
     "name": "stdout",
     "output_type": "stream",
     "text": [
      "Значения в train ['Skoda' 'Honda' 'Volvo' 'BMW' 'Nissan' 'Infiniti' 'Mercedes-Benz'\n",
      " 'Toyota' 'Lexus' 'Volkswagen' 'Mitsubishi']\n",
      "Значения в test ['SKODA' 'AUDI' 'HONDA' 'VOLVO' 'BMW' 'NISSAN' 'INFINITI' 'MERCEDES'\n",
      " 'TOYOTA' 'LEXUS' 'VOLKSWAGEN' 'MITSUBISHI']\n"
     ]
    }
   ],
   "source": [
    "print(\"Значения в train\", data_train['brand'].unique())\n",
    "print(\"Значения в test\", data_test['brand'].unique())"
   ]
  },
  {
   "cell_type": "code",
   "execution_count": 166,
   "id": "aeb8489f",
   "metadata": {},
   "outputs": [
    {
     "name": "stdout",
     "output_type": "stream",
     "text": [
      "Значения в train ['Skoda' 'Honda' 'Volvo' 'BMW' 'Nissan' 'Infiniti' 'Mercedes-Benz'\n",
      " 'Toyota' 'Lexus' 'Volkswagen' 'Mitsubishi']\n",
      "Значения в test ['SKODA' 'AUDI' 'HONDA' 'VOLVO' 'BMW' 'NISSAN' 'INFINITI' 'MERCEDES'\n",
      " 'TOYOTA' 'LEXUS' 'VOLKSWAGEN' 'MITSUBISHI']\n"
     ]
    }
   ],
   "source": [
    "print(\"Значения в train\", data_train['brand'].unique())\n",
    "print(\"Значения в test\", data_test['brand'].unique())"
   ]
  },
  {
   "cell_type": "code",
   "execution_count": 167,
   "id": "e6c76407",
   "metadata": {},
   "outputs": [],
   "source": [
    "data_train['brand'] = data_train['brand'].str.lower()\n",
    "data_test['brand'] = data_test['brand'].str.lower()"
   ]
  },
  {
   "cell_type": "code",
   "execution_count": 168,
   "id": "a5f9e907",
   "metadata": {},
   "outputs": [],
   "source": [
    "data_train['brand'][data_train['brand']=='mercedes-benz']='mercedes'"
   ]
  },
  {
   "cell_type": "code",
   "execution_count": 169,
   "id": "058a84e2",
   "metadata": {},
   "outputs": [
    {
     "name": "stdout",
     "output_type": "stream",
     "text": [
      "Статистика значений для train\n",
      " honda         3841\n",
      "skoda         3718\n",
      "nissan        3663\n",
      "mitsubishi    3663\n",
      "mercedes      3663\n",
      "bmw           3663\n",
      "toyota        3662\n",
      "volkswagen    3661\n",
      "lexus         3164\n",
      "volvo         2442\n",
      "infiniti      1506\n",
      "Name: brand, dtype: int64\n",
      "Статистика значений для test\n",
      " bmw           4473\n",
      "volkswagen    4404\n",
      "nissan        4393\n",
      "mercedes      4180\n",
      "toyota        3913\n",
      "audi          3421\n",
      "mitsubishi    2843\n",
      "skoda         2741\n",
      "volvo         1463\n",
      "honda         1150\n",
      "infiniti       871\n",
      "lexus          834\n",
      "Name: brand, dtype: int64\n"
     ]
    }
   ],
   "source": [
    "print(\"Статистика значений для train\\n\", data_train['brand'].value_counts())\n",
    "print(\"Статистика значений для test\\n\", data_test['brand'].value_counts())"
   ]
  },
  {
   "cell_type": "markdown",
   "id": "9bb5c79b",
   "metadata": {},
   "source": [
    "Какие-то популярные топ брендов не выделяется одинаковый и в train и в test. Отправим признак на кодирование.  "
   ]
  },
  {
   "cell_type": "code",
   "execution_count": 171,
   "id": "408253b0",
   "metadata": {},
   "outputs": [
    {
     "data": {
      "image/png": "[encoded data removed]",
      "text/plain": [
       "<Figure size 432x288 with 1 Axes>"
      ]
     },
     "metadata": {},
     "output_type": "display_data"
    }
   ],
   "source": [
    "plot_cat_col_vs_price(data_train, 'brand', [0, 6e6])"
   ]
  },
  {
   "cell_type": "markdown",
   "id": "ad2e5883",
   "metadata": {},
   "source": [
    "Предлагаю сделать новый признак о дороговызне машин. Так же, понимая что Audi примерно на том же уровне обыяно, что и BMW, решаю добавить его в премиум-классу. В будущем можно будет попробовать не относить и посмотреть на метрику. "
   ]
  },
  {
   "cell_type": "code",
   "execution_count": 172,
   "id": "632101be",
   "metadata": {},
   "outputs": [],
   "source": [
    "expensive_brand=['audi', 'bmw', 'infiniti', 'mercedes', 'toyota', 'lexus']"
   ]
  },
  {
   "cell_type": "code",
   "execution_count": 173,
   "id": "6a372245",
   "metadata": {},
   "outputs": [],
   "source": [
    "data_test['expensive_brand']=data_test['brand'].apply(lambda x: 1 if x in expensive_brand\n",
    "                                                            else 0)\n",
    "data_train['expensive_brand']=data_train['brand'].apply(lambda x: 1 if x in expensive_brand\n",
    "                                                            else 0)"
   ]
  },
  {
   "cell_type": "code",
   "execution_count": 174,
   "id": "2c1a82fe",
   "metadata": {},
   "outputs": [],
   "source": [
    "cols_to_lab_encode.append('brand')"
   ]
  },
  {
   "cell_type": "markdown",
   "id": "21303244",
   "metadata": {},
   "source": [
    "# Состояние"
   ]
  },
  {
   "cell_type": "code",
   "execution_count": 175,
   "id": "ea8189e3",
   "metadata": {},
   "outputs": [
    {
     "name": "stdout",
     "output_type": "stream",
     "text": [
      "Значения в train ['Не требует ремонта']\n",
      "Значения в test ['Не требует ремонта']\n"
     ]
    }
   ],
   "source": [
    "print(\"Значения в train\", data_train['Состояние'].unique())\n",
    "print(\"Значения в test\", data_test['Состояние'].unique())"
   ]
  },
  {
   "cell_type": "markdown",
   "id": "e219d92d",
   "metadata": {},
   "source": [
    "Удаляю признак, так как он имеет только 1 значение, но в будущем нужно обращать внимание на этот признак, возможно появятся еще значения  "
   ]
  },
  {
   "cell_type": "code",
   "execution_count": 177,
   "id": "a2d7cd03",
   "metadata": {},
   "outputs": [],
   "source": [
    "cols_to_del_train.append('Состояние')\n",
    "cols_to_del_test.append('Состояние')"
   ]
  },
  {
   "cell_type": "markdown",
   "id": "f5544452",
   "metadata": {},
   "source": [
    "# EnginePower"
   ]
  },
  {
   "cell_type": "code",
   "execution_count": 178,
   "id": "39488e45",
   "metadata": {},
   "outputs": [
    {
     "name": "stdout",
     "output_type": "stream",
     "text": [
      "Пример значения для train [' 330 л.с. ']\n",
      "Пример значения для test ['469 N12']\n"
     ]
    }
   ],
   "source": [
    "print(\"Пример значения для train\", data_train['enginePower'].sample(1).values)\n",
    "print(\"Пример значения для test\", data_test['enginePower'].sample(1).values)"
   ]
  },
  {
   "cell_type": "code",
   "execution_count": 179,
   "id": "9dab1139",
   "metadata": {},
   "outputs": [],
   "source": [
    "# Преобразовываем значения столбца, избавляемся от постфиков л.с. и N12\n",
    "data_train['enginePower'] = data_train['enginePower'].apply(\n",
    "    lambda x: int(x.split(\" \")[1]))\n",
    "data_test['enginePower'] = data_test['enginePower'].apply(\n",
    "    lambda x: int(x.split(\" \")[0]))"
   ]
  },
  {
   "cell_type": "code",
   "execution_count": 180,
   "id": "ea2fdbc3",
   "metadata": {},
   "outputs": [
    {
     "data": {
      "text/plain": [
       "<AxesSubplot:>"
      ]
     },
     "execution_count": 180,
     "metadata": {},
     "output_type": "execute_result"
    },
    {
     "data": {
      "image/png": "[encoded data removed]",
      "text/plain": [
       "<Figure size 432x288 with 1 Axes>"
      ]
     },
     "metadata": {},
     "output_type": "display_data"
    }
   ],
   "source": [
    "data_test['enginePower'].hist()"
   ]
  },
  {
   "cell_type": "code",
   "execution_count": 181,
   "id": "e02cf2e5",
   "metadata": {},
   "outputs": [
    {
     "data": {
      "text/plain": [
       "<AxesSubplot:>"
      ]
     },
     "execution_count": 181,
     "metadata": {},
     "output_type": "execute_result"
    },
    {
     "data": {
      "image/png": "[encoded data removed]",
      "text/plain": [
       "<Figure size 432x288 with 1 Axes>"
      ]
     },
     "metadata": {},
     "output_type": "display_data"
    }
   ],
   "source": [
    "data_train['enginePower'].hist()"
   ]
  },
  {
   "cell_type": "markdown",
   "id": "4159f3cd",
   "metadata": {},
   "source": [
    "Не хороший хвост у графика, посмотрим как будет выглядеть логарифмированный признак"
   ]
  },
  {
   "cell_type": "code",
   "execution_count": 182,
   "id": "d7059647",
   "metadata": {},
   "outputs": [
    {
     "data": {
      "text/plain": [
       "<AxesSubplot:>"
      ]
     },
     "execution_count": 182,
     "metadata": {},
     "output_type": "execute_result"
    },
    {
     "data": {
      "image/png": "[encoded data removed]",
      "text/plain": [
       "<Figure size 432x288 with 1 Axes>"
      ]
     },
     "metadata": {},
     "output_type": "display_data"
    }
   ],
   "source": [
    "np.log(data_train['enginePower'] + 1).hist()"
   ]
  },
  {
   "cell_type": "code",
   "execution_count": 183,
   "id": "ceb93ca1",
   "metadata": {},
   "outputs": [
    {
     "data": {
      "text/plain": [
       "<AxesSubplot:>"
      ]
     },
     "execution_count": 183,
     "metadata": {},
     "output_type": "execute_result"
    },
    {
     "data": {
      "image/png": "[encoded data removed]",
      "text/plain": [
       "<Figure size 432x288 with 1 Axes>"
      ]
     },
     "metadata": {},
     "output_type": "display_data"
    }
   ],
   "source": [
    "np.log(data_test['enginePower'] + 1).hist()"
   ]
  },
  {
   "cell_type": "markdown",
   "id": "df1ef46e",
   "metadata": {},
   "source": [
    "Так намного лучше! Отправим на стандартизацию"
   ]
  },
  {
   "cell_type": "code",
   "execution_count": 185,
   "id": "6df61147",
   "metadata": {},
   "outputs": [],
   "source": [
    "num_cols.append('enginePower')"
   ]
  },
  {
   "cell_type": "markdown",
   "id": "2d82cd38",
   "metadata": {},
   "source": [
    "# ПТС"
   ]
  },
  {
   "cell_type": "code",
   "execution_count": 186,
   "id": "e14ea6af",
   "metadata": {},
   "outputs": [
    {
     "name": "stdout",
     "output_type": "stream",
     "text": [
      "Значения в train ['Оригинал' 'Дубликат']\n",
      "Значения в test ['Оригинал' 'Дубликат' nan]\n"
     ]
    }
   ],
   "source": [
    "print(\"Значения в train\", data_train['ПТС'].unique())\n",
    "print(\"Значения в test\", data_test['ПТС'].unique())"
   ]
  },
  {
   "cell_type": "code",
   "execution_count": 187,
   "id": "74bede7b",
   "metadata": {},
   "outputs": [
    {
     "name": "stdout",
     "output_type": "stream",
     "text": [
      "Заполнено значений в train False    36646\n",
      "Name: ПТС, dtype: int64\n",
      "Заполнено значений в test False    34685\n",
      "True         1\n",
      "Name: ПТС, dtype: int64\n"
     ]
    }
   ],
   "source": [
    "print(\"Заполнено значений в train\", data_train['ПТС'].isna().value_counts())\n",
    "print(\"Заполнено значений в test\", data_test['ПТС'].isna().value_counts())"
   ]
  },
  {
   "cell_type": "code",
   "execution_count": 188,
   "id": "be2ae4cb",
   "metadata": {},
   "outputs": [],
   "source": [
    "# Пропуск только 1, но он в test, поэтому заменим его на категорию. Выберем 'Дубликат'.\n",
    "\n",
    "data_test['ПТС']=data_test['ПТС'].fillna('Дубликат')"
   ]
  },
  {
   "cell_type": "code",
   "execution_count": 189,
   "id": "c6cac986",
   "metadata": {},
   "outputs": [],
   "source": [
    "cols_to_oh_encode.append('ПТС')"
   ]
  },
  {
   "cell_type": "code",
   "execution_count": 190,
   "id": "c1d469f6",
   "metadata": {},
   "outputs": [
    {
     "data": {
      "image/png": "[encoded data removed]",
      "text/plain": [
       "<Figure size 432x288 with 1 Axes>"
      ]
     },
     "metadata": {},
     "output_type": "display_data"
    }
   ],
   "source": [
    "plot_cat_col_vs_price(data_train, 'ПТС', [0, 6e6])"
   ]
  },
  {
   "cell_type": "markdown",
   "id": "4af13547",
   "metadata": {},
   "source": [
    "# Обзор признаков, которых нет или в test или в train"
   ]
  },
  {
   "cell_type": "code",
   "execution_count": 191,
   "id": "5d62aea3",
   "metadata": {},
   "outputs": [
    {
     "name": "stdout",
     "output_type": "stream",
     "text": [
      "Список колонок, которых нет в test, но есть в train: ['VIN', 'Запас хода', 'Статус', 'price', 'model_year', 'Налог', 'Кузов №', 'Двигатель', 'model', 'Комплектация', 'Обмен', 'Гарантия', 'Госномер']\n"
     ]
    }
   ],
   "source": [
    "# Список колонок, которых нет в test\n",
    "dif_list_2 = list(set(data_train.columns).difference(data_test.columns))\n",
    "print(\"Список колонок, которых нет в test, но есть в train:\", dif_list_2)"
   ]
  },
  {
   "cell_type": "code",
   "execution_count": 192,
   "id": "d8690f7f",
   "metadata": {},
   "outputs": [
    {
     "data": {
      "text/html": [
       "<div>\n",
       "<style scoped>\n",
       "    .dataframe tbody tr th:only-of-type {\n",
       "        vertical-align: middle;\n",
       "    }\n",
       "\n",
       "    .dataframe tbody tr th {\n",
       "        vertical-align: top;\n",
       "    }\n",
       "\n",
       "    .dataframe thead th {\n",
       "        text-align: right;\n",
       "    }\n",
       "</style>\n",
       "<table border=\"1\" class=\"dataframe\">\n",
       "  <thead>\n",
       "    <tr style=\"text-align: right;\">\n",
       "      <th></th>\n",
       "      <th>VIN</th>\n",
       "      <th>Запас хода</th>\n",
       "      <th>Статус</th>\n",
       "      <th>price</th>\n",
       "      <th>model_year</th>\n",
       "      <th>Налог</th>\n",
       "      <th>Кузов №</th>\n",
       "      <th>Двигатель</th>\n",
       "      <th>model</th>\n",
       "      <th>Комплектация</th>\n",
       "      <th>Обмен</th>\n",
       "      <th>Гарантия</th>\n",
       "      <th>Госномер</th>\n",
       "    </tr>\n",
       "  </thead>\n",
       "  <tbody>\n",
       "    <tr>\n",
       "      <th>35885</th>\n",
       "      <td>XW8**************</td>\n",
       "      <td>NaN</td>\n",
       "      <td>NaN</td>\n",
       "      <td>369000</td>\n",
       "      <td>II Рестайлинг 2010 – 2014</td>\n",
       "      <td>1 680 ₽ / год</td>\n",
       "      <td>NaN</td>\n",
       "      <td>['1.2 л ', ' 70 л.с. ', ' ,Бензин']</td>\n",
       "      <td>Skoda Fabia II Рестайлинг</td>\n",
       "      <td>NaN</td>\n",
       "      <td>NaN</td>\n",
       "      <td>NaN</td>\n",
       "      <td>******|198</td>\n",
       "    </tr>\n",
       "    <tr>\n",
       "      <th>13763</th>\n",
       "      <td>NaN</td>\n",
       "      <td>NaN</td>\n",
       "      <td>NaN</td>\n",
       "      <td>490000</td>\n",
       "      <td>VI (R30) 1981 – 1985</td>\n",
       "      <td>840 ₽ / год</td>\n",
       "      <td>HR30***********</td>\n",
       "      <td>['2.0 л ', ' 120 л.с. ', ' ,Бензин']</td>\n",
       "      <td>Nissan Skyline VI (R30)</td>\n",
       "      <td>NaN</td>\n",
       "      <td>NaN</td>\n",
       "      <td>NaN</td>\n",
       "      <td>******|92</td>\n",
       "    </tr>\n",
       "    <tr>\n",
       "      <th>17361</th>\n",
       "      <td>WDC**************</td>\n",
       "      <td>NaN</td>\n",
       "      <td>NaN</td>\n",
       "      <td>4199000</td>\n",
       "      <td>I (C292) 2015 – 2019</td>\n",
       "      <td>55 050 ₽ / год</td>\n",
       "      <td>NaN</td>\n",
       "      <td>['3.0 л ', ' 367 л.с. ', ' ,Бензин']</td>\n",
       "      <td>Mercedes-Benz GLE Coupe 450 AMG I (C292)</td>\n",
       "      <td>13 опций</td>\n",
       "      <td>Рассмотрю варианты</td>\n",
       "      <td>До октября 2023</td>\n",
       "      <td>NaN</td>\n",
       "    </tr>\n",
       "  </tbody>\n",
       "</table>\n",
       "</div>"
      ],
      "text/plain": [
       "                     VIN Запас хода Статус    price  \\\n",
       "35885  XW8**************        NaN    NaN   369000   \n",
       "13763                NaN        NaN    NaN   490000   \n",
       "17361  WDC**************        NaN    NaN  4199000   \n",
       "\n",
       "                       model_year           Налог          Кузов №  \\\n",
       "35885  II Рестайлинг 2010 – 2014    1 680 ₽ / год              NaN   \n",
       "13763       VI (R30) 1981 – 1985      840 ₽ / год  HR30***********   \n",
       "17361       I (C292) 2015 – 2019   55 050 ₽ / год              NaN   \n",
       "\n",
       "                                  Двигатель  \\\n",
       "35885   ['1.2 л ', ' 70 л.с. ', ' ,Бензин']   \n",
       "13763  ['2.0 л ', ' 120 л.с. ', ' ,Бензин']   \n",
       "17361  ['3.0 л ', ' 367 л.с. ', ' ,Бензин']   \n",
       "\n",
       "                                          model Комплектация  \\\n",
       "35885                 Skoda Fabia II Рестайлинг          NaN   \n",
       "13763                   Nissan Skyline VI (R30)          NaN   \n",
       "17361  Mercedes-Benz GLE Coupe 450 AMG I (C292)     13 опций   \n",
       "\n",
       "                    Обмен         Гарантия    Госномер  \n",
       "35885                 NaN              NaN  ******|198  \n",
       "13763                 NaN              NaN   ******|92  \n",
       "17361  Рассмотрю варианты  До октября 2023         NaN  "
      ]
     },
     "execution_count": 192,
     "metadata": {},
     "output_type": "execute_result"
    }
   ],
   "source": [
    "# Посмотрим на данные в этих колонках\n",
    "data_train[dif_list_2].sample(3)"
   ]
  },
  {
   "cell_type": "code",
   "execution_count": 193,
   "id": "579e4a40",
   "metadata": {},
   "outputs": [
    {
     "name": "stdout",
     "output_type": "stream",
     "text": [
      "Значения в train [nan '170 км' '175 км' '64 км' '31 км' '200 км' '203 км' '260 км' '3 км'\n",
      " '37 км' '130 км' '270 км' '385 км' '199 км' '250 км' '106 км' '770 км'\n",
      " '30 км' '445 км' '417 км' '23 км' '2 км' '50 км' '201 км' '54 км'\n",
      " '160 км' '150 км']\n"
     ]
    }
   ],
   "source": [
    "print(\"Значения в train\", data_train['Запас хода'].unique())"
   ]
  },
  {
   "cell_type": "code",
   "execution_count": 194,
   "id": "3bab39be",
   "metadata": {},
   "outputs": [
    {
     "name": "stdout",
     "output_type": "stream",
     "text": [
      "Значения в train ['2 175 ₽ / год' '2 750 ₽ / год' '4 900 ₽ / год' ... '12 863 ₽ / год'\n",
      " '7 585 ₽ / год' '63 900 ₽ / год']\n"
     ]
    }
   ],
   "source": [
    "print(\"Значения в train\", data_train['Налог'].unique())"
   ]
  },
  {
   "cell_type": "code",
   "execution_count": 195,
   "id": "74f102c2",
   "metadata": {},
   "outputs": [
    {
     "name": "stdout",
     "output_type": "stream",
     "text": [
      "Значения в train ['До мая 2022' nan 'До марта 2023' 'До августа 2022' 'До июня 2023'\n",
      " 'До октября 2022' 'До октября 2024' 'До мая 2025' 'До ноября 2023'\n",
      " 'До сентября 2022' 'До сентября 2024' 'До декабря 2022' 'До октября 2023'\n",
      " 'До июля 2022' 'До декабря 2023' 'До сентября 2023' 'До июня 2025'\n",
      " 'До июня 2022' 'До марта 2024' 'До апреля 2023' 'До июня 2024'\n",
      " 'До мая 2024' 'До ноября 2024' 'До ноября 2022' 'До июля 2024'\n",
      " 'До января 2022' 'До апреля 2024' 'До декабря 2021' 'До апреля 2025'\n",
      " 'До января 2024' 'До августа 2023' 'До февраля 2024' 'До июля 2023'\n",
      " 'До марта 2022' 'До мая 2023' 'До декабря 2024' 'До февраля 2023'\n",
      " 'До апреля 2022' 'До июля 2026' 'До декабря 2025' 'До августа 2024'\n",
      " 'До января 2023' 'До ноября 2021' 'До августа 2025' 'До января 2025'\n",
      " 'До сентября 2021' 'До декабря 2030' 'До октября 2025' 'До февраля 2022'\n",
      " 'До ноября 2025' 'До октября 2021' 'До ноября 2026' 'До сентября 2025'\n",
      " 'До ноября 2030' 'До мая 2026' 'До сентября 2026' 'До августа 2026'\n",
      " 'До марта 2025' 'До октября 2030' 'До июля 2025' 'До февраля 2025'\n",
      " 'До января 2026' 'До февраля 2026' 'До ноября 2027' 'До сентября 2028'\n",
      " 'До апреля 2026' 'До октября 2027' 'До июня 2028' 'До октября 2028'\n",
      " 'До ноября 2028' 'До мая 2020' 'До августа 2027' 'До марта 2026'\n",
      " 'До сентября 2030' 'До октября 2026' 'До января 2031']\n"
     ]
    }
   ],
   "source": [
    "print(\"Значения в train\", data_train['Гарантия'].unique())"
   ]
  },
  {
   "cell_type": "code",
   "execution_count": 196,
   "id": "58fac3ce",
   "metadata": {},
   "outputs": [
    {
     "name": "stdout",
     "output_type": "stream",
     "text": [
      "Значения в train [nan 'GP71***********' 'GE6-1***********' 'RA6-1***********'\n",
      " 'GD11***********' 'RP1-1***********' 'OTSYT***********' 'RN11***********'\n",
      " 'AK12***********' 'E12***********' 'ZE0-***********' 'BZ11***********'\n",
      " 'A32***********' 'M910A-0***********' 'JZS141-0***********'\n",
      " 'JZS1450***********' 'CU4W0***********' 'EA1A0***********'\n",
      " '50***********' 'RD11***********' 'GP23***********' 'RG2-1***********'\n",
      " 'GB31***********' 'HH5-2***********' 'MA41***********' 'JH2-1***********'\n",
      " 'JF22***********' 'ES11***********' 'RF21***********' 'RC1-1***********'\n",
      " 'GP7-1***********' 'RC2-1***********' 'RU4-1***********'\n",
      " 'JG1-***********' 'RB13***********' 'RC4-1***********' 'RC1-***********'\n",
      " 'EK2-1***********' 'GP11***********' 'RA2-1***********' 'RK11***********'\n",
      " 'RP3-1***********' 'JF3-1***********' 'RA7-1***********'\n",
      " 'GP51***********' 'JH1-2***********' 'EK2-3***********'\n",
      " 'RU3-1***********' 'RA61***********' 'UA2-1***********'\n",
      " 'TA2-1***********' 'RF31***********' 'GB3-1***********'\n",
      " 'JF2-2***********' 'GP2-3***********' 'JE1-1***********'\n",
      " 'GA33***********' 'RB11***********' 'RD25***********' 'RD5-1***********'\n",
      " 'CF41***********' 'RD7-1***********' 'GA4B-***********'\n",
      " 'GR1-1***********' 'DA71***********' 'GD71***********' 'ZE2-1***********'\n",
      " 'GH31***********' 'GB5-1***********' '5234564356456***********'\n",
      " 'GK3-3***********' 'RD15***********' 'RF4-1***********'\n",
      " 'JH188394767J***********' 'RU21***********' 'RD71***********'\n",
      " 'EG4-1***********' 'GP1-1***********' 'JH2-2***********'\n",
      " 'GB4-1***********' 'ES2-1***********' 'GD12***********' 'EY71***********'\n",
      " 'RT1-1***********' 'JF1-1***********' 'RK2-1***********'\n",
      " 'JF2-1***********' 'RP2-1***********' 'JHLRD18400***********'\n",
      " 'RN1100174***********' 'R***********' 'GP8-1***********'\n",
      " 'GB3819221G***********' 'RW1-1***********' 'RW2-1***********'\n",
      " 'RP11***********' 'GB7-1***********' 'FD3-1***********'\n",
      " 'RA-11***********' 'RT2-1***********' 'FK7-1***********'\n",
      " 'EY83***********' 'RP4-1***********' 'RU3-***********' 'GD1-2***********'\n",
      " 'GP5-1***********' 'GK3-1***********' 'RU11***********' 'GH21***********'\n",
      " 'RA1-1***********' 'GH3-1***********' 'DB9-***********' 'GB-1***********'\n",
      " 'CF31***********' 'BA81***********' 'EK3-3***********' 'CB1-1***********'\n",
      " 'ZE211***********' 'GH11***********' 'RN1-1***********' 'CR7-***********'\n",
      " 'RP21***********' 'GP3-1***********' 'RU31***********' 'CF51***********'\n",
      " 'GB1-1***********' 'GD3-3***********' 'OTSUT***********'\n",
      " 'JH-2***********' 'RD1-1***********' 'GD1-1***********'\n",
      " 'RD1-5***********' 'HJ21***********' 'GP8-2***********' 'CL31***********'\n",
      " 'VINGP5-1***********' 'RN63***********' 'RU1-1***********'\n",
      " 'JH1-1***********' 'GB3019222712***********' 'GB41***********'\n",
      " 'RR21***********' 'RK1-1***********' 'RC21***********' 'RF41***********'\n",
      " 'FR4-1***********' 'RP31***********' 'GP63***********' 'RE4-1***********'\n",
      " 'GK5-1***********' 'RP1-5***********' 'GJ11***********' 'TA31***********'\n",
      " 'GP7-2***********' 'RP32***********' 'RU36***********' 'EK31***********'\n",
      " 'GA3-3***********' 'CR6-8***********' 'GD31***********'\n",
      " 'GK1-1***********' 'GE-1***********' 'ZF1-1***********'\n",
      " 'GP5-2***********' 'RP41***********' 'GP5-3***********' 'GK31***********'\n",
      " 'RK6-1***********' 'CR7-1***********' 'RP3-6***********'\n",
      " 'RP5-1***********' 'ZF11***********' 'JF1-***********' 'JF3-***********'\n",
      " 'RG11***********' 'ZE3-***********' 'ZE2-***********' 'GP6-1***********'\n",
      " 'FK2-1***********' 'RK21***********' 'KC2-1***********' 'GD81***********'\n",
      " 'RD51***********' 'GP53***********' 'GPB1***********' 'RP3-***********'\n",
      " 'ZE21***********' 'RN7-1***********' 'GK4-3***********'\n",
      " 'GP38192281***********' 'GP300122101G***********' 'GD8-1***********'\n",
      " 'DB9-1***********' 'GF31***********' 'DB61***********' 'GB7-***********'\n",
      " 'GE81***********' 'RA71***********' 'JF4-1***********' 'GM6-1***********'\n",
      " 'GR3-1***********' 'NZE164-7***********' 'RK51***********'\n",
      " 'RU2-1***********' 'GM5-1***********' 'GP5-4***********'\n",
      " 'GP5-5***********' 'RP5-6***********' 'EU11***********' 'RF1-***********'\n",
      " 'RF2-1***********' 'RK5-1***********' 'GB6-1***********'\n",
      " 'GA4-1***********' 'RU41***********' 'CE4-1***********' 'CB11***********'\n",
      " 'GK5-3***********' 'GK3-***********' 'RB1-3***********'\n",
      " 'ZF2-1***********' 'DA61***********' 'CR71***********' 'RP4-3***********'\n",
      " 'EK35***********' 'RU272810283R***********' 'GJ21***********'\n",
      " 'CE51***********' 'GJ1-1***********' 'GE61***********' 'RF3-1***********'\n",
      " 'RN41***********' 'GG73***********' 'ZE3-1***********' 'GA41***********'\n",
      " 'GB7-9***********' 'GK53***********' 'RH11***********' 'GJ2-1***********'\n",
      " 'JF388192073J***********' 'CB47***********' 'CB37***********'\n",
      " 'GJ3-1***********' 'GE8-1***********' 'RG21***********' 'FR41***********'\n",
      " 'RN6-3***********' 'TA11***********' 'EY81***********' 'GE7-1***********'\n",
      " 'GP31***********' 'RG1-1***********' 'GP54***********' 'FR5-1***********'\n",
      " 'RU3-0***********' 'RP3-3***********' 'GP7-0***********'\n",
      " 'GK9-3***********' 'RP3-0***********' 'GP4-1***********'\n",
      " 'GK33***********' 'RN7-3***********' 'JE1-2***********' 'GD18***********'\n",
      " 'EL11***********' 'EK33***********' 'GK11***********' 'ES1-1***********'\n",
      " 'GP3-281***********' 'GB3718239042***********' 'RT11***********'\n",
      " 'GK8-1***********' 'AP11***********' 'RA31***********' 'BB6-1***********'\n",
      " 'EG81***********' '098266' 'EL2-1***********' 'CD41***********'\n",
      " 'GP800123***********' 'CL11***********' 'GP8-7***********'\n",
      " '11***********' 'DB6-1***********' 'RN6-1***********' 'EF53***********'\n",
      " 'GH41***********' 'RH1-1***********' 'EL21***********'\n",
      " 'RC482911029R***********' 'JH11***********' 'GV3-1***********'\n",
      " 'GB7-0***********' 'PK11***********' 'CF4-1***********' 'GP5-***********'\n",
      " 'GP81***********' 'GB2-1***********' 'RC11***********' 'GP3-***********'\n",
      " 'GK5-***********' 'RP5-***********' 'MB31***********' 'YD11***********'\n",
      " 'GM5-***********' 'GP8-***********' 'GM51***********' 'RN93***********'\n",
      " 'GG7-3***********' 'EL31***********' 'RHX1***********' 'RN2-2***********'\n",
      " '-----***********' '5443***********' 'GM41***********' 'CL73***********'\n",
      " 'ES31***********' 'GM4-1***********' 'CL91***********' 'JF1-4***********'\n",
      " 'GB71***********' 'TA1-1***********' 'BE31***********' 'UA51***********'\n",
      " 'JB18***********' 'BE-31***********' 'RT4-1***********' 'OA41***********'\n",
      " 'JE11***********' 'BE11***********' 'UA21***********' 'GB11***********'\n",
      " 'CL9-1***********' 'GP6-***********' 'ES3-1***********' 'RF11***********'\n",
      " 'FD31***********' 'CJ11***********' 'RB4-1***********' 'RF1-1***********'\n",
      " 'BE1-1***********' 'RN61***********' 'CF3-1***********' 'UC11***********'\n",
      " 'CR61***********' 'DC51***********' 'GD61***********' 'RN12***********'\n",
      " 'RT21***********' '1***********' 'F23A3***********' 'PR31***********'\n",
      " 'EY61***********' 'MA21***********' 'JK3-1***********' 'GK2-1***********'\n",
      " 'RR31***********' 'RB2-3***********' 'RA81***********' 'UA5-1***********'\n",
      " 'ZE-1***********' 'GH-1***********' 'EY7-1***********' 'RR1-1***********'\n",
      " 'MA31***********' '9902***********' 'EH11***********' 'CL8-1***********'\n",
      " 'CJ1-1***********' 'GP6-3***********' 'PK1-1***********'\n",
      " 'BB51***********' 'GD91***********' 'CB-51***********' 'UA41***********'\n",
      " 'JW5-1***********' 'CE41***********' 'CL3-1***********'\n",
      " 'EG1-1***********' 'UC1-1***********' 'RR11***********' 'HH61***********'\n",
      " 'GAZ3***********' 'GA3-1***********' 'UA11***********' 'RR5-1***********'\n",
      " 'MA7-1***********' 'JB54***********' 'RC41***********' 'GD6-1***********'\n",
      " 'RR41***********' 'MB41***********' 'RF8-1***********' 'RA41***********'\n",
      " 'JH1***********' 'EL1-1***********' 'YH2-1***********' 'EK51***********'\n",
      " 'RN31***********' 'RA91***********' 'GB4-3***********' 'RA21***********'\n",
      " 'RP311***********' 'GA31***********' 'CU21***********' 'PP11***********'\n",
      " 'JE21***********' 'CL-31***********' 'MB4-1***********'\n",
      " 'CM2-3***********' 'EU1-1***********' 'GB61***********'\n",
      " 'CL1-1***********' 'LEB1***********' 'PA13***********' 'MJ4-1***********'\n",
      " 'GH4***********' 'GP7-***********' '9923***********' 'GH2-1***********'\n",
      " 'CL81***********' 'DC21***********' 'BB61***********' 'EK21***********'\n",
      " 'RD4-1***********' 'CB51***********' 'EG8-1***********'\n",
      " 'DA7-1***********' 'DC1-1***********' 'CD51***********' 'MA11***********'\n",
      " 'EG61***********' 'EK-51***********' 'CA1-1***********' 'HJ11***********'\n",
      " 'CA61***********' 'CB3-7***********' 'CB5-1***********' 'GD21***********'\n",
      " 'RD41***********' 'TA21***********' 'PP1-1***********' 'CR6-1***********'\n",
      " 'EF2-3***********' 'DA6-1***********' 'GD2-1***********'\n",
      " 'CH91***********' 'BB1-1***********' 'CW11***********' 'DC5-2***********'\n",
      " 'RN1-2***********' 'EG41***********' 'DC11***********' 'DB1-1***********'\n",
      " 'G20A1***********' 'EU31***********' 'RN3-1***********'\n",
      " 'GB34356789***********' 'RA11***********' 'CE1-1***********'\n",
      " 'BB41***********' 'CJ3-1***********' 'EY9-1***********' 'CC21***********'\n",
      " '27***********' '9928***********' 'EU3-1***********' 'CD3-1***********'\n",
      " 'JHMEJ393300S***********' 'BB4-1***********' 'CF6-1***********'\n",
      " 'GE71***********' 'CB6-1***********' 'EU21***********' 'AB1***********'\n",
      " '9920***********' 'XLBKX13EM***********' '1641561T***********'\n",
      " '544L0***********' 'YV1964991S***********' 'YV744833G2***********'\n",
      " 'XLBKY45ETC***********' '55502W2***********' 'YV1L5502N2***********'\n",
      " '989890' '5***********' 'E11***********' 'AK12-***********'\n",
      " 'E12-***********' '990***********' 'FB15-***********' 'ZE0***********'\n",
      " 'SNC11***********' 'NT32***********' 'JRR50***********' 'NB30***********'\n",
      " 'EM610***********' 'Z12***********' 'VY12***********' 'C26-***********'\n",
      " 'W11***********' 'NC25-***********' 'C25-***********' 'VM20***********'\n",
      " 'VM20-***********' 'KY51-***********' 'FNB15***********' '131974'\n",
      " 'ER34-***********' 'TC24-***********' 'NC26-***********'\n",
      " 'V35-***********' 'HC26-***********' 'ZEO***********' 'Z10-***********'\n",
      " 'NE51-***********' 'HE12***********' '25***********' 'PY33***********'\n",
      " 'QR20***********' 'Y31-***********' 'Y12-***********' 'PNT30***********'\n",
      " 'RFNT14-***********' 'MY34***********' 'V10***********' 'ZE1-***********'\n",
      " 'ENR34***********' 'W0P11***********' 'WFY11***********'\n",
      " 'GFC27***********' 'VRGY60-***********' 'Y12***********'\n",
      " 'FB15***********' 'WTP12***********' 'GC35***********' 'VW11-***********'\n",
      " '40ZUNLMD21***********' 'V35***********' 'VW11***********'\n",
      " 'AZE0***********' 'ZE0-0***********' 'PA32***********' 'HR30***********'\n",
      " 'RMC22***********' 'HC26***********' 'HNT32-1***********'\n",
      " 'QP11***********' 'NK13***********' 'HC34***********' 'PC24***********'\n",
      " 'EU14***********' 'NZ12-***********' 'SC11***********' 'ZEO-***********'\n",
      " 'CC25-***********' 'FPC26***********' 'B15-***********'\n",
      " 'HNU14***********' 'NY12***********' 'WQP11***********' 'YF15***********'\n",
      " 'NT357***********' 'PR50-***********' 'HE12-***********'\n",
      " 'C11-***********' 'WHYD21-***********' 'PW11***********'\n",
      " 'QG10***********' 'TB17-***********' 'VR2E26-***********'\n",
      " 'HGC211-***********' 'QB15***********' 'T30JA5G***********'\n",
      " 'KNJ10***********' 'T32-***********' 'MHFC26-***********'\n",
      " 'NE12-***********' 'HT32***********' 'HGFD***********' 'AZE0-***********'\n",
      " 'HR33***********' 'E11-***********' 'AZ10-***********' 'AZE02***********'\n",
      " 'K11-***********' 'RM12-***********' 'FN15-***********' 'C27-***********'\n",
      " 'PW11-***********' 'HB12-***********' 'GC27-***********'\n",
      " 'HFC26***********' 'WRP2459***********' 'JU3G***********'\n",
      " 'JVU30***********' 'QU14***********' 'FN15***********' 'K11***********'\n",
      " 'XTA19***********' 'HC35***********' 'FC26-***********'\n",
      " 'E12-5***********' 'NT30-***********' 'PA33***********' 'NT30***********'\n",
      " 'U30***********' 'S13-***********' 'ME51***********' 'C26***********'\n",
      " 'B21A0***********' 'PC24-***********' 'T32***********' 'HC27-***********'\n",
      " 'N30***********' 'NU30***********' 'JU30-***********' 'RW11***********'\n",
      " 'YV37-***********' 'G50***********' 'HG50***********'\n",
      " 'ZXFGHJKKLK***********' '11401110***********' '11511510***********'\n",
      " 'ZRR80-0***********' 'ACU10-0***********' 'NCP51-0***********'\n",
      " 'NKE1657***********' 'AZT250-0***********' 'ZZE122-3***********'\n",
      " 'ZZE1223***********' 'EL550***********' 'ZWR80-0***********'\n",
      " 'NSP160-0***********' 'ZGE25-0***********' 'ZVW51-8***********'\n",
      " 'ZZT231-0***********' 'JZS1600***********' 'NZE1617***********'\n",
      " 'NCP120-2***********' 'ZVW41-3***********' 'NZE151-1***********'\n",
      " 'ACA21-0***********' 'ZGM15-0***********' 'M710A-0***********'\n",
      " 'UZJ100-0***********' 'NZE124-5***********' 'M900A-0***********'\n",
      " 'GX110-6***********' 'NHP10-6***********' 'ZRR75-0***********'\n",
      " 'SXN10-0***********' 'NZE121-0***********' 'NHW11-0***********'\n",
      " 'AT211-3***********' 'NCP21-0***********' 'ZVW30-5***********'\n",
      " 'NZE121-3***********' 'ZVW30-1***********' 'JZX100-6***********'\n",
      " 'GX906***********' 'EE960***********' 'JZX100-0***********'\n",
      " 'GX713***********' 'NZE1240***********' 'SCP1000***********'\n",
      " 'ZRT2603***********' 'ANH15-0***********' 'TRJ150-0***********'\n",
      " 'NZE1416***********' 'GX90***********' 'JZS1710***********'\n",
      " 'ZSU65-0***********' 'ZGE20-6***********' 'JZS1750***********'\n",
      " 'KSP1302***********' 'ACM26-5***********' 'ZCT10-0***********'\n",
      " 'AE111-6***********' 'ZHE10-0***********' 'AYH30-0***********'\n",
      " 'GRS1821***********' 'NZE1210***********' 'NKE165-8***********'\n",
      " 'ZRT2654***********' 'NSP120-2***********' 'NZE144-9***********'\n",
      " 'NZT2603***********' 'EL430***********' 'NZE164-8***********'\n",
      " 'NCP58-0***********' 'ZRT2653***********' 'NZE1647***********'\n",
      " 'NZE124-0***********' 'JZX93-6***********' 'AE101-5***********'\n",
      " 'JZX1006***********' 'AE115-0***********' 'SV500***********'\n",
      " 'NRE161-0***********' 'SCP10-0***********' 'GX816***********'\n",
      " 'NZT2400***********' 'CR305***********' 'NZE1245***********'\n",
      " 'SV320***********' '9904***********' 'NCP81-5***********'\n",
      " 'NCP160-0***********' 'EL510***********' 'SXA10-0***********'\n",
      " 'KGC30-0***********' 'ATZ2410***********' 'ZYX10-2***********'\n",
      " 'NGX50-2***********' 'NSP170-7***********' 'AE-95-3***********'\n",
      " 'NHP10-2***********' 'SCP10-3***********' 'NCP12-0***********'\n",
      " 'GGH25-8***********' 'KR420***********' 'KZJ95-0***********'\n",
      " 'GRX1356***********' 'NHP1707***********' 'NZE141-9***********'\n",
      " 'NZE1243***********' 'AE100-3***********' 'SXM10-0***********'\n",
      " 'NZT260-3***********' 'NZE1419***********' '1910***********'\n",
      " 'ST202-0***********' '1105***********' 'NL400***********'\n",
      " 'ZNE10-0***********' 'SNX10-0***********' 'NCP35-0***********'\n",
      " 'NZE1200***********' 'NHP106202***********' 'EL440***********'\n",
      " 'ZRR85-0***********' 'NZE1213***********' 'SV300***********'\n",
      " 'CR400***********' 'TM20G***********' 'AE109-0***********'\n",
      " 'TRJ1500***********' 'NZE1215***********' 'NCP1002***********'\n",
      " 'SCP10-5***********' 'NZE1644***********' 'NKE1658***********'\n",
      " 'ZXN10-0***********' '0***********' 'NSP1202***********'\n",
      " 'GWS224-1***********' '1116***********' 'NRE1618***********'\n",
      " 'TCR20-1***********' 'LS151-0***********' 'NZE124-3***********'\n",
      " 'SV330***********' 'EE103-0***********' 'SCP11-0***********'\n",
      " 'ZCA26-0***********' 'KSP90-2***********' 'ZRE142-6***********'\n",
      " 'NZ121-0***********' 'NSP1418***********' 'NKE165-7***********'\n",
      " 'ST190-4***********' '0000MCU250***********' 'ZRE1449***********'\n",
      " 'CXR20-0***********' 'VG40***********' 'ZNE14-0***********'\n",
      " 'NCP1000***********' 'SXM15-7***********' 'ACR30-0***********'\n",
      " 'EE102-0***********' 'ZVW3015***********' 'NSP130-2***********'\n",
      " 'NSP1352***********' 'ACU25-0***********' 'SV400***********'\n",
      " 'NZE1648***********' 'QNC21-0***********' 'NSP1707***********'\n",
      " 'NCP1***********' 'ZVW50-6***********' 'ZGE20-0***********'\n",
      " 'KGC10-0***********' 'ZVW30-152***********' 'ST183-6***********'\n",
      " 'JCG10-0***********' 'UZS1906***********' 'AYZ10-1***********'\n",
      " 'ZWA10-2***********' 'ANF10-2***********' 'AGL25W-0***********'\n",
      " 'AYZ15-1***********' '13216549849832***********' 'AWL10-7***********'\n",
      " 'AGZ10-1***********' 'ZWA10-6***********' 'AVE30-5***********'\n",
      " 'ARL10-0***********' 'AGL25-0***********' '164302033***********'\n",
      " 'AXZH10-1***********' 'JZS1470***********' 'AWL10-6***********'\n",
      " 'GYL25-0***********' 'ZWA10-3***********' 'AGL25-7***********'\n",
      " 'AGL25W-1***********' 'DBA-***********' 'DAA***********'\n",
      " 'ZWA10-1***********' 'DBA***********' 'DBA-U***********'\n",
      " 'AGL25W-4***********' 'DAA-***********' '2382***********'\n",
      " '1773***********' 'CS5W0***********' 'CD5W0***********'\n",
      " 'A05A0***********' 'N23W5***********' 'V68W0***********'\n",
      " 'PE8W4***********' 'V254***********' 'Z25A0***********'\n",
      " 'Z25A5***********' 'Z23W0***********' 'CU2W0***********'\n",
      " 'V269***********' 'K961***********' 'V443***********' 'H57A0***********'\n",
      " 'N84W0***********' 'K971***********' 'H82W0***********' 'V264***********'\n",
      " 'EA1W0***********' 'H58A0***********' 'CV1W2***********'\n",
      " 'B11W0***********' 'V214***********' 'CV2W1***********' 'V444***********'\n",
      " 'CQ2A0***********' 'CB1V0***********' 'CQ1A0***********'\n",
      " 'EC5A0***********' 'CS2A1***********' 'PF6W0***********'\n",
      " 'CJ2A0***********' 'CS2A0***********' 'Z22A0***********'\n",
      " 'EC1W5***********' 'H76W0***********' 'EA-1A-0***********'\n",
      " 'U65W0***********' 'CR9W0***********' 'EA7A***********'\n",
      " 'DMYJSREA2AVD***********' 'V554***********' 'HA3W-***********'\n",
      " 'N28W5***********' 'N61W0***********' 'H66W0***********'\n",
      " 'F34A5***********' 'E72A0***********' 'HA3W0***********'\n",
      " 'V464***********' 'CB2V0***********' 'V434***********' 'CS5A0***********'\n",
      " 'JMBONV460V460VJ***********' 'EC1A0***********' 'CV5W0***********'\n",
      " 'GA3W0***********' 'CD2V0***********' 'A03A0***********'\n",
      " 'V24-7***********' 'H57A5***********' 'H81W0***********'\n",
      " 'F31A0***********' 'MB36S-2***********' 'CK2A0***********'\n",
      " 'MB15S***********' 'CV2W0***********' 'Z21A0***********'\n",
      " 'CL2A0***********' 'HA1W0***********' 'H42V1***********'\n",
      " 'K97-1***********' 'N94W0***********' 'GK1W-00***********'\n",
      " 'V78W0***********' 'E53A0***********' 'CW5W5***********'\n",
      " 'CB2W0***********' 'DE3A0***********' 'CK1A0***********'\n",
      " 'F46A5***********' 'CN9A0***********' 'Z26A5***********'\n",
      " 'U62V1***********' 'DSNE55AP***********' 'N43W0***********'\n",
      " 'CT9A0***********' 'H77W5***********' 'CA1A0***********'\n",
      " 'Z27A0***********' 'GG2W0***********' 'V454***********'\n",
      " 'C51A0***********' 'VY12-***********' 'P25W1***********'\n",
      " 'E52A0***********' 'N71W0***********' 'EA7W0***********'\n",
      " 'V75W0***********' 'HA1W1***********' 'F31A5***********'\n",
      " 'CM2A0***********' 'N21W0***********' 'H56A0***********'\n",
      " 'EC1W0***********' 'N21W5***********' 'DSNCK1AT***********'\n",
      " 'CE9A0***********' 'N11W5***********' 'CS5A***********'\n",
      " 'XMCNDA2AWF***********' 'PE8W0***********' 'CJ1A0***********'\n",
      " 'CQ5A0***********' 'TMBEEA653V04***********' '9933***********'\n",
      " '60236110***********']\n"
     ]
    }
   ],
   "source": [
    "print(\"Значения в train\", data_train['Кузов №'].unique())"
   ]
  },
  {
   "cell_type": "code",
   "execution_count": 197,
   "id": "5a2ba7c6",
   "metadata": {},
   "outputs": [
    {
     "name": "stdout",
     "output_type": "stream",
     "text": [
      "Значения в train [nan 'Рассмотрю варианты']\n"
     ]
    }
   ],
   "source": [
    "print(\"Значения в train\", data_train['Обмен'].unique())"
   ]
  },
  {
   "cell_type": "code",
   "execution_count": 198,
   "id": "a658382f",
   "metadata": {},
   "outputs": [
    {
     "name": "stdout",
     "output_type": "stream",
     "text": [
      "Значения в train [nan 'На заказ']\n"
     ]
    }
   ],
   "source": [
    "print(\"Значения в train\", data_train['Статус'].unique())"
   ]
  },
  {
   "cell_type": "markdown",
   "id": "018ce367",
   "metadata": {},
   "source": [
    "Жаль таких признаков нет в test. Удалю Госномер, model_year, Кузов №, VIN, Обмен, Статус. Остальные может быть понадобятся для генерации признаков"
   ]
  },
  {
   "cell_type": "code",
   "execution_count": 199,
   "id": "c0718290",
   "metadata": {},
   "outputs": [],
   "source": [
    "cols_to_del_train.append('Госномер')\n",
    "cols_to_del_train.append('model_year')\n",
    "cols_to_del_train.append('Кузов №')\n",
    "cols_to_del_train.append('VIN')\n",
    "cols_to_del_train.append('Обмен')\n",
    "cols_to_del_train.append('Статус')"
   ]
  },
  {
   "cell_type": "code",
   "execution_count": 200,
   "id": "2f6abb26",
   "metadata": {},
   "outputs": [
    {
     "name": "stdout",
     "output_type": "stream",
     "text": [
      "Список колонок, которых нет в train, но есть в test: ['description', 'name', 'vendor', 'priceCurrency', 'vehicleConfiguration', 'model_name', 'model_info', 'image', 'super_gen', 'equipment_dict', 'sell_id', 'complectation_dict']\n"
     ]
    },
    {
     "data": {
      "text/html": [
       "<div>\n",
       "<style scoped>\n",
       "    .dataframe tbody tr th:only-of-type {\n",
       "        vertical-align: middle;\n",
       "    }\n",
       "\n",
       "    .dataframe tbody tr th {\n",
       "        vertical-align: top;\n",
       "    }\n",
       "\n",
       "    .dataframe thead th {\n",
       "        text-align: right;\n",
       "    }\n",
       "</style>\n",
       "<table border=\"1\" class=\"dataframe\">\n",
       "  <thead>\n",
       "    <tr style=\"text-align: right;\">\n",
       "      <th></th>\n",
       "      <th>description</th>\n",
       "      <th>name</th>\n",
       "      <th>vendor</th>\n",
       "      <th>priceCurrency</th>\n",
       "      <th>vehicleConfiguration</th>\n",
       "      <th>model_name</th>\n",
       "      <th>model_info</th>\n",
       "      <th>image</th>\n",
       "      <th>super_gen</th>\n",
       "      <th>equipment_dict</th>\n",
       "      <th>sell_id</th>\n",
       "      <th>complectation_dict</th>\n",
       "    </tr>\n",
       "  </thead>\n",
       "  <tbody>\n",
       "    <tr>\n",
       "      <th>33250</th>\n",
       "      <td>Выгода от 30 000 руб. при обмене на Ваш автомо...</td>\n",
       "      <td>2.2d AT (150 л.с.) 4WD</td>\n",
       "      <td>JAPANESE</td>\n",
       "      <td>RUB</td>\n",
       "      <td>ALLROAD_5_DOORS AUTOMATIC 2.2</td>\n",
       "      <td>RAV_4</td>\n",
       "      <td>{\"code\":\"RAV_4\",\"name\":\"RAV4\",\"ru_name\":\"Рав4\"...</td>\n",
       "      <td>https://avatars.mds.yandex.net/get-autoru-vos/...</td>\n",
       "      <td>{\"id\":\"20702866\",\"displacement\":2231,\"engine_t...</td>\n",
       "      <td>{\"airbag-rear-side\":true,\"asr\":true,\"airbag-dr...</td>\n",
       "      <td>1101334345</td>\n",
       "      <td>NaN</td>\n",
       "    </tr>\n",
       "    <tr>\n",
       "      <th>22348</th>\n",
       "      <td>Продам отличный минивэн (универсал)чистая япош...</td>\n",
       "      <td>1.6 AT (110 л.с.)</td>\n",
       "      <td>JAPANESE</td>\n",
       "      <td>RUB</td>\n",
       "      <td>COMPACTVAN AUTOMATIC 1.6</td>\n",
       "      <td>COROLLA_SPACIO</td>\n",
       "      <td>{\"code\":\"COROLLA_SPACIO\",\"name\":\"Corolla Spaci...</td>\n",
       "      <td>https://autoru.naydex.net/imflT9272/520f62I9/2...</td>\n",
       "      <td>{\"id\":\"9371282\",\"displacement\":1587,\"engine_ty...</td>\n",
       "      <td>{\"engine-proof\":true,\"tinted-glass\":true,\"esp\"...</td>\n",
       "      <td>1085351762</td>\n",
       "      <td>NaN</td>\n",
       "    </tr>\n",
       "    <tr>\n",
       "      <th>23055</th>\n",
       "      <td>Я собственник, я вписан ПТС.\\nКрасивый родной ...</td>\n",
       "      <td>250 2.5 AT (208 л.с.)</td>\n",
       "      <td>JAPANESE</td>\n",
       "      <td>RUB</td>\n",
       "      <td>SEDAN AUTOMATIC 2.5</td>\n",
       "      <td>IS</td>\n",
       "      <td>{\"code\":\"IS\",\"name\":\"IS\",\"ru_name\":\"IS\",\"morph...</td>\n",
       "      <td>https://autoru.naydex.net/imflT9272/520f62I9/2...</td>\n",
       "      <td>{\"id\":\"20393613\",\"name\":\"250\",\"nameplate\":\"250...</td>\n",
       "      <td>{\"esp\":true,\"airbag-driver\":true,\"aux\":true,\"w...</td>\n",
       "      <td>1086295422</td>\n",
       "      <td>NaN</td>\n",
       "    </tr>\n",
       "  </tbody>\n",
       "</table>\n",
       "</div>"
      ],
      "text/plain": [
       "                                             description  \\\n",
       "33250  Выгода от 30 000 руб. при обмене на Ваш автомо...   \n",
       "22348  Продам отличный минивэн (универсал)чистая япош...   \n",
       "23055  Я собственник, я вписан ПТС.\\nКрасивый родной ...   \n",
       "\n",
       "                         name    vendor priceCurrency  \\\n",
       "33250  2.2d AT (150 л.с.) 4WD  JAPANESE           RUB   \n",
       "22348       1.6 AT (110 л.с.)  JAPANESE           RUB   \n",
       "23055   250 2.5 AT (208 л.с.)  JAPANESE           RUB   \n",
       "\n",
       "                vehicleConfiguration      model_name  \\\n",
       "33250  ALLROAD_5_DOORS AUTOMATIC 2.2           RAV_4   \n",
       "22348       COMPACTVAN AUTOMATIC 1.6  COROLLA_SPACIO   \n",
       "23055            SEDAN AUTOMATIC 2.5              IS   \n",
       "\n",
       "                                              model_info  \\\n",
       "33250  {\"code\":\"RAV_4\",\"name\":\"RAV4\",\"ru_name\":\"Рав4\"...   \n",
       "22348  {\"code\":\"COROLLA_SPACIO\",\"name\":\"Corolla Spaci...   \n",
       "23055  {\"code\":\"IS\",\"name\":\"IS\",\"ru_name\":\"IS\",\"morph...   \n",
       "\n",
       "                                                   image  \\\n",
       "33250  https://avatars.mds.yandex.net/get-autoru-vos/...   \n",
       "22348  https://autoru.naydex.net/imflT9272/520f62I9/2...   \n",
       "23055  https://autoru.naydex.net/imflT9272/520f62I9/2...   \n",
       "\n",
       "                                               super_gen  \\\n",
       "33250  {\"id\":\"20702866\",\"displacement\":2231,\"engine_t...   \n",
       "22348  {\"id\":\"9371282\",\"displacement\":1587,\"engine_ty...   \n",
       "23055  {\"id\":\"20393613\",\"name\":\"250\",\"nameplate\":\"250...   \n",
       "\n",
       "                                          equipment_dict     sell_id  \\\n",
       "33250  {\"airbag-rear-side\":true,\"asr\":true,\"airbag-dr...  1101334345   \n",
       "22348  {\"engine-proof\":true,\"tinted-glass\":true,\"esp\"...  1085351762   \n",
       "23055  {\"esp\":true,\"airbag-driver\":true,\"aux\":true,\"w...  1086295422   \n",
       "\n",
       "      complectation_dict  \n",
       "33250                NaN  \n",
       "22348                NaN  \n",
       "23055                NaN  "
      ]
     },
     "execution_count": 200,
     "metadata": {},
     "output_type": "execute_result"
    }
   ],
   "source": [
    "# Список колонок, которых нет в train\n",
    "dif_list = list(set(data_test.columns).difference(data_train.columns))\n",
    "print(\"Список колонок, которых нет в train, но есть в test:\", dif_list)\n",
    "    \n",
    "# Посмотрим на данные в этих колонках\n",
    "data_test[dif_list].sample(3)"
   ]
  },
  {
   "cell_type": "markdown",
   "id": "543f7792",
   "metadata": {},
   "source": [
    "Пока что явно можно удалить sell_id и image. С остальными попробую поработать"
   ]
  },
  {
   "cell_type": "code",
   "execution_count": 201,
   "id": "e5f335c9",
   "metadata": {},
   "outputs": [],
   "source": [
    "cols_to_del_test.append('sell_id')\n",
    "cols_to_del_test.append('image')"
   ]
  },
  {
   "cell_type": "markdown",
   "id": "7302199a",
   "metadata": {},
   "source": [
    "# Equipment_dict"
   ]
  },
  {
   "cell_type": "code",
   "execution_count": 202,
   "id": "493d8f6f",
   "metadata": {},
   "outputs": [
    {
     "data": {
      "text/plain": [
       "'{\"cruise-control\":true,\"tinted-glass\":true,\"esp\":true,\"sport-seats\":true,\"multi-wheel\":true,\"airbag-passenger\":true,\"front-centre-armrest\":true,\"front-seat-support\":true,\"lock\":true,\"drl\":true,\"electro-mirrors\":true,\"electro-window-back\":true,\"18-inch-wheels\":true,\"mirrors-heat\":true,\"volume-sensor\":true,\"hatch\":true,\"combo-interior\":true,\"cooling-box\":true,\"music-super\":true,\"park-assist-r\":true,\"engine-proof\":true,\"airbag-driver\":true,\"aux\":true,\"isofix\":true,\"electro-window-front\":true,\"light-sensor\":true,\"automatic-lighting-control\":true,\"computer\":true,\"seat-transformation\":true,\"wheel-power\":true,\"alarm\":true,\"light-cleaner\":true,\"alloy-wheel-disks\":true,\"paint-metallic\":true,\"ptf\":true,\"leather-gear-stick\":true,\"rain-sensor\":true,\"airbag-side\":true,\"tyre-pressure\":true,\"abs\":true,\"front-seats-heat\":true,\"wheel-leather\":true,\"wheel-configuration2\":true,\"wheel-configuration1\":true,\"immo\":true,\"climate-control-1\":true}'"
      ]
     },
     "execution_count": 202,
     "metadata": {},
     "output_type": "execute_result"
    }
   ],
   "source": [
    "data_test['equipment_dict'][5]"
   ]
  },
  {
   "cell_type": "markdown",
   "id": "7faf0fa2",
   "metadata": {},
   "source": [
    "К сожалению, ничего не совпадает с train. Удаляем."
   ]
  },
  {
   "cell_type": "code",
   "execution_count": 203,
   "id": "72f4caa6",
   "metadata": {},
   "outputs": [],
   "source": [
    "cols_to_del_test.append('equipment_dict')"
   ]
  },
  {
   "cell_type": "markdown",
   "id": "5b647238",
   "metadata": {},
   "source": [
    "# Name"
   ]
  },
  {
   "cell_type": "code",
   "execution_count": 204,
   "id": "d54e0301",
   "metadata": {},
   "outputs": [
    {
     "data": {
      "text/plain": [
       "'2.0 AMT (200 л.с.)'"
      ]
     },
     "execution_count": 204,
     "metadata": {},
     "output_type": "execute_result"
    }
   ],
   "source": [
    "data_test['name'][5]"
   ]
  },
  {
   "cell_type": "markdown",
   "id": "7e4e763e",
   "metadata": {},
   "source": [
    "Name - дублирует информацию из колонок engineDisplacement, enginePower. Удаляю"
   ]
  },
  {
   "cell_type": "code",
   "execution_count": 205,
   "id": "fc006c9f",
   "metadata": {},
   "outputs": [],
   "source": [
    "cols_to_del_test.append('name')"
   ]
  },
  {
   "cell_type": "markdown",
   "id": "71b0c4fc",
   "metadata": {},
   "source": [
    "# Complectation_dict"
   ]
  },
  {
   "cell_type": "code",
   "execution_count": 206,
   "id": "16ac8448",
   "metadata": {},
   "outputs": [
    {
     "data": {
      "text/plain": [
       "'{\"id\":\"5011515\",\"name\":\"RS\",\"available_options\":[\"cruise-control\",\"sport-seats\",\"multi-wheel\",\"airbag-passenger\",\"lock\",\"electro-mirrors\",\"mirrors-heat\",\"cooling-box\",\"computer\",\"seat-transformation\",\"wheel-power\",\"fabric-seats\",\"airbag-side\",\"abs\",\"wheel-leather\",\"climate-control-1\",\"esp\",\"audiopreparation\",\"electro-window-back\",\"condition\",\"music-super\",\"park-assist-r\",\"airbag-driver\",\"isofix\",\"aux\",\"electro-window-front\",\"light-sensor\",\"alarm\",\"paint-metallic\",\"ptf\",\"rain-sensor\",\"tyre-pressure\",\"audiosystem-cd\",\"front-seats-heat\",\"wheel-configuration2\",\"wheel-configuration1\",\"immo\"]}'"
      ]
     },
     "execution_count": 206,
     "metadata": {},
     "output_type": "execute_result"
    }
   ],
   "source": [
    "data_test['complectation_dict'][5]"
   ]
  },
  {
   "cell_type": "markdown",
   "id": "df7a5910",
   "metadata": {},
   "source": [
    "Тоже ничего полезного. Удаляю"
   ]
  },
  {
   "cell_type": "code",
   "execution_count": 207,
   "id": "301190df",
   "metadata": {},
   "outputs": [],
   "source": [
    "cols_to_del_test.append('complectation_dict')"
   ]
  },
  {
   "cell_type": "markdown",
   "id": "f5c2baee",
   "metadata": {},
   "source": [
    "# Model_info, model_name и model"
   ]
  },
  {
   "cell_type": "markdown",
   "id": "06af932a",
   "metadata": {},
   "source": [
    "Попробуем достать data_train['model'] название модели в соответствии с data_test['model_name'] и на базе этой информации создать новый признак о популярности модели."
   ]
  },
  {
   "cell_type": "code",
   "execution_count": 208,
   "id": "111400dd",
   "metadata": {},
   "outputs": [
    {
     "data": {
      "text/plain": [
       "'{\"code\":\"OCTAVIA_RS\",\"name\":\"Octavia RS\",\"ru_name\":\"Октавия РС\",\"morphology\":{\"gender\":\"FEMININE\"},\"nameplate\":{\"code\":\"\",\"name\":\"\",\"semantic_url\":\"\"}}'"
      ]
     },
     "execution_count": 208,
     "metadata": {},
     "output_type": "execute_result"
    }
   ],
   "source": [
    "data_test['model_info'][5]"
   ]
  },
  {
   "cell_type": "code",
   "execution_count": 209,
   "id": "3566138b",
   "metadata": {},
   "outputs": [
    {
     "data": {
      "text/plain": [
       "OCTAVIA         1418\n",
       "5ER             1026\n",
       "LANCER           855\n",
       "E_KLASSE         809\n",
       "PASSAT           782\n",
       "                ... \n",
       "920                1\n",
       "SLC_KLASSE         1\n",
       "MEGA_CRUISER       1\n",
       "100NX              1\n",
       "ATLAS              1\n",
       "Name: model_name, Length: 544, dtype: int64"
      ]
     },
     "execution_count": 209,
     "metadata": {},
     "output_type": "execute_result"
    }
   ],
   "source": [
    "data_test['model_name'].value_counts()"
   ]
  },
  {
   "cell_type": "code",
   "execution_count": 210,
   "id": "0e31f45a",
   "metadata": {},
   "outputs": [
    {
     "data": {
      "text/plain": [
       "array(['Skoda Kodiaq I', 'Skoda Rapid II', 'Skoda Superb II', ...,\n",
       "       'Mercedes-Benz CL-Класс 500 II (C215)',\n",
       "       'Mercedes-Benz CLS 280 I (C219) Рестайлинг',\n",
       "       'Mercedes-Benz W123 250'], dtype=object)"
      ]
     },
     "execution_count": 210,
     "metadata": {},
     "output_type": "execute_result"
    }
   ],
   "source": [
    "data_train['model'].unique()"
   ]
  },
  {
   "cell_type": "code",
   "execution_count": 211,
   "id": "06d819fc",
   "metadata": {},
   "outputs": [],
   "source": [
    "data_train['model'] = data_train['model'].apply(\n",
    "    lambda x: x.split(\" \")[1])"
   ]
  },
  {
   "cell_type": "code",
   "execution_count": 212,
   "id": "624c3533",
   "metadata": {},
   "outputs": [
    {
     "data": {
      "text/plain": [
       "Octavia      1444\n",
       "Outlander    1153\n",
       "Polo         1115\n",
       "RX           1060\n",
       "Qashqai       890\n",
       "             ... \n",
       "W189            1\n",
       "Clarity         1\n",
       "Cynos           1\n",
       "WiLL            1\n",
       "Sigma           1\n",
       "Name: model, Length: 398, dtype: int64"
      ]
     },
     "execution_count": 212,
     "metadata": {},
     "output_type": "execute_result"
    }
   ],
   "source": [
    "data_train['model'].value_counts()"
   ]
  },
  {
   "cell_type": "code",
   "execution_count": 213,
   "id": "a66dc2da",
   "metadata": {},
   "outputs": [],
   "source": [
    "data_train['model'] = data_train['model'].str.lower()\n",
    "data_test['model_name'] = data_test['model_name'].str.lower()"
   ]
  },
  {
   "cell_type": "code",
   "execution_count": 214,
   "id": "5d9bdfc3",
   "metadata": {},
   "outputs": [],
   "source": [
    "model_df_train = pd.Series(data_train['model'])\n",
    "model_df_test = pd.Series(data_test['model_name'])"
   ]
  },
  {
   "cell_type": "code",
   "execution_count": 215,
   "id": "bf4e2296",
   "metadata": {},
   "outputs": [],
   "source": [
    "model_data=pd.concat([model_df_train, model_df_test])"
   ]
  },
  {
   "cell_type": "code",
   "execution_count": 216,
   "id": "5836b0e6",
   "metadata": {},
   "outputs": [],
   "source": [
    "# Определяем популярность по среднему значению частоты встречаний значения в датасетах\n",
    "model_df = pd.DataFrame(model_data.value_counts())\n",
    "mean_model = model_data.value_counts().values.mean()\n",
    "\n",
    "# Добавляем признак во временный датафрейм\n",
    "model_df['modelPopular'] = model_df[0].apply(\n",
    "    lambda x: 1 if x >= mean_model else 0)\n",
    "\n",
    "# Создаем словарь популярности модели\n",
    "dict_model = model_df.to_dict()['modelPopular']\n",
    "dict_model_is_popular = {k: v for k, v in dict_model.items() if v == 1}\n",
    "\n",
    "#Преоюразуем словарь в список\n",
    "list_model_is_popular=list(dict_model_is_popular)"
   ]
  },
  {
   "cell_type": "code",
   "execution_count": 217,
   "id": "cb41db41",
   "metadata": {},
   "outputs": [],
   "source": [
    "data_train['modelPopular'] = data_train['model'].apply(lambda x: 1 if x in list_model_is_popular\n",
    "                                                    else 0)"
   ]
  },
  {
   "cell_type": "code",
   "execution_count": 218,
   "id": "e041a972",
   "metadata": {},
   "outputs": [],
   "source": [
    "data_test['modelPopular'] = data_test['model_name'].apply(lambda x: 1 if x in list_model_is_popular\n",
    "                                                    else 0)"
   ]
  },
  {
   "cell_type": "code",
   "execution_count": 219,
   "id": "4b1344ad",
   "metadata": {},
   "outputs": [
    {
     "data": {
      "text/plain": [
       "1    32634\n",
       "0     4012\n",
       "Name: modelPopular, dtype: int64"
      ]
     },
     "execution_count": 219,
     "metadata": {},
     "output_type": "execute_result"
    }
   ],
   "source": [
    "data_train['modelPopular'].value_counts()"
   ]
  },
  {
   "cell_type": "code",
   "execution_count": 220,
   "id": "22636d4b",
   "metadata": {},
   "outputs": [
    {
     "data": {
      "text/plain": [
       "1    29110\n",
       "0     5576\n",
       "Name: modelPopular, dtype: int64"
      ]
     },
     "execution_count": 220,
     "metadata": {},
     "output_type": "execute_result"
    }
   ],
   "source": [
    "data_test['modelPopular'].value_counts()"
   ]
  },
  {
   "cell_type": "markdown",
   "id": "7373daf2",
   "metadata": {},
   "source": [
    "Отлично, даже отношение примерно одинаковое. Оставляем признак и удаляем столбцы со значениями модели"
   ]
  },
  {
   "cell_type": "code",
   "execution_count": 221,
   "id": "40582ee4",
   "metadata": {},
   "outputs": [
    {
     "data": {
      "image/png": "[encoded data removed]",
      "text/plain": [
       "<Figure size 432x288 with 1 Axes>"
      ]
     },
     "metadata": {},
     "output_type": "display_data"
    }
   ],
   "source": [
    "plot_cat_col_vs_price(data_train, 'modelPopular', [0, 6e6])"
   ]
  },
  {
   "cell_type": "code",
   "execution_count": 222,
   "id": "66b25edb",
   "metadata": {},
   "outputs": [],
   "source": [
    "cols_to_del_test.append('model_name')\n",
    "cols_to_del_test.append('model_info')\n",
    "cols_to_del_train.append('model')"
   ]
  },
  {
   "cell_type": "markdown",
   "id": "bdda6ee2",
   "metadata": {},
   "source": [
    "# Vendor"
   ]
  },
  {
   "cell_type": "code",
   "execution_count": 223,
   "id": "594bd6a0",
   "metadata": {},
   "outputs": [
    {
     "data": {
      "text/plain": [
       "array(['EUROPEAN', 'JAPANESE'], dtype=object)"
      ]
     },
     "execution_count": 223,
     "metadata": {},
     "output_type": "execute_result"
    }
   ],
   "source": [
    "data_test['vendor'].unique()"
   ]
  },
  {
   "cell_type": "markdown",
   "id": "1c6e462b",
   "metadata": {},
   "source": [
    "Попробуем создать словарь из vendor и brand и по нему создать признак vendor в train."
   ]
  },
  {
   "cell_type": "code",
   "execution_count": 224,
   "id": "831a42c5",
   "metadata": {},
   "outputs": [
    {
     "data": {
      "text/plain": [
       "{'EUROPEAN': ['bmw', 'volkswagen', 'mercedes', 'audi', 'skoda', 'volvo'],\n",
       " 'JAPANESE': ['nissan', 'toyota', 'mitsubishi', 'honda', 'infiniti', 'lexus']}"
      ]
     },
     "execution_count": 224,
     "metadata": {},
     "output_type": "execute_result"
    }
   ],
   "source": [
    "# Создаем словарь из вендоров по брендам\n",
    "vendor_dict = data_test.groupby(['vendor'])['brand'].apply(\n",
    "    lambda grp: list(grp.value_counts().index)).to_dict()\n",
    "vendor_dict"
   ]
  },
  {
   "cell_type": "code",
   "execution_count": 225,
   "id": "a6b94f26",
   "metadata": {},
   "outputs": [
    {
     "name": "stdout",
     "output_type": "stream",
     "text": [
      "Список брендов, которых нет в test, но есть в train: []\n"
     ]
    }
   ],
   "source": [
    "dif_list_brands = list(\n",
    "    set(data_train.brand.unique()).difference(data_test.brand.unique()))\n",
    "print(\"Список брендов, которых нет в test, но есть в train:\", dif_list_brands)"
   ]
  },
  {
   "cell_type": "code",
   "execution_count": 226,
   "id": "9cefd0fa",
   "metadata": {},
   "outputs": [],
   "source": [
    "# Создадим новый словарь для мапинга\n",
    "new_map = {str(x): str(k) for k, v in vendor_dict.items() for x in v}"
   ]
  },
  {
   "cell_type": "code",
   "execution_count": 227,
   "id": "4dc02f14",
   "metadata": {},
   "outputs": [],
   "source": [
    "# Создаем признак vendor в train\n",
    "data_train['vendor'] = data_train.brand.copy()\n",
    "data_train['vendor'] = data_train['vendor'].map(new_map)"
   ]
  },
  {
   "cell_type": "code",
   "execution_count": 228,
   "id": "f936ffcf",
   "metadata": {},
   "outputs": [
    {
     "data": {
      "image/png": "[encoded data removed]",
      "text/plain": [
       "<Figure size 432x288 with 1 Axes>"
      ]
     },
     "metadata": {},
     "output_type": "display_data"
    }
   ],
   "source": [
    "plot_cat_col_vs_price(data_train, 'vendor', [0, 6e6])"
   ]
  },
  {
   "cell_type": "code",
   "execution_count": 229,
   "id": "32458869",
   "metadata": {},
   "outputs": [],
   "source": [
    "cols_to_oh_encode.append('vendor')"
   ]
  },
  {
   "cell_type": "markdown",
   "id": "0d2c7a9d",
   "metadata": {},
   "source": [
    "# Description"
   ]
  },
  {
   "cell_type": "code",
   "execution_count": 230,
   "id": "b09b532f",
   "metadata": {},
   "outputs": [
    {
     "data": {
      "text/plain": [
       "'Продаю свой автомобиль! Автомобиль полностью исправен и обслужен. Состояние авто отличное. Имеется зимняя резина,новая (отъездил на ней пару месяцев).Автомобиль очень бодрый и динамичный.Прошивку не делал. Все вопросы по телефону! Оригинальный ПТС. Установлен Даунпайп. Установлен Умный отопитель.Кузов в родной краске. Полный комплект ключей и документов. Обмен не интересует.'"
      ]
     },
     "execution_count": 230,
     "metadata": {},
     "output_type": "execute_result"
    }
   ],
   "source": [
    "data_test['description'][5]"
   ]
  },
  {
   "cell_type": "markdown",
   "id": "efce5b01",
   "metadata": {},
   "source": [
    "Я удалю этот признак, но как идея на будущее - покапаться в описании и возможно можно достать новые признаки из него. "
   ]
  },
  {
   "cell_type": "code",
   "execution_count": 231,
   "id": "88bc2bdb",
   "metadata": {},
   "outputs": [],
   "source": [
    "cols_to_del_test.append('description')"
   ]
  },
  {
   "cell_type": "markdown",
   "id": "e85d99b3",
   "metadata": {},
   "source": [
    "# VehicleConfiguration"
   ]
  },
  {
   "cell_type": "code",
   "execution_count": 232,
   "id": "97119541",
   "metadata": {},
   "outputs": [
    {
     "data": {
      "text/plain": [
       "'LIFTBACK ROBOT 2.0'"
      ]
     },
     "execution_count": 232,
     "metadata": {},
     "output_type": "execute_result"
    }
   ],
   "source": [
    "data_test['vehicleConfiguration'][5]"
   ]
  },
  {
   "cell_type": "markdown",
   "id": "571e98e4",
   "metadata": {},
   "source": [
    "vehicleConfiguration - дублирует информацию из колонок vehicleTransmission, engineDisplacement, bodyType. Удаляю"
   ]
  },
  {
   "cell_type": "code",
   "execution_count": 233,
   "id": "502a6e43",
   "metadata": {},
   "outputs": [],
   "source": [
    "cols_to_del_test.append('vehicleConfiguration')"
   ]
  },
  {
   "cell_type": "markdown",
   "id": "227f8390",
   "metadata": {},
   "source": [
    "# Super_gen"
   ]
  },
  {
   "cell_type": "code",
   "execution_count": 234,
   "id": "b27ce72b",
   "metadata": {},
   "outputs": [
    {
     "data": {
      "text/plain": [
       "'{\"id\":\"5009158\",\"displacement\":1984,\"engine_type\":\"GASOLINE\",\"gear_type\":\"FORWARD_CONTROL\",\"transmission\":\"ROBOT\",\"power\":200,\"power_kvt\":147,\"human_name\":\"2.0 AMT (200 л.с.)\",\"acceleration\":7.2,\"clearance_min\":127,\"fuel_rate\":7.7}'"
      ]
     },
     "execution_count": 234,
     "metadata": {},
     "output_type": "execute_result"
    }
   ],
   "source": [
    "data_test['super_gen'][5]"
   ]
  },
  {
   "cell_type": "code",
   "execution_count": 235,
   "id": "76c15cea",
   "metadata": {},
   "outputs": [],
   "source": [
    "import ast\n",
    "\n",
    "data_test['super_gen'] = data_test['super_gen'].apply(\n",
    "    lambda x: ast.literal_eval(x))"
   ]
  },
  {
   "cell_type": "code",
   "execution_count": 236,
   "id": "9d4bbac6",
   "metadata": {},
   "outputs": [
    {
     "data": {
      "text/plain": [
       "7.7"
      ]
     },
     "execution_count": 236,
     "metadata": {},
     "output_type": "execute_result"
    }
   ],
   "source": [
    "data_test['super_gen'][5]['fuel_rate']"
   ]
  },
  {
   "cell_type": "code",
   "execution_count": 237,
   "id": "3591926b",
   "metadata": {},
   "outputs": [],
   "source": [
    "data_test['fuel_rate']=data_test['super_gen'].copy()"
   ]
  },
  {
   "cell_type": "code",
   "execution_count": 238,
   "id": "3bb29fbd",
   "metadata": {},
   "outputs": [],
   "source": [
    "for i in range(0, len(data_test)):\n",
    "    data_test['fuel_rate'][i] = data_test['super_gen'][i].get('fuel_rate')"
   ]
  },
  {
   "cell_type": "code",
   "execution_count": 239,
   "id": "a1f3b541",
   "metadata": {},
   "outputs": [
    {
     "data": {
      "text/plain": [
       "<AxesSubplot:>"
      ]
     },
     "execution_count": 239,
     "metadata": {},
     "output_type": "execute_result"
    },
    {
     "data": {
      "image/png": "[encoded data removed]",
      "text/plain": [
       "<Figure size 432x288 with 1 Axes>"
      ]
     },
     "metadata": {},
     "output_type": "display_data"
    }
   ],
   "source": [
    "data_test['fuel_rate'].hist()"
   ]
  },
  {
   "cell_type": "markdown",
   "id": "b2b5dc6c",
   "metadata": {},
   "source": [
    "Похоже, что таких данные нет в train. Как идея на будущее - поискать дополнительные данные по модели автомобиля. Пока что удаляем. признак. "
   ]
  },
  {
   "cell_type": "code",
   "execution_count": 240,
   "id": "88616d9f",
   "metadata": {},
   "outputs": [],
   "source": [
    "cols_to_del_test.append('super_gen')\n",
    "cols_to_del_test.append('fuel_rate')"
   ]
  },
  {
   "cell_type": "markdown",
   "id": "6f4a05d1",
   "metadata": {},
   "source": [
    "# PriceCurrency"
   ]
  },
  {
   "cell_type": "code",
   "execution_count": 241,
   "id": "e05ab835",
   "metadata": {},
   "outputs": [
    {
     "data": {
      "text/plain": [
       "array(['RUB'], dtype=object)"
      ]
     },
     "execution_count": 241,
     "metadata": {},
     "output_type": "execute_result"
    }
   ],
   "source": [
    "data_test['priceCurrency'].unique()"
   ]
  },
  {
   "cell_type": "markdown",
   "id": "624e9352",
   "metadata": {},
   "source": [
    "Все цены в рублях. Удалим признак"
   ]
  },
  {
   "cell_type": "code",
   "execution_count": 242,
   "id": "2420bb9f",
   "metadata": {},
   "outputs": [],
   "source": [
    "cols_to_del_test.append('priceCurrency')"
   ]
  },
  {
   "cell_type": "markdown",
   "id": "e31e0281",
   "metadata": {},
   "source": [
    "# Двигатель, Запас хода\t, Комплектация, Налог и Гарантия"
   ]
  },
  {
   "cell_type": "markdown",
   "id": "c744b993",
   "metadata": {},
   "source": [
    "Удаляем э ти признаки, так как нет полезности в них в итоге на данный момент. Идея на будущее - поискать эти данные в описании"
   ]
  },
  {
   "cell_type": "code",
   "execution_count": 243,
   "id": "2ac9f502",
   "metadata": {},
   "outputs": [],
   "source": [
    "cols_to_del_train.append('Двигатель')\n",
    "cols_to_del_train.append('Запас хода')\n",
    "cols_to_del_train.append('Комплектация')\n",
    "cols_to_del_train.append('Налог')\n",
    "cols_to_del_train.append('Гарантия')"
   ]
  },
  {
   "cell_type": "markdown",
   "id": "80e9f13a",
   "metadata": {},
   "source": [
    "# Удаляем ненужные колонки"
   ]
  },
  {
   "cell_type": "code",
   "execution_count": 244,
   "id": "a029d678",
   "metadata": {},
   "outputs": [],
   "source": [
    "data_train.drop(cols_to_del_train, axis=1, inplace=True)"
   ]
  },
  {
   "cell_type": "code",
   "execution_count": 245,
   "id": "3852f5a9",
   "metadata": {},
   "outputs": [],
   "source": [
    "data_test.drop(cols_to_del_test, axis=1, inplace=True)"
   ]
  },
  {
   "cell_type": "markdown",
   "id": "1b649049",
   "metadata": {},
   "source": [
    "# Обработка пропусков"
   ]
  },
  {
   "cell_type": "code",
   "execution_count": 265,
   "id": "d68379a9",
   "metadata": {},
   "outputs": [
    {
     "data": {
      "text/plain": [
       "price                  0\n",
       "numberOfDoors          9\n",
       "productionDate         0\n",
       "mileage                0\n",
       "bodyType               0\n",
       "vehicleTransmission    0\n",
       "Привод                 0\n",
       "Руль                   0\n",
       "Владельцы              0\n",
       "ПТС                    0\n",
       "fuelType               0\n",
       "enginePower            0\n",
       "engineDisplacement     0\n",
       "brand                  0\n",
       "modelDate              9\n",
       "expensive_bodyType     0\n",
       "popular_color          0\n",
       "expensive_brand        0\n",
       "modelPopular           0\n",
       "vendor                 0\n",
       "km_per_year            0\n",
       "dtype: int64"
      ]
     },
     "execution_count": 265,
     "metadata": {},
     "output_type": "execute_result"
    }
   ],
   "source": [
    "data_train.isnull().sum()"
   ]
  },
  {
   "cell_type": "markdown",
   "id": "30f991b8",
   "metadata": {},
   "source": [
    "Пропусков немного, можем себе позволить удалить строки с пропусками"
   ]
  },
  {
   "cell_type": "code",
   "execution_count": 267,
   "id": "85952e37",
   "metadata": {},
   "outputs": [],
   "source": [
    "data_train.dropna(subset=['numberOfDoors'], inplace=True)\n",
    "data_train.dropna(subset=['modelDate'], inplace=True)"
   ]
  },
  {
   "cell_type": "markdown",
   "id": "13ce573c",
   "metadata": {},
   "source": [
    "# Обработка выбросов"
   ]
  },
  {
   "cell_type": "code",
   "execution_count": 271,
   "id": "03b00a12",
   "metadata": {},
   "outputs": [
    {
     "data": {
      "text/plain": [
       "['price',\n",
       " 'productionDate',\n",
       " 'modelDate',\n",
       " 'mileage',\n",
       " 'engineDisplacement',\n",
       " 'enginePower',\n",
       " 'km_per_year']"
      ]
     },
     "execution_count": 271,
     "metadata": {},
     "output_type": "execute_result"
    }
   ],
   "source": [
    "num_cols"
   ]
  },
  {
   "cell_type": "code",
   "execution_count": 274,
   "id": "ba54d78c",
   "metadata": {},
   "outputs": [
    {
     "data": {
      "text/plain": [
       "(2353, -1532500.0, 4551500.0)"
      ]
     },
     "execution_count": 274,
     "metadata": {},
     "output_type": "execute_result"
    }
   ],
   "source": [
    "outliers(data_train['price'])"
   ]
  },
  {
   "cell_type": "code",
   "execution_count": 280,
   "id": "3793e3b0",
   "metadata": {},
   "outputs": [
    {
     "name": "stdout",
     "output_type": "stream",
     "text": [
      "<IntegerArray>\n",
      "[2019, 2018, 2017, 2020, 2015, 2014, 1958, 2008, 2013, 2016, 2021, 2012, 1999,\n",
      " 1937, 2004, 2011, 1957, 2010, 2003, 1990, 1998, 1955, 2007]\n",
      "Length: 23, dtype: Int64\n"
     ]
    }
   ],
   "source": [
    "print(data_train.loc[data_train['price'] > 4551500.0].modelDate.unique())"
   ]
  },
  {
   "cell_type": "markdown",
   "id": "baf4c2e4",
   "metadata": {},
   "source": [
    "В основном это или новые или очень старые (раритетные) машины. Что похоже на правду, поэтому не удаляем выбросы"
   ]
  },
  {
   "cell_type": "code",
   "execution_count": 283,
   "id": "3dc25b39",
   "metadata": {},
   "outputs": [
    {
     "data": {
      "text/plain": [
       "(694, -112500.0, 371500.0)"
      ]
     },
     "execution_count": 283,
     "metadata": {},
     "output_type": "execute_result"
    }
   ],
   "source": [
    "outliers(data_train['mileage'])"
   ]
  },
  {
   "cell_type": "code",
   "execution_count": 284,
   "id": "31ccf857",
   "metadata": {},
   "outputs": [
    {
     "name": "stdout",
     "output_type": "stream",
     "text": [
      "<IntegerArray>\n",
      "[2000, 2013, 2008, 2004, 1993, 1987, 1991, 1995, 2002, 1997, 1999, 2007, 2003,\n",
      " 2005, 2011, 2001, 1994, 1998, 2006, 1996, 1988, 1989, 1985, 1992, 1983, 1990,\n",
      " 1974, 1982, 2012, 1986, 1981, 1977, 2014, 2010, 1984, 2009, 2019, 1975]\n",
      "Length: 38, dtype: Int64\n"
     ]
    }
   ],
   "source": [
    "print(data_train.loc[data_train['mileage'] > 371500.0].modelDate.unique())"
   ]
  },
  {
   "cell_type": "markdown",
   "id": "b3b45207",
   "metadata": {},
   "source": [
    "Правктически все очень старые машины, для которых пробег большой - оставляем. "
   ]
  },
  {
   "cell_type": "code",
   "execution_count": 285,
   "id": "69120806",
   "metadata": {},
   "outputs": [
    {
     "data": {
      "text/plain": [
       "(1192, -0.34999999999999964, 4.85)"
      ]
     },
     "execution_count": 285,
     "metadata": {},
     "output_type": "execute_result"
    }
   ],
   "source": [
    "outliers(data_train['engineDisplacement'])"
   ]
  },
  {
   "cell_type": "code",
   "execution_count": 287,
   "id": "5de2744e",
   "metadata": {},
   "outputs": [
    {
     "name": "stdout",
     "output_type": "stream",
     "text": [
      "['nissan' 'infiniti' 'mercedes' 'toyota' 'lexus' 'bmw']\n"
     ]
    }
   ],
   "source": [
    "print(data_train.loc[data_train['engineDisplacement'] > 4.85].brand.unique())"
   ]
  },
  {
   "cell_type": "code",
   "execution_count": 288,
   "id": "22c78f90",
   "metadata": {},
   "outputs": [
    {
     "data": {
      "text/plain": [
       "6.6"
      ]
     },
     "execution_count": 288,
     "metadata": {},
     "output_type": "execute_result"
    }
   ],
   "source": [
    "data_train['engineDisplacement'].max()"
   ]
  },
  {
   "cell_type": "code",
   "execution_count": 289,
   "id": "78226006",
   "metadata": {},
   "outputs": [
    {
     "data": {
      "text/plain": [
       "(1231, -26.0, 390.0)"
      ]
     },
     "execution_count": 289,
     "metadata": {},
     "output_type": "execute_result"
    }
   ],
   "source": [
    "outliers(data_train['enginePower'])"
   ]
  },
  {
   "cell_type": "code",
   "execution_count": 290,
   "id": "793b6d08",
   "metadata": {},
   "outputs": [
    {
     "name": "stdout",
     "output_type": "stream",
     "text": [
      "['bmw' 'nissan' 'infiniti' 'mercedes' 'lexus' 'volvo' 'toyota']\n"
     ]
    }
   ],
   "source": [
    "print(data_train.loc[data_train['enginePower'] > 390.0].brand.unique())"
   ]
  },
  {
   "cell_type": "markdown",
   "id": "78705d4f",
   "metadata": {},
   "source": [
    "Одни и те же бренды в выбросах. А так как объем двигателя и его мощность связаны, риску предположить что эти выбросы обоснованы. Оставляем"
   ]
  },
  {
   "cell_type": "code",
   "execution_count": 291,
   "id": "44ff05cf",
   "metadata": {},
   "outputs": [
    {
     "data": {
      "text/plain": [
       "(1626, -2692.857142857143, 35535.71428571429)"
      ]
     },
     "execution_count": 291,
     "metadata": {},
     "output_type": "execute_result"
    }
   ],
   "source": [
    "outliers(data_train['km_per_year'])"
   ]
  },
  {
   "cell_type": "code",
   "execution_count": 292,
   "id": "cdf36553",
   "metadata": {},
   "outputs": [
    {
     "name": "stdout",
     "output_type": "stream",
     "text": [
      "<IntegerArray>\n",
      "[2017, 2020, 2012, 2015, 2016, 2013, 2019, 2010, 2008, 2018, 2014, 2005, 2011,\n",
      " 1995, 2009, 1989, 2003, 2006, 2007, 1998]\n",
      "Length: 20, dtype: Int64\n"
     ]
    }
   ],
   "source": [
    "print(data_train.loc[data_train['km_per_year'] > 35535.71428571429].modelDate.unique())"
   ]
  },
  {
   "cell_type": "markdown",
   "id": "72426a8e",
   "metadata": {},
   "source": [
    "Большая часть - машины старые, а молодые поэтому и продаются, что пробег сделали большой. Оставляем"
   ]
  },
  {
   "cell_type": "markdown",
   "id": "397db177",
   "metadata": {},
   "source": [
    "# Стандартизация данных"
   ]
  },
  {
   "cell_type": "code",
   "execution_count": null,
   "id": "aa9ef1bd",
   "metadata": {},
   "outputs": [],
   "source": []
  }
 ],
 "metadata": {
  "kernelspec": {
   "display_name": "Python 3",
   "language": "python",
   "name": "python3"
  },
  "language_info": {
   "codemirror_mode": {
    "name": "ipython",
    "version": 3
   },
   "file_extension": ".py",
   "mimetype": "text/x-python",
   "name": "python",
   "nbconvert_exporter": "python",
   "pygments_lexer": "ipython3",
   "version": "3.8.8"
  }
 },
 "nbformat": 4,
 "nbformat_minor": 5
}
