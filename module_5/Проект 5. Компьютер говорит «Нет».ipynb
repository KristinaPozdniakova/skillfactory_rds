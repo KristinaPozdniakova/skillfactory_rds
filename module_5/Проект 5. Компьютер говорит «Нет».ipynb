{
 "cells": [
  {
   "cell_type": "code",
   "execution_count": 872,
   "id": "b0d9c2b9",
   "metadata": {},
   "outputs": [],
   "source": [
    "import pandas as pd\n",
    "import numpy as np\n",
    "\n",
    "from pandas import Series\n",
    "\n",
    "import matplotlib.pyplot as plt\n",
    "import seaborn as sns\n",
    "\n",
    "from sklearn.feature_selection import f_classif, mutual_info_classif\n",
    "from sklearn.preprocessing import LabelEncoder, OneHotEncoder, StandardScaler\n",
    "\n",
    "from sklearn.model_selection import train_test_split\n",
    "from sklearn.linear_model import LogisticRegression\n",
    "\n",
    "from sklearn.metrics import (confusion_matrix, \n",
    "                            accuracy_score, \n",
    "                            precision_score, \n",
    "                            recall_score, \n",
    "                            f1_score, \n",
    "                            roc_auc_score, \n",
    "                            roc_curve)\n",
    "\n",
    "from sklearn.model_selection import (GridSearchCV,\n",
    "                                     train_test_split,\n",
    "                                     KFold,\n",
    "                                     RepeatedKFold)\n",
    "import imblearn\n",
    "\n",
    "import warnings\n",
    "warnings.filterwarnings(\"ignore\")"
   ]
  },
  {
   "cell_type": "code",
   "execution_count": 873,
   "id": "1bf774b7",
   "metadata": {},
   "outputs": [],
   "source": [
    "data = pd.read_csv('train2.csv')"
   ]
  },
  {
   "cell_type": "code",
   "execution_count": 874,
   "id": "eeb2a9d7",
   "metadata": {},
   "outputs": [
    {
     "name": "stdout",
     "output_type": "stream",
     "text": [
      "<class 'pandas.core.frame.DataFrame'>\n",
      "RangeIndex: 73799 entries, 0 to 73798\n",
      "Data columns (total 19 columns):\n",
      " #   Column            Non-Null Count  Dtype  \n",
      "---  ------            --------------  -----  \n",
      " 0   client_id         73799 non-null  int64  \n",
      " 1   app_date          73799 non-null  object \n",
      " 2   education         73492 non-null  object \n",
      " 3   sex               73799 non-null  object \n",
      " 4   age               73799 non-null  int64  \n",
      " 5   car               73799 non-null  object \n",
      " 6   car_type          73799 non-null  object \n",
      " 7   decline_app_cnt   73799 non-null  int64  \n",
      " 8   good_work         73799 non-null  int64  \n",
      " 9   score_bki         73799 non-null  float64\n",
      " 10  bki_request_cnt   73799 non-null  int64  \n",
      " 11  region_rating     73799 non-null  int64  \n",
      " 12  home_address      73799 non-null  int64  \n",
      " 13  work_address      73799 non-null  int64  \n",
      " 14  income            73799 non-null  int64  \n",
      " 15  sna               73799 non-null  int64  \n",
      " 16  first_time        73799 non-null  int64  \n",
      " 17  foreign_passport  73799 non-null  object \n",
      " 18  default           73799 non-null  int64  \n",
      "dtypes: float64(1), int64(12), object(6)\n",
      "memory usage: 10.7+ MB\n"
     ]
    }
   ],
   "source": [
    "#Первичный обзор данных\n",
    "\n",
    "data.info()"
   ]
  },
  {
   "cell_type": "code",
   "execution_count": 875,
   "id": "859f5f65",
   "metadata": {},
   "outputs": [
    {
     "data": {
      "text/html": [
       "<div>\n",
       "<style scoped>\n",
       "    .dataframe tbody tr th:only-of-type {\n",
       "        vertical-align: middle;\n",
       "    }\n",
       "\n",
       "    .dataframe tbody tr th {\n",
       "        vertical-align: top;\n",
       "    }\n",
       "\n",
       "    .dataframe thead th {\n",
       "        text-align: right;\n",
       "    }\n",
       "</style>\n",
       "<table border=\"1\" class=\"dataframe\">\n",
       "  <thead>\n",
       "    <tr style=\"text-align: right;\">\n",
       "      <th></th>\n",
       "      <th>client_id</th>\n",
       "      <th>age</th>\n",
       "      <th>decline_app_cnt</th>\n",
       "      <th>good_work</th>\n",
       "      <th>score_bki</th>\n",
       "      <th>bki_request_cnt</th>\n",
       "      <th>region_rating</th>\n",
       "      <th>home_address</th>\n",
       "      <th>work_address</th>\n",
       "      <th>income</th>\n",
       "      <th>sna</th>\n",
       "      <th>first_time</th>\n",
       "      <th>default</th>\n",
       "    </tr>\n",
       "  </thead>\n",
       "  <tbody>\n",
       "    <tr>\n",
       "      <th>count</th>\n",
       "      <td>73799.000000</td>\n",
       "      <td>73799.000000</td>\n",
       "      <td>73799.000000</td>\n",
       "      <td>73799.000000</td>\n",
       "      <td>73799.000000</td>\n",
       "      <td>73799.000000</td>\n",
       "      <td>73799.000000</td>\n",
       "      <td>73799.000000</td>\n",
       "      <td>73799.000000</td>\n",
       "      <td>73799.000000</td>\n",
       "      <td>73799.000000</td>\n",
       "      <td>73799.000000</td>\n",
       "      <td>73799.000000</td>\n",
       "    </tr>\n",
       "    <tr>\n",
       "      <th>mean</th>\n",
       "      <td>55137.965094</td>\n",
       "      <td>39.280641</td>\n",
       "      <td>0.275749</td>\n",
       "      <td>0.164894</td>\n",
       "      <td>-1.904724</td>\n",
       "      <td>2.000339</td>\n",
       "      <td>56.725701</td>\n",
       "      <td>1.575509</td>\n",
       "      <td>2.496280</td>\n",
       "      <td>41099.775417</td>\n",
       "      <td>1.733330</td>\n",
       "      <td>2.765458</td>\n",
       "      <td>0.126994</td>\n",
       "    </tr>\n",
       "    <tr>\n",
       "      <th>std</th>\n",
       "      <td>31841.921168</td>\n",
       "      <td>11.520378</td>\n",
       "      <td>0.804272</td>\n",
       "      <td>0.371087</td>\n",
       "      <td>0.498231</td>\n",
       "      <td>2.252073</td>\n",
       "      <td>13.055717</td>\n",
       "      <td>0.527631</td>\n",
       "      <td>0.689818</td>\n",
       "      <td>46166.322400</td>\n",
       "      <td>1.123622</td>\n",
       "      <td>1.009463</td>\n",
       "      <td>0.332968</td>\n",
       "    </tr>\n",
       "    <tr>\n",
       "      <th>min</th>\n",
       "      <td>1.000000</td>\n",
       "      <td>21.000000</td>\n",
       "      <td>0.000000</td>\n",
       "      <td>0.000000</td>\n",
       "      <td>-3.624586</td>\n",
       "      <td>0.000000</td>\n",
       "      <td>20.000000</td>\n",
       "      <td>1.000000</td>\n",
       "      <td>1.000000</td>\n",
       "      <td>1000.000000</td>\n",
       "      <td>1.000000</td>\n",
       "      <td>1.000000</td>\n",
       "      <td>0.000000</td>\n",
       "    </tr>\n",
       "    <tr>\n",
       "      <th>25%</th>\n",
       "      <td>27440.500000</td>\n",
       "      <td>30.000000</td>\n",
       "      <td>0.000000</td>\n",
       "      <td>0.000000</td>\n",
       "      <td>-2.259534</td>\n",
       "      <td>0.000000</td>\n",
       "      <td>50.000000</td>\n",
       "      <td>1.000000</td>\n",
       "      <td>2.000000</td>\n",
       "      <td>20000.000000</td>\n",
       "      <td>1.000000</td>\n",
       "      <td>2.000000</td>\n",
       "      <td>0.000000</td>\n",
       "    </tr>\n",
       "    <tr>\n",
       "      <th>50%</th>\n",
       "      <td>55274.000000</td>\n",
       "      <td>37.000000</td>\n",
       "      <td>0.000000</td>\n",
       "      <td>0.000000</td>\n",
       "      <td>-1.920823</td>\n",
       "      <td>1.000000</td>\n",
       "      <td>50.000000</td>\n",
       "      <td>2.000000</td>\n",
       "      <td>3.000000</td>\n",
       "      <td>30000.000000</td>\n",
       "      <td>1.000000</td>\n",
       "      <td>3.000000</td>\n",
       "      <td>0.000000</td>\n",
       "    </tr>\n",
       "    <tr>\n",
       "      <th>75%</th>\n",
       "      <td>82758.500000</td>\n",
       "      <td>48.000000</td>\n",
       "      <td>0.000000</td>\n",
       "      <td>0.000000</td>\n",
       "      <td>-1.569831</td>\n",
       "      <td>3.000000</td>\n",
       "      <td>60.000000</td>\n",
       "      <td>2.000000</td>\n",
       "      <td>3.000000</td>\n",
       "      <td>48000.000000</td>\n",
       "      <td>2.000000</td>\n",
       "      <td>4.000000</td>\n",
       "      <td>0.000000</td>\n",
       "    </tr>\n",
       "    <tr>\n",
       "      <th>max</th>\n",
       "      <td>110147.000000</td>\n",
       "      <td>72.000000</td>\n",
       "      <td>33.000000</td>\n",
       "      <td>1.000000</td>\n",
       "      <td>0.199773</td>\n",
       "      <td>53.000000</td>\n",
       "      <td>80.000000</td>\n",
       "      <td>3.000000</td>\n",
       "      <td>3.000000</td>\n",
       "      <td>1000000.000000</td>\n",
       "      <td>4.000000</td>\n",
       "      <td>4.000000</td>\n",
       "      <td>1.000000</td>\n",
       "    </tr>\n",
       "  </tbody>\n",
       "</table>\n",
       "</div>"
      ],
      "text/plain": [
       "           client_id           age  decline_app_cnt     good_work  \\\n",
       "count   73799.000000  73799.000000     73799.000000  73799.000000   \n",
       "mean    55137.965094     39.280641         0.275749      0.164894   \n",
       "std     31841.921168     11.520378         0.804272      0.371087   \n",
       "min         1.000000     21.000000         0.000000      0.000000   \n",
       "25%     27440.500000     30.000000         0.000000      0.000000   \n",
       "50%     55274.000000     37.000000         0.000000      0.000000   \n",
       "75%     82758.500000     48.000000         0.000000      0.000000   \n",
       "max    110147.000000     72.000000        33.000000      1.000000   \n",
       "\n",
       "          score_bki  bki_request_cnt  region_rating  home_address  \\\n",
       "count  73799.000000     73799.000000   73799.000000  73799.000000   \n",
       "mean      -1.904724         2.000339      56.725701      1.575509   \n",
       "std        0.498231         2.252073      13.055717      0.527631   \n",
       "min       -3.624586         0.000000      20.000000      1.000000   \n",
       "25%       -2.259534         0.000000      50.000000      1.000000   \n",
       "50%       -1.920823         1.000000      50.000000      2.000000   \n",
       "75%       -1.569831         3.000000      60.000000      2.000000   \n",
       "max        0.199773        53.000000      80.000000      3.000000   \n",
       "\n",
       "       work_address          income           sna    first_time       default  \n",
       "count  73799.000000    73799.000000  73799.000000  73799.000000  73799.000000  \n",
       "mean       2.496280    41099.775417      1.733330      2.765458      0.126994  \n",
       "std        0.689818    46166.322400      1.123622      1.009463      0.332968  \n",
       "min        1.000000     1000.000000      1.000000      1.000000      0.000000  \n",
       "25%        2.000000    20000.000000      1.000000      2.000000      0.000000  \n",
       "50%        3.000000    30000.000000      1.000000      3.000000      0.000000  \n",
       "75%        3.000000    48000.000000      2.000000      4.000000      0.000000  \n",
       "max        3.000000  1000000.000000      4.000000      4.000000      1.000000  "
      ]
     },
     "execution_count": 875,
     "metadata": {},
     "output_type": "execute_result"
    }
   ],
   "source": [
    "data.describe()"
   ]
  },
  {
   "cell_type": "markdown",
   "id": "c19ee273",
   "metadata": {},
   "source": [
    "Видим тут что разные признаки как и предполагалось в разном маштабе и нужно будет обработать и привести к общему "
   ]
  },
  {
   "cell_type": "code",
   "execution_count": 876,
   "id": "93a84a98",
   "metadata": {},
   "outputs": [
    {
     "data": {
      "text/html": [
       "<div>\n",
       "<style scoped>\n",
       "    .dataframe tbody tr th:only-of-type {\n",
       "        vertical-align: middle;\n",
       "    }\n",
       "\n",
       "    .dataframe tbody tr th {\n",
       "        vertical-align: top;\n",
       "    }\n",
       "\n",
       "    .dataframe thead th {\n",
       "        text-align: right;\n",
       "    }\n",
       "</style>\n",
       "<table border=\"1\" class=\"dataframe\">\n",
       "  <thead>\n",
       "    <tr style=\"text-align: right;\">\n",
       "      <th></th>\n",
       "      <th>app_date</th>\n",
       "      <th>education</th>\n",
       "      <th>sex</th>\n",
       "      <th>car</th>\n",
       "      <th>car_type</th>\n",
       "      <th>foreign_passport</th>\n",
       "    </tr>\n",
       "  </thead>\n",
       "  <tbody>\n",
       "    <tr>\n",
       "      <th>count</th>\n",
       "      <td>73799</td>\n",
       "      <td>73492</td>\n",
       "      <td>73799</td>\n",
       "      <td>73799</td>\n",
       "      <td>73799</td>\n",
       "      <td>73799</td>\n",
       "    </tr>\n",
       "    <tr>\n",
       "      <th>unique</th>\n",
       "      <td>120</td>\n",
       "      <td>5</td>\n",
       "      <td>2</td>\n",
       "      <td>2</td>\n",
       "      <td>2</td>\n",
       "      <td>2</td>\n",
       "    </tr>\n",
       "    <tr>\n",
       "      <th>top</th>\n",
       "      <td>18MAR2014</td>\n",
       "      <td>SCH</td>\n",
       "      <td>F</td>\n",
       "      <td>N</td>\n",
       "      <td>N</td>\n",
       "      <td>N</td>\n",
       "    </tr>\n",
       "    <tr>\n",
       "      <th>freq</th>\n",
       "      <td>1018</td>\n",
       "      <td>38860</td>\n",
       "      <td>41562</td>\n",
       "      <td>49832</td>\n",
       "      <td>59791</td>\n",
       "      <td>62733</td>\n",
       "    </tr>\n",
       "  </tbody>\n",
       "</table>\n",
       "</div>"
      ],
      "text/plain": [
       "         app_date education    sex    car car_type foreign_passport\n",
       "count       73799     73492  73799  73799    73799            73799\n",
       "unique        120         5      2      2        2                2\n",
       "top     18MAR2014       SCH      F      N        N                N\n",
       "freq         1018     38860  41562  49832    59791            62733"
      ]
     },
     "execution_count": 876,
     "metadata": {},
     "output_type": "execute_result"
    }
   ],
   "source": [
    "data.describe(include='object')"
   ]
  },
  {
   "cell_type": "code",
   "execution_count": 877,
   "id": "8686beba",
   "metadata": {},
   "outputs": [
    {
     "data": {
      "text/html": [
       "<div>\n",
       "<style scoped>\n",
       "    .dataframe tbody tr th:only-of-type {\n",
       "        vertical-align: middle;\n",
       "    }\n",
       "\n",
       "    .dataframe tbody tr th {\n",
       "        vertical-align: top;\n",
       "    }\n",
       "\n",
       "    .dataframe thead th {\n",
       "        text-align: right;\n",
       "    }\n",
       "</style>\n",
       "<table border=\"1\" class=\"dataframe\">\n",
       "  <thead>\n",
       "    <tr style=\"text-align: right;\">\n",
       "      <th></th>\n",
       "      <th>client_id</th>\n",
       "      <th>app_date</th>\n",
       "      <th>education</th>\n",
       "      <th>sex</th>\n",
       "      <th>age</th>\n",
       "      <th>car</th>\n",
       "      <th>car_type</th>\n",
       "      <th>decline_app_cnt</th>\n",
       "      <th>good_work</th>\n",
       "      <th>score_bki</th>\n",
       "      <th>bki_request_cnt</th>\n",
       "      <th>region_rating</th>\n",
       "      <th>home_address</th>\n",
       "      <th>work_address</th>\n",
       "      <th>income</th>\n",
       "      <th>sna</th>\n",
       "      <th>first_time</th>\n",
       "      <th>foreign_passport</th>\n",
       "      <th>default</th>\n",
       "    </tr>\n",
       "  </thead>\n",
       "  <tbody>\n",
       "    <tr>\n",
       "      <th>0</th>\n",
       "      <td>25905</td>\n",
       "      <td>01FEB2014</td>\n",
       "      <td>SCH</td>\n",
       "      <td>M</td>\n",
       "      <td>62</td>\n",
       "      <td>Y</td>\n",
       "      <td>Y</td>\n",
       "      <td>0</td>\n",
       "      <td>0</td>\n",
       "      <td>-2.008753</td>\n",
       "      <td>1</td>\n",
       "      <td>50</td>\n",
       "      <td>1</td>\n",
       "      <td>2</td>\n",
       "      <td>18000</td>\n",
       "      <td>4</td>\n",
       "      <td>1</td>\n",
       "      <td>N</td>\n",
       "      <td>0</td>\n",
       "    </tr>\n",
       "    <tr>\n",
       "      <th>1</th>\n",
       "      <td>63161</td>\n",
       "      <td>12MAR2014</td>\n",
       "      <td>SCH</td>\n",
       "      <td>F</td>\n",
       "      <td>59</td>\n",
       "      <td>N</td>\n",
       "      <td>N</td>\n",
       "      <td>0</td>\n",
       "      <td>0</td>\n",
       "      <td>-1.532276</td>\n",
       "      <td>3</td>\n",
       "      <td>50</td>\n",
       "      <td>2</td>\n",
       "      <td>3</td>\n",
       "      <td>19000</td>\n",
       "      <td>4</td>\n",
       "      <td>1</td>\n",
       "      <td>N</td>\n",
       "      <td>0</td>\n",
       "    </tr>\n",
       "    <tr>\n",
       "      <th>2</th>\n",
       "      <td>25887</td>\n",
       "      <td>01FEB2014</td>\n",
       "      <td>SCH</td>\n",
       "      <td>M</td>\n",
       "      <td>25</td>\n",
       "      <td>Y</td>\n",
       "      <td>N</td>\n",
       "      <td>2</td>\n",
       "      <td>0</td>\n",
       "      <td>-1.408142</td>\n",
       "      <td>1</td>\n",
       "      <td>80</td>\n",
       "      <td>1</td>\n",
       "      <td>2</td>\n",
       "      <td>30000</td>\n",
       "      <td>1</td>\n",
       "      <td>4</td>\n",
       "      <td>Y</td>\n",
       "      <td>0</td>\n",
       "    </tr>\n",
       "    <tr>\n",
       "      <th>3</th>\n",
       "      <td>16222</td>\n",
       "      <td>23JAN2014</td>\n",
       "      <td>SCH</td>\n",
       "      <td>F</td>\n",
       "      <td>53</td>\n",
       "      <td>N</td>\n",
       "      <td>N</td>\n",
       "      <td>0</td>\n",
       "      <td>0</td>\n",
       "      <td>-2.057471</td>\n",
       "      <td>2</td>\n",
       "      <td>50</td>\n",
       "      <td>2</td>\n",
       "      <td>3</td>\n",
       "      <td>10000</td>\n",
       "      <td>1</td>\n",
       "      <td>3</td>\n",
       "      <td>N</td>\n",
       "      <td>0</td>\n",
       "    </tr>\n",
       "    <tr>\n",
       "      <th>4</th>\n",
       "      <td>101655</td>\n",
       "      <td>18APR2014</td>\n",
       "      <td>GRD</td>\n",
       "      <td>M</td>\n",
       "      <td>48</td>\n",
       "      <td>N</td>\n",
       "      <td>N</td>\n",
       "      <td>0</td>\n",
       "      <td>1</td>\n",
       "      <td>-1.244723</td>\n",
       "      <td>1</td>\n",
       "      <td>60</td>\n",
       "      <td>2</td>\n",
       "      <td>3</td>\n",
       "      <td>30000</td>\n",
       "      <td>1</td>\n",
       "      <td>4</td>\n",
       "      <td>Y</td>\n",
       "      <td>0</td>\n",
       "    </tr>\n",
       "  </tbody>\n",
       "</table>\n",
       "</div>"
      ],
      "text/plain": [
       "   client_id   app_date education sex  age car car_type  decline_app_cnt  \\\n",
       "0      25905  01FEB2014       SCH   M   62   Y        Y                0   \n",
       "1      63161  12MAR2014       SCH   F   59   N        N                0   \n",
       "2      25887  01FEB2014       SCH   M   25   Y        N                2   \n",
       "3      16222  23JAN2014       SCH   F   53   N        N                0   \n",
       "4     101655  18APR2014       GRD   M   48   N        N                0   \n",
       "\n",
       "   good_work  score_bki  bki_request_cnt  region_rating  home_address  \\\n",
       "0          0  -2.008753                1             50             1   \n",
       "1          0  -1.532276                3             50             2   \n",
       "2          0  -1.408142                1             80             1   \n",
       "3          0  -2.057471                2             50             2   \n",
       "4          1  -1.244723                1             60             2   \n",
       "\n",
       "   work_address  income  sna  first_time foreign_passport  default  \n",
       "0             2   18000    4           1                N        0  \n",
       "1             3   19000    4           1                N        0  \n",
       "2             2   30000    1           4                Y        0  \n",
       "3             3   10000    1           3                N        0  \n",
       "4             3   30000    1           4                Y        0  "
      ]
     },
     "execution_count": 877,
     "metadata": {},
     "output_type": "execute_result"
    }
   ],
   "source": [
    "data.head()"
   ]
  },
  {
   "cell_type": "code",
   "execution_count": 878,
   "id": "454a318f",
   "metadata": {},
   "outputs": [
    {
     "data": {
      "text/plain": [
       "<AxesSubplot:>"
      ]
     },
     "execution_count": 878,
     "metadata": {},
     "output_type": "execute_result"
    },
    {
     "data": {
      "image/png": "[encoded data removed]",
      "text/plain": [
       "<Figure size 432x288 with 1 Axes>"
      ]
     },
     "metadata": {
      "needs_background": "light"
     },
     "output_type": "display_data"
    }
   ],
   "source": [
    "data['default'].hist()"
   ]
  },
  {
   "cell_type": "markdown",
   "id": "321d8190",
   "metadata": {},
   "source": [
    "Вывод - целевая несбалансирована. На это нужно обратить внимание при обучении модели - есть риск переобучиться на самый популярный класс."
   ]
  },
  {
   "cell_type": "code",
   "execution_count": 879,
   "id": "b33b6758",
   "metadata": {},
   "outputs": [
    {
     "data": {
      "text/plain": [
       "client_id             0\n",
       "app_date              0\n",
       "education           307\n",
       "sex                   0\n",
       "age                   0\n",
       "car                   0\n",
       "car_type              0\n",
       "decline_app_cnt       0\n",
       "good_work             0\n",
       "score_bki             0\n",
       "bki_request_cnt       0\n",
       "region_rating         0\n",
       "home_address          0\n",
       "work_address          0\n",
       "income                0\n",
       "sna                   0\n",
       "first_time            0\n",
       "foreign_passport      0\n",
       "default               0\n",
       "dtype: int64"
      ]
     },
     "execution_count": 879,
     "metadata": {},
     "output_type": "execute_result"
    }
   ],
   "source": [
    "data.isna().sum()"
   ]
  },
  {
   "cell_type": "code",
   "execution_count": 880,
   "id": "1859a44d",
   "metadata": {},
   "outputs": [
    {
     "data": {
      "text/plain": [
       "<AxesSubplot:>"
      ]
     },
     "execution_count": 880,
     "metadata": {},
     "output_type": "execute_result"
    },
    {
     "data": {
      "image/png": "[encoded data removed]",
      "text/plain": [
       "<Figure size 432x288 with 1 Axes>"
      ]
     },
     "metadata": {
      "needs_background": "light"
     },
     "output_type": "display_data"
    }
   ],
   "source": [
    "data['education'].value_counts().plot.barh()"
   ]
  },
  {
   "cell_type": "markdown",
   "id": "afff48bd",
   "metadata": {},
   "source": [
    "Я решила заменить отсутствующие значение на SCH, потому что пропусков очень мало, они никак не будут полезны в кажестве нового признака для модели, скорее всего. На будущее - предложить новый вариант - 'без образования', потому что у нас нет категории под людей без какого-либо образования, и возможно это они."
   ]
  },
  {
   "cell_type": "code",
   "execution_count": 881,
   "id": "339da3c8",
   "metadata": {},
   "outputs": [],
   "source": [
    "data['education']=data['education'].fillna('SCH')"
   ]
  },
  {
   "cell_type": "code",
   "execution_count": 882,
   "id": "b647ea73",
   "metadata": {},
   "outputs": [
    {
     "data": {
      "text/plain": [
       "client_id           0\n",
       "app_date            0\n",
       "education           0\n",
       "sex                 0\n",
       "age                 0\n",
       "car                 0\n",
       "car_type            0\n",
       "decline_app_cnt     0\n",
       "good_work           0\n",
       "score_bki           0\n",
       "bki_request_cnt     0\n",
       "region_rating       0\n",
       "home_address        0\n",
       "work_address        0\n",
       "income              0\n",
       "sna                 0\n",
       "first_time          0\n",
       "foreign_passport    0\n",
       "default             0\n",
       "dtype: int64"
      ]
     },
     "execution_count": 882,
     "metadata": {},
     "output_type": "execute_result"
    }
   ],
   "source": [
    "#Проверяем что пропусков не осталось\n",
    "data.isnull().sum()"
   ]
  },
  {
   "cell_type": "code",
   "execution_count": 883,
   "id": "6381b10b",
   "metadata": {},
   "outputs": [
    {
     "data": {
      "text/plain": [
       "2049      1\n",
       "85187     1\n",
       "85507     1\n",
       "83458     1\n",
       "87552     1\n",
       "         ..\n",
       "101156    1\n",
       "107297    1\n",
       "109344    1\n",
       "21279     1\n",
       "6141      1\n",
       "Name: client_id, Length: 73799, dtype: int64"
      ]
     },
     "execution_count": 883,
     "metadata": {},
     "output_type": "execute_result"
    }
   ],
   "source": [
    "#Проверям уникальность каждого id\n",
    "\n",
    "data.client_id.value_counts()"
   ]
  },
  {
   "cell_type": "code",
   "execution_count": 884,
   "id": "9ee2d7ed",
   "metadata": {},
   "outputs": [],
   "source": [
    "#Удаляем столбик с id так как он не несет никакой значимости\n",
    "\n",
    "data.drop(['client_id'], axis=1, inplace=True)"
   ]
  },
  {
   "cell_type": "code",
   "execution_count": 885,
   "id": "285c24c5",
   "metadata": {},
   "outputs": [
    {
     "data": {
      "text/plain": [
       "<AxesSubplot:>"
      ]
     },
     "execution_count": 885,
     "metadata": {},
     "output_type": "execute_result"
    },
    {
     "data": {
      "image/png": "[encoded data removed]",
      "text/plain": [
       "<Figure size 432x288 with 2 Axes>"
      ]
     },
     "metadata": {
      "needs_background": "light"
     },
     "output_type": "display_data"
    }
   ],
   "source": [
    "sns.heatmap(data.corr().abs(), vmin=0, vmax=1)"
   ]
  },
  {
   "cell_type": "markdown",
   "id": "57ab8bae",
   "metadata": {},
   "source": [
    "На карте мы видим сильную корреляцию между домашним и рабочем адресами, и между давностю наличия информации о заемщике и связи заемщика с клиентами банка. Предлагаю удалить по одному признаку из пары - домашний адрес и давность наличия информации о заемщике. Обоснование: между домашним и рабочем адресами понятна корреляция и рабочий адрес мне кажется более полезен, на счет второй пары признаков - понятно что если человек давно подал свои данные, у него за это время наберется больше связей с другими льдьми, даже смотря в разрезе возраста, и я решила оставить признак кол-ва связей так, как по ним можно предугадать поведение заемщика, посмотрев на его окружение, или повышается его ответственность перед банком, и каналы воздействия на него. "
   ]
  },
  {
   "cell_type": "code",
   "execution_count": 886,
   "id": "e4282548",
   "metadata": {},
   "outputs": [],
   "source": [
    "data.drop(['home_address'], axis=1, inplace=True)\n",
    "data.drop(['first_time'], axis=1, inplace=True)"
   ]
  },
  {
   "cell_type": "markdown",
   "id": "490ba5f0",
   "metadata": {},
   "source": [
    "Начинаем обработку каждого признака"
   ]
  },
  {
   "cell_type": "code",
   "execution_count": 887,
   "id": "ad91057f",
   "metadata": {},
   "outputs": [
    {
     "name": "stdout",
     "output_type": "stream",
     "text": [
      "<class 'pandas.core.frame.DataFrame'>\n",
      "RangeIndex: 73799 entries, 0 to 73798\n",
      "Data columns (total 16 columns):\n",
      " #   Column            Non-Null Count  Dtype  \n",
      "---  ------            --------------  -----  \n",
      " 0   app_date          73799 non-null  object \n",
      " 1   education         73799 non-null  object \n",
      " 2   sex               73799 non-null  object \n",
      " 3   age               73799 non-null  int64  \n",
      " 4   car               73799 non-null  object \n",
      " 5   car_type          73799 non-null  object \n",
      " 6   decline_app_cnt   73799 non-null  int64  \n",
      " 7   good_work         73799 non-null  int64  \n",
      " 8   score_bki         73799 non-null  float64\n",
      " 9   bki_request_cnt   73799 non-null  int64  \n",
      " 10  region_rating     73799 non-null  int64  \n",
      " 11  work_address      73799 non-null  int64  \n",
      " 12  income            73799 non-null  int64  \n",
      " 13  sna               73799 non-null  int64  \n",
      " 14  foreign_passport  73799 non-null  object \n",
      " 15  default           73799 non-null  int64  \n",
      "dtypes: float64(1), int64(9), object(6)\n",
      "memory usage: 9.0+ MB\n"
     ]
    }
   ],
   "source": [
    "data.info()"
   ]
  },
  {
   "cell_type": "markdown",
   "id": "8b02490d",
   "metadata": {},
   "source": [
    "App_date- дата подачи заявки"
   ]
  },
  {
   "cell_type": "code",
   "execution_count": 888,
   "id": "43a95379",
   "metadata": {},
   "outputs": [
    {
     "data": {
      "text/plain": [
       "0        01FEB2014\n",
       "1        12MAR2014\n",
       "2        01FEB2014\n",
       "3        23JAN2014\n",
       "4        18APR2014\n",
       "           ...    \n",
       "73794    04MAR2014\n",
       "73795    24MAR2014\n",
       "73796    22APR2014\n",
       "73797    04JAN2014\n",
       "73798    23JAN2014\n",
       "Name: app_date, Length: 73799, dtype: object"
      ]
     },
     "execution_count": 888,
     "metadata": {},
     "output_type": "execute_result"
    }
   ],
   "source": [
    "data.app_date"
   ]
  },
  {
   "cell_type": "code",
   "execution_count": 889,
   "id": "7e9f3555",
   "metadata": {},
   "outputs": [],
   "source": [
    "# Переведем эту колонку в приемлемый формат\n",
    "\n",
    "data.app_date = pd.to_datetime(data.app_date)"
   ]
  },
  {
   "cell_type": "code",
   "execution_count": 890,
   "id": "adb5c566",
   "metadata": {},
   "outputs": [
    {
     "data": {
      "text/plain": [
       "array([<AxesSubplot:title={'center':'0'}>,\n",
       "       <AxesSubplot:title={'center':'1'}>], dtype=object)"
      ]
     },
     "execution_count": 890,
     "metadata": {},
     "output_type": "execute_result"
    },
    {
     "data": {
      "image/png": "[encoded data removed]",
      "text/plain": [
       "<Figure size 432x288 with 2 Axes>"
      ]
     },
     "metadata": {
      "needs_background": "light"
     },
     "output_type": "display_data"
    }
   ],
   "source": [
    "# Посмотрим на распределение подач заявлений по дням недели:\n",
    "data.app_date.dt.day_name().hist(by=data.default)"
   ]
  },
  {
   "cell_type": "code",
   "execution_count": 891,
   "id": "9e90bd02",
   "metadata": {},
   "outputs": [
    {
     "data": {
      "text/plain": [
       "array([<AxesSubplot:title={'center':'0'}>,\n",
       "       <AxesSubplot:title={'center':'1'}>], dtype=object)"
      ]
     },
     "execution_count": 891,
     "metadata": {},
     "output_type": "execute_result"
    },
    {
     "data": {
      "image/png": "[encoded data removed]",
      "text/plain": [
       "<Figure size 432x288 with 2 Axes>"
      ]
     },
     "metadata": {
      "needs_background": "light"
     },
     "output_type": "display_data"
    }
   ],
   "source": [
    "data.app_date.dt.month_name().hist(by=data.default)"
   ]
  },
  {
   "cell_type": "code",
   "execution_count": 892,
   "id": "1258980d",
   "metadata": {},
   "outputs": [
    {
     "data": {
      "image/png": "[encoded data removed]",
      "text/plain": [
       "<Figure size 432x288 with 1 Axes>"
      ]
     },
     "metadata": {
      "needs_background": "light"
     },
     "output_type": "display_data"
    }
   ],
   "source": [
    "# Посмотрим на то, как часто подавали заявки в каждый день:\n",
    "\n",
    "data.app_date.value_counts().to_frame().reset_index().sort_values(by=['index']).plot.line(x='index', y='app_date');"
   ]
  },
  {
   "cell_type": "markdown",
   "id": "6fb8b46b",
   "metadata": {},
   "source": [
    "Видим, что есть какой-то ритм у графика, возможно кол-во заявок падает в выходные дни"
   ]
  },
  {
   "cell_type": "code",
   "execution_count": 893,
   "id": "7716aebd",
   "metadata": {},
   "outputs": [
    {
     "data": {
      "text/plain": [
       "<AxesSubplot:xlabel='app_date'>"
      ]
     },
     "execution_count": 893,
     "metadata": {},
     "output_type": "execute_result"
    },
    {
     "data": {
      "image/png": "[encoded data removed]",
      "text/plain": [
       "<Figure size 432x288 with 1 Axes>"
      ]
     },
     "metadata": {
      "needs_background": "light"
     },
     "output_type": "display_data"
    }
   ],
   "source": [
    "# Посмотрим на долю дефолтов в конкретный день:\n",
    "\n",
    "data.groupby(data.app_date)['default'].mean().to_frame().reset_index().sort_values(by=['app_date']).plot.line(x='app_date', y='default')"
   ]
  },
  {
   "cell_type": "code",
   "execution_count": 894,
   "id": "e1691909",
   "metadata": {},
   "outputs": [],
   "source": [
    "data['app_date_year'] = data.app_date.dt.year\n",
    "data['app_date_month'] = data.app_date.dt.month\n",
    "data['app_date_day'] = data.app_date.dt.day\n",
    "data['app_date_weekday'] = data.app_date.dt.weekday\n",
    "data['app_date_season'] = data.app_date_month.apply(lambda x: 1 if x in [12,1,2] \n",
    "                                                    else 2 if x in [3,4,5] \n",
    "                                                    else 3 if x in [6,7,7] \n",
    "                                                    else 4)\n",
    "data = data.drop('app_date',axis=1)"
   ]
  },
  {
   "cell_type": "code",
   "execution_count": 895,
   "id": "582fbdff",
   "metadata": {},
   "outputs": [],
   "source": [
    "data['app_date_quarter_month'] = data['app_date_day'].apply(lambda x: 1 if x in [1,2,3,4,5,6,7] \n",
    "                                                            else 2 if x in [8,9,10,11,12,13,14,15] \n",
    "                                                            else 3 if x in [16,17,18,19,20,21,22,23] \n",
    "                                                            else 4)"
   ]
  },
  {
   "cell_type": "code",
   "execution_count": 896,
   "id": "54938b01",
   "metadata": {},
   "outputs": [
    {
     "data": {
      "text/plain": [
       "<AxesSubplot:xlabel='default', ylabel='count'>"
      ]
     },
     "execution_count": 896,
     "metadata": {},
     "output_type": "execute_result"
    },
    {
     "data": {
      "image/png": "[encoded data removed]",
      "text/plain": [
       "<Figure size 432x288 with 1 Axes>"
      ]
     },
     "metadata": {
      "needs_background": "light"
     },
     "output_type": "display_data"
    }
   ],
   "source": [
    "sns.countplot(x=data['default'],hue=data['app_date_season'], data=data)"
   ]
  },
  {
   "cell_type": "code",
   "execution_count": 897,
   "id": "a3cc7601",
   "metadata": {},
   "outputs": [
    {
     "data": {
      "text/plain": [
       "<AxesSubplot:xlabel='default', ylabel='count'>"
      ]
     },
     "execution_count": 897,
     "metadata": {},
     "output_type": "execute_result"
    },
    {
     "data": {
      "image/png": "[encoded data removed]",
      "text/plain": [
       "<Figure size 432x288 with 1 Axes>"
      ]
     },
     "metadata": {
      "needs_background": "light"
     },
     "output_type": "display_data"
    }
   ],
   "source": [
    "sns.countplot(x=data['default'],hue=data['app_date_quarter_month'], data=data)"
   ]
  },
  {
   "cell_type": "markdown",
   "id": "3b21be91",
   "metadata": {},
   "source": [
    "Я не увидела какой-то интересной зависимости в этом признаке, только то, что в апреле стало меньше дефолтов кажется. Принимаю решение оставить только месяц и четверть месяца, и применить к ним get_dummies, что бы не учитывались номера как веса. Так же удалю одну из колонок, чтобы избежать мультиколлинеарности. Так же хочу отметить, что у нас в данных только 4 месяца, то есть в дальнейшем применении нужно будет этот признак не учитывать, или собрать данные за год и построить модель на новых полных данных. Как и проработать колонку с образованием - добавить варинт без образования. И удаляю уже ненужные признаки"
   ]
  },
  {
   "cell_type": "code",
   "execution_count": 898,
   "id": "8b96ff72",
   "metadata": {},
   "outputs": [],
   "source": [
    "data = pd.get_dummies(data, columns=['app_date_month'], drop_first=True)\n",
    "data = pd.get_dummies(data, columns=['app_date_quarter_month'], drop_first=True)"
   ]
  },
  {
   "cell_type": "code",
   "execution_count": 899,
   "id": "d157e1aa",
   "metadata": {},
   "outputs": [],
   "source": [
    "data = data.drop('app_date_year',axis=1)\n",
    "data = data.drop('app_date_day',axis=1)\n",
    "data = data.drop('app_date_weekday',axis=1)\n",
    "data = data.drop('app_date_season',axis=1)"
   ]
  },
  {
   "cell_type": "markdown",
   "id": "e78f39c2",
   "metadata": {},
   "source": [
    "Education - уровень образования"
   ]
  },
  {
   "cell_type": "markdown",
   "id": "009a54b9",
   "metadata": {},
   "source": [
    "Я уже поработала с этим признаком выше и готова принять решение преобразовать его в дамми переменные."
   ]
  },
  {
   "cell_type": "code",
   "execution_count": 900,
   "id": "f7ebe7cf",
   "metadata": {},
   "outputs": [],
   "source": [
    "data = pd.get_dummies(data, columns=['education'])"
   ]
  },
  {
   "cell_type": "code",
   "execution_count": 901,
   "id": "27e7a871",
   "metadata": {},
   "outputs": [],
   "source": [
    "data = data.drop('education_SCH',axis=1)"
   ]
  },
  {
   "cell_type": "markdown",
   "id": "275b2734",
   "metadata": {},
   "source": [
    "Sex - пол заемщика"
   ]
  },
  {
   "cell_type": "code",
   "execution_count": 902,
   "id": "e05b5ce8",
   "metadata": {},
   "outputs": [
    {
     "data": {
      "text/plain": [
       "<AxesSubplot:xlabel='default', ylabel='count'>"
      ]
     },
     "execution_count": 902,
     "metadata": {},
     "output_type": "execute_result"
    },
    {
     "data": {
      "image/png": "[encoded data removed]",
      "text/plain": [
       "<Figure size 432x288 with 1 Axes>"
      ]
     },
     "metadata": {
      "needs_background": "light"
     },
     "output_type": "display_data"
    }
   ],
   "source": [
    "sns.countplot(x=data['default'],hue=data['sex'], data=data)"
   ]
  },
  {
   "cell_type": "markdown",
   "id": "ff4f8886",
   "metadata": {},
   "source": [
    "В целом видно, что относительно женщин, мужчины реже берут кредит, но и мужчины и женщины больше возвращают кредит, чем не закрывают долг. Так как это бинарный признак применим label_encoder"
   ]
  },
  {
   "cell_type": "code",
   "execution_count": 903,
   "id": "a4b2ddf3",
   "metadata": {},
   "outputs": [],
   "source": [
    "label_encoder = LabelEncoder()\n",
    "\n",
    "data['sex'] = label_encoder.fit_transform(data['sex'])"
   ]
  },
  {
   "cell_type": "markdown",
   "id": "9529be0d",
   "metadata": {},
   "source": [
    "Age - возраст заемщика"
   ]
  },
  {
   "cell_type": "code",
   "execution_count": 904,
   "id": "14d7b833",
   "metadata": {},
   "outputs": [
    {
     "data": {
      "text/plain": [
       "array([<AxesSubplot:title={'center':'0'}>,\n",
       "       <AxesSubplot:title={'center':'1'}>], dtype=object)"
      ]
     },
     "execution_count": 904,
     "metadata": {},
     "output_type": "execute_result"
    },
    {
     "data": {
      "image/png": "[encoded data removed]",
      "text/plain": [
       "<Figure size 432x288 with 2 Axes>"
      ]
     },
     "metadata": {
      "needs_background": "light"
     },
     "output_type": "display_data"
    }
   ],
   "source": [
    "data.age.hist(by=data.default, bins=100)"
   ]
  },
  {
   "cell_type": "markdown",
   "id": "e502a5cd",
   "metadata": {},
   "source": [
    "Признак числовой, распределение нормальное, не вижу повода стандартизировать"
   ]
  },
  {
   "cell_type": "code",
   "execution_count": 905,
   "id": "5d091f27",
   "metadata": {},
   "outputs": [],
   "source": [
    "life= []\n",
    "for i in range(15,101):\n",
    "         life.append(i)\n"
   ]
  },
  {
   "cell_type": "code",
   "execution_count": 906,
   "id": "c8c0cba1",
   "metadata": {},
   "outputs": [],
   "source": [
    "data['years_of_age'] = data.age.apply(lambda x: 1 if x in life[1:11]\n",
    "                                                 else 2 if x in life[11:21] \n",
    "                                                 else 3 if x in life[21:31] \n",
    "                                                 else 4 if x in life[31:41] \n",
    "                                                 else 5 if x in life[41:51] \n",
    "                                                 else 6 if x in life[51:81] \n",
    "                                                 else 7)\n"
   ]
  },
  {
   "cell_type": "code",
   "execution_count": 907,
   "id": "bac9fd9a",
   "metadata": {},
   "outputs": [
    {
     "data": {
      "text/plain": [
       "array([<AxesSubplot:title={'center':'0'}>,\n",
       "       <AxesSubplot:title={'center':'1'}>], dtype=object)"
      ]
     },
     "execution_count": 907,
     "metadata": {},
     "output_type": "execute_result"
    },
    {
     "data": {
      "image/png": "[encoded data removed]",
      "text/plain": [
       "<Figure size 432x288 with 2 Axes>"
      ]
     },
     "metadata": {
      "needs_background": "light"
     },
     "output_type": "display_data"
    }
   ],
   "source": [
    "data['years_of_age'].hist(by=data.default, bins=10)"
   ]
  },
  {
   "cell_type": "code",
   "execution_count": 908,
   "id": "dc1d4d69",
   "metadata": {},
   "outputs": [
    {
     "data": {
      "text/plain": [
       "years_of_age\n",
       "1    0.139349\n",
       "2    0.134547\n",
       "3    0.124347\n",
       "4    0.114393\n",
       "5    0.118037\n",
       "6    0.133333\n",
       "Name: default, dtype: float64"
      ]
     },
     "execution_count": 908,
     "metadata": {},
     "output_type": "execute_result"
    }
   ],
   "source": [
    "data.groupby(data.years_of_age)['default'].mean()"
   ]
  },
  {
   "cell_type": "code",
   "execution_count": 909,
   "id": "af7aae22",
   "metadata": {},
   "outputs": [
    {
     "data": {
      "text/plain": [
       "2    25426\n",
       "3    19156\n",
       "4    13611\n",
       "5     7396\n",
       "1     7370\n",
       "6      840\n",
       "Name: years_of_age, dtype: int64"
      ]
     },
     "execution_count": 909,
     "metadata": {},
     "output_type": "execute_result"
    }
   ],
   "source": [
    "data.years_of_age.value_counts()"
   ]
  },
  {
   "cell_type": "markdown",
   "id": "b04f6107",
   "metadata": {},
   "source": [
    "Не могу закрыть глаза на хоть и маленькую, но все равно отличительность группы возраста 4 и 5, а это 46-65 лет, и кажется логичным что самые молодые заемщики и пожилые люди менее кридитоспособные, поэтому принимаю решение сделать это категориальным признаком и преобразовать его в дамми переменные."
   ]
  },
  {
   "cell_type": "code",
   "execution_count": 910,
   "id": "38b44d1a",
   "metadata": {},
   "outputs": [],
   "source": [
    "data['years_of_age'] = data['years_of_age'].apply(lambda x: '16-25' if x==1 \n",
    "                                                   else '26-35' if x==2 \n",
    "                                                   else '36-45' if x==3\n",
    "                                                   else '46-55' if x==4\n",
    "                                                   else '55-65' if x==5\n",
    "                                                   else '66-95' if x==6\n",
    "                                                   else '1-15,95-100')"
   ]
  },
  {
   "cell_type": "code",
   "execution_count": 911,
   "id": "8dee832c",
   "metadata": {},
   "outputs": [
    {
     "data": {
      "text/plain": [
       "26-35    25426\n",
       "36-45    19156\n",
       "46-55    13611\n",
       "55-65     7396\n",
       "16-25     7370\n",
       "66-95      840\n",
       "Name: years_of_age, dtype: int64"
      ]
     },
     "execution_count": 911,
     "metadata": {},
     "output_type": "execute_result"
    }
   ],
   "source": [
    "data['years_of_age'].value_counts()"
   ]
  },
  {
   "cell_type": "code",
   "execution_count": 912,
   "id": "776b0fb3",
   "metadata": {},
   "outputs": [],
   "source": [
    "data = pd.get_dummies(data, columns=['years_of_age'], drop_first=True)\n",
    "data = data.drop('age',axis=1)"
   ]
  },
  {
   "cell_type": "markdown",
   "id": "248f61de",
   "metadata": {},
   "source": [
    "Car - флаг наличия автомобиля и \n",
    "Car_type - флаг автомобиля иномарки"
   ]
  },
  {
   "cell_type": "code",
   "execution_count": 913,
   "id": "788874ed",
   "metadata": {},
   "outputs": [
    {
     "data": {
      "text/plain": [
       "<AxesSubplot:xlabel='default', ylabel='count'>"
      ]
     },
     "execution_count": 913,
     "metadata": {},
     "output_type": "execute_result"
    },
    {
     "data": {
      "image/png": "[encoded data removed]",
      "text/plain": [
       "<Figure size 432x288 with 1 Axes>"
      ]
     },
     "metadata": {
      "needs_background": "light"
     },
     "output_type": "display_data"
    }
   ],
   "source": [
    "sns.countplot(x=data['default'],hue=data['car'], data=data)"
   ]
  },
  {
   "cell_type": "code",
   "execution_count": 914,
   "id": "dc399762",
   "metadata": {},
   "outputs": [
    {
     "data": {
      "text/plain": [
       "<AxesSubplot:xlabel='default', ylabel='count'>"
      ]
     },
     "execution_count": 914,
     "metadata": {},
     "output_type": "execute_result"
    },
    {
     "data": {
      "image/png": "[encoded data removed]",
      "text/plain": [
       "<Figure size 432x288 with 1 Axes>"
      ]
     },
     "metadata": {
      "needs_background": "light"
     },
     "output_type": "display_data"
    }
   ],
   "source": [
    "sns.countplot(x=data['default'],hue=data['car_type'], data=data)"
   ]
  },
  {
   "cell_type": "markdown",
   "id": "7cb13e36",
   "metadata": {},
   "source": [
    "Видно, что люди имеющие машины реже имеют и дефолт по кредиту, а те у кого иномарка - еще реже. Признак бинарный - применяем label_encoder"
   ]
  },
  {
   "cell_type": "code",
   "execution_count": 915,
   "id": "dc390e40",
   "metadata": {},
   "outputs": [],
   "source": [
    "data['car'] = label_encoder.fit_transform(data['car'])\n",
    "data['car_type'] = label_encoder.fit_transform(data['car_type'])"
   ]
  },
  {
   "cell_type": "markdown",
   "id": "8d46354a",
   "metadata": {},
   "source": [
    "Decline_app_cnt - количество отказанных прошлых заявок"
   ]
  },
  {
   "cell_type": "code",
   "execution_count": 916,
   "id": "df4ec69d",
   "metadata": {},
   "outputs": [
    {
     "data": {
      "text/plain": [
       "0     61214\n",
       "1      8397\n",
       "2      2468\n",
       "3       903\n",
       "4       414\n",
       "5       165\n",
       "6       113\n",
       "7        48\n",
       "9        24\n",
       "8        19\n",
       "10       11\n",
       "11        9\n",
       "13        3\n",
       "12        2\n",
       "14        2\n",
       "16        2\n",
       "15        1\n",
       "19        1\n",
       "22        1\n",
       "24        1\n",
       "33        1\n",
       "Name: decline_app_cnt, dtype: int64"
      ]
     },
     "execution_count": 916,
     "metadata": {},
     "output_type": "execute_result"
    }
   ],
   "source": [
    "data.decline_app_cnt.value_counts()"
   ]
  },
  {
   "cell_type": "code",
   "execution_count": 917,
   "id": "2d707616",
   "metadata": {},
   "outputs": [
    {
     "data": {
      "text/plain": [
       "array([<AxesSubplot:title={'center':'0'}>,\n",
       "       <AxesSubplot:title={'center':'1'}>], dtype=object)"
      ]
     },
     "execution_count": 917,
     "metadata": {},
     "output_type": "execute_result"
    },
    {
     "data": {
      "image/png": "[encoded data removed]",
      "text/plain": [
       "<Figure size 432x288 with 2 Axes>"
      ]
     },
     "metadata": {
      "needs_background": "light"
     },
     "output_type": "display_data"
    }
   ],
   "source": [
    "data.decline_app_cnt.hist(by=data.default, bins=35)"
   ]
  },
  {
   "cell_type": "code",
   "execution_count": 918,
   "id": "b51c8770",
   "metadata": {},
   "outputs": [
    {
     "data": {
      "text/plain": [
       "decline_app_cnt\n",
       "0     0.109534\n",
       "1     0.187805\n",
       "2     0.243517\n",
       "3     0.273533\n",
       "4     0.289855\n",
       "5     0.260606\n",
       "6     0.300885\n",
       "7     0.291667\n",
       "8     0.526316\n",
       "9     0.375000\n",
       "10    0.454545\n",
       "11    0.333333\n",
       "12    0.000000\n",
       "13    0.000000\n",
       "14    0.500000\n",
       "15    1.000000\n",
       "16    0.000000\n",
       "19    1.000000\n",
       "22    1.000000\n",
       "24    0.000000\n",
       "33    0.000000\n",
       "Name: default, dtype: float64"
      ]
     },
     "execution_count": 918,
     "metadata": {},
     "output_type": "execute_result"
    }
   ],
   "source": [
    "data.groupby(data.decline_app_cnt)['default'].mean()"
   ]
  },
  {
   "cell_type": "markdown",
   "id": "f261bcd9",
   "metadata": {},
   "source": [
    "Видно, что чем больше было отказов, тем больше дефолтов в среднем. Сделаю признак катогориальным и преобразую в дамми переменные!"
   ]
  },
  {
   "cell_type": "code",
   "execution_count": 919,
   "id": "e551ab0f",
   "metadata": {},
   "outputs": [],
   "source": [
    "data['decline_app_cnt'] = data['decline_app_cnt'].apply(lambda x: '0' if x==0 \n",
    "                                                        else '1-10' if x in range(1,11) \n",
    "                                                        else '11-20' if x in range(11,21) \n",
    "                                                        else '21_and_more')"
   ]
  },
  {
   "cell_type": "code",
   "execution_count": 920,
   "id": "86497fd0",
   "metadata": {},
   "outputs": [
    {
     "data": {
      "text/plain": [
       "0              61214\n",
       "1-10           12562\n",
       "11-20             20\n",
       "21_and_more        3\n",
       "Name: decline_app_cnt, dtype: int64"
      ]
     },
     "execution_count": 920,
     "metadata": {},
     "output_type": "execute_result"
    }
   ],
   "source": [
    "data['decline_app_cnt'].value_counts()"
   ]
  },
  {
   "cell_type": "code",
   "execution_count": 921,
   "id": "24722f97",
   "metadata": {},
   "outputs": [],
   "source": [
    "data = pd.get_dummies(data, columns=['decline_app_cnt'], drop_first=True)"
   ]
  },
  {
   "cell_type": "markdown",
   "id": "9ae37448",
   "metadata": {},
   "source": [
    "Good_work - флаг наличия “хорошей” работы"
   ]
  },
  {
   "cell_type": "code",
   "execution_count": 922,
   "id": "a0a29702",
   "metadata": {},
   "outputs": [
    {
     "data": {
      "text/plain": [
       "<AxesSubplot:xlabel='default', ylabel='count'>"
      ]
     },
     "execution_count": 922,
     "metadata": {},
     "output_type": "execute_result"
    },
    {
     "data": {
      "image/png": "[encoded data removed]",
      "text/plain": [
       "<Figure size 432x288 with 1 Axes>"
      ]
     },
     "metadata": {
      "needs_background": "light"
     },
     "output_type": "display_data"
    }
   ],
   "source": [
    "sns.countplot(x=data['default'],hue=data['good_work'], data=data)"
   ]
  },
  {
   "cell_type": "markdown",
   "id": "30517496",
   "metadata": {},
   "source": [
    "Тут мы видим, что среди тех, кто не вернул кредит, большенство не имеет хорошей работы. Признак бинарный, оставляем его в таком виде."
   ]
  },
  {
   "cell_type": "markdown",
   "id": "c9457a29",
   "metadata": {},
   "source": [
    "Score_bki - скоринговый балл по данным из БКИ"
   ]
  },
  {
   "cell_type": "code",
   "execution_count": 923,
   "id": "55f19137",
   "metadata": {},
   "outputs": [
    {
     "data": {
      "text/plain": [
       "-1.775263    352\n",
       "-2.225004    296\n",
       "-2.104211    288\n",
       "-2.169664    258\n",
       "-1.920823    185\n",
       "            ... \n",
       "-1.400832      1\n",
       "-1.824425      1\n",
       "-2.081890      1\n",
       "-2.216073      1\n",
       "-2.296371      1\n",
       "Name: score_bki, Length: 69096, dtype: int64"
      ]
     },
     "execution_count": 923,
     "metadata": {},
     "output_type": "execute_result"
    }
   ],
   "source": [
    "data.score_bki.value_counts()"
   ]
  },
  {
   "cell_type": "code",
   "execution_count": 924,
   "id": "559488b7",
   "metadata": {},
   "outputs": [
    {
     "data": {
      "text/plain": [
       "<AxesSubplot:>"
      ]
     },
     "execution_count": 924,
     "metadata": {},
     "output_type": "execute_result"
    },
    {
     "data": {
      "image/png": "[encoded data removed]",
      "text/plain": [
       "<Figure size 432x288 with 1 Axes>"
      ]
     },
     "metadata": {
      "needs_background": "light"
     },
     "output_type": "display_data"
    }
   ],
   "source": [
    "data.score_bki.hist()"
   ]
  },
  {
   "cell_type": "code",
   "execution_count": 925,
   "id": "4eb4e42f",
   "metadata": {},
   "outputs": [
    {
     "data": {
      "text/plain": [
       "(351, -3.2940876975, -0.5352773974999998)"
      ]
     },
     "execution_count": 925,
     "metadata": {},
     "output_type": "execute_result"
    }
   ],
   "source": [
    "def outliers(column):  # подсчет количества выбросов\n",
    "    Q1 = column.quantile(0.25)\n",
    "    Q2 = column.quantile(0.75)\n",
    "    IQR = Q2 - Q1\n",
    "    left = Q1 - 1.5 * IQR\n",
    "    right = Q2 + 1.5 * IQR\n",
    "    return (column < left).sum() + (column > right).sum(), left, right\n",
    "\n",
    "outliers(data.score_bki)"
   ]
  },
  {
   "cell_type": "code",
   "execution_count": 926,
   "id": "565d4eec",
   "metadata": {},
   "outputs": [
    {
     "data": {
      "text/plain": [
       "0.47561620076152794"
      ]
     },
     "execution_count": 926,
     "metadata": {},
     "output_type": "execute_result"
    }
   ],
   "source": [
    "outliers(data.score_bki)[0]/ data.shape[0] *100"
   ]
  },
  {
   "cell_type": "markdown",
   "id": "a712458b",
   "metadata": {},
   "source": [
    "Распределение нормальное, выбросов мало и мне кажется это не те выбросы, которые нужно удалять. Оставлю как числовой признак."
   ]
  },
  {
   "cell_type": "markdown",
   "id": "7ae25cf9",
   "metadata": {},
   "source": [
    "Bki_request_cnt - количество запросов в БКИ"
   ]
  },
  {
   "cell_type": "code",
   "execution_count": 927,
   "id": "41b26125",
   "metadata": {},
   "outputs": [
    {
     "data": {
      "text/plain": [
       "<AxesSubplot:>"
      ]
     },
     "execution_count": 927,
     "metadata": {},
     "output_type": "execute_result"
    },
    {
     "data": {
      "image/png": "[encoded data removed]",
      "text/plain": [
       "<Figure size 432x288 with 1 Axes>"
      ]
     },
     "metadata": {
      "needs_background": "light"
     },
     "output_type": "display_data"
    }
   ],
   "source": [
    "data.bki_request_cnt.hist()"
   ]
  },
  {
   "cell_type": "code",
   "execution_count": 928,
   "id": "98f22d01",
   "metadata": {},
   "outputs": [
    {
     "data": {
      "text/plain": [
       "(1755, -4.5, 7.5)"
      ]
     },
     "execution_count": 928,
     "metadata": {},
     "output_type": "execute_result"
    }
   ],
   "source": [
    "outliers(data.bki_request_cnt)"
   ]
  },
  {
   "cell_type": "code",
   "execution_count": 929,
   "id": "6f59f640",
   "metadata": {},
   "outputs": [
    {
     "data": {
      "text/plain": [
       "2.3780810038076394"
      ]
     },
     "execution_count": 929,
     "metadata": {},
     "output_type": "execute_result"
    }
   ],
   "source": [
    "outliers(data.bki_request_cnt)[0]/ data.shape[0] *100"
   ]
  },
  {
   "cell_type": "markdown",
   "id": "d248ffef",
   "metadata": {},
   "source": [
    "Признак плохо распределен, попробую пролагорифмировать и проверить распределение еще раз"
   ]
  },
  {
   "cell_type": "code",
   "execution_count": 930,
   "id": "56f1998f",
   "metadata": {},
   "outputs": [
    {
     "data": {
      "text/plain": [
       "<AxesSubplot:>"
      ]
     },
     "execution_count": 930,
     "metadata": {},
     "output_type": "execute_result"
    },
    {
     "data": {
      "image/png": "[encoded data removed]",
      "text/plain": [
       "<Figure size 432x288 with 1 Axes>"
      ]
     },
     "metadata": {
      "needs_background": "light"
     },
     "output_type": "display_data"
    }
   ],
   "source": [
    "np.log(data['bki_request_cnt'] + 1).hist()"
   ]
  },
  {
   "cell_type": "code",
   "execution_count": 931,
   "id": "f91a5ead",
   "metadata": {},
   "outputs": [],
   "source": [
    "#Распределение улучшилось, оставлю так  \n",
    "\n",
    "data['bki_request_cnt'] = np.log(data['bki_request_cnt'] + 1)"
   ]
  },
  {
   "cell_type": "code",
   "execution_count": 932,
   "id": "4d3bdd64",
   "metadata": {},
   "outputs": [
    {
     "data": {
      "text/plain": [
       "(9, -2.0794415416798357, 3.465735902799726)"
      ]
     },
     "execution_count": 932,
     "metadata": {},
     "output_type": "execute_result"
    }
   ],
   "source": [
    "outliers(data.bki_request_cnt)"
   ]
  },
  {
   "cell_type": "code",
   "execution_count": 933,
   "id": "45c61460",
   "metadata": {},
   "outputs": [
    {
     "data": {
      "text/plain": [
       "0.012195287199013537"
      ]
     },
     "execution_count": 933,
     "metadata": {},
     "output_type": "execute_result"
    }
   ],
   "source": [
    "outliers(data.bki_request_cnt)[0]/ data.shape[0] *100"
   ]
  },
  {
   "cell_type": "markdown",
   "id": "1957c5f4",
   "metadata": {},
   "source": [
    "Признак оставим как числовой"
   ]
  },
  {
   "cell_type": "markdown",
   "id": "72547129",
   "metadata": {},
   "source": [
    "Region_rating - рейтинг региона"
   ]
  },
  {
   "cell_type": "code",
   "execution_count": 934,
   "id": "4d2571d9",
   "metadata": {},
   "outputs": [
    {
     "data": {
      "text/plain": [
       "<AxesSubplot:>"
      ]
     },
     "execution_count": 934,
     "metadata": {},
     "output_type": "execute_result"
    },
    {
     "data": {
      "image/png": "[encoded data removed]",
      "text/plain": [
       "<Figure size 432x288 with 1 Axes>"
      ]
     },
     "metadata": {
      "needs_background": "light"
     },
     "output_type": "display_data"
    }
   ],
   "source": [
    "data.region_rating.hist()"
   ]
  },
  {
   "cell_type": "code",
   "execution_count": 935,
   "id": "c5127c8f",
   "metadata": {},
   "outputs": [
    {
     "data": {
      "text/plain": [
       "50    27523\n",
       "60    16075\n",
       "40    12027\n",
       "80    11469\n",
       "70     6199\n",
       "30      300\n",
       "20      206\n",
       "Name: region_rating, dtype: int64"
      ]
     },
     "execution_count": 935,
     "metadata": {},
     "output_type": "execute_result"
    }
   ],
   "source": [
    "data.region_rating.value_counts()"
   ]
  },
  {
   "cell_type": "code",
   "execution_count": 936,
   "id": "7a6ffcad",
   "metadata": {},
   "outputs": [
    {
     "data": {
      "text/plain": [
       "<AxesSubplot:xlabel='default', ylabel='count'>"
      ]
     },
     "execution_count": 936,
     "metadata": {},
     "output_type": "execute_result"
    },
    {
     "data": {
      "image/png": "[encoded data removed]",
      "text/plain": [
       "<Figure size 432x288 with 1 Axes>"
      ]
     },
     "metadata": {
      "needs_background": "light"
     },
     "output_type": "display_data"
    }
   ],
   "source": [
    "sns.countplot(x = data['default'], hue= data['region_rating'], data = data)"
   ]
  },
  {
   "cell_type": "code",
   "execution_count": 937,
   "id": "43ce3880",
   "metadata": {},
   "outputs": [
    {
     "data": {
      "text/plain": [
       "array([<AxesSubplot:title={'center':'0'}>,\n",
       "       <AxesSubplot:title={'center':'1'}>], dtype=object)"
      ]
     },
     "execution_count": 937,
     "metadata": {},
     "output_type": "execute_result"
    },
    {
     "data": {
      "image/png": "[encoded data removed]",
      "text/plain": [
       "<Figure size 432x288 with 2 Axes>"
      ]
     },
     "metadata": {
      "needs_background": "light"
     },
     "output_type": "display_data"
    }
   ],
   "source": [
    "data.region_rating.hist(by=data.default, bins=7)"
   ]
  },
  {
   "cell_type": "markdown",
   "id": "3b9a44ad",
   "metadata": {},
   "source": [
    "Кажется, что чем ниже рейтинг, тем выше дефолтность, и наоборот. Это и логично. Признак больше категориальный и я преобразую его в дамми переменную. На будущее - нужно узнать все возможные рейтинги и переобучить на них модель."
   ]
  },
  {
   "cell_type": "code",
   "execution_count": 938,
   "id": "99b12bd9",
   "metadata": {},
   "outputs": [],
   "source": [
    "data = pd.get_dummies(data, columns=['region_rating'], drop_first=True)"
   ]
  },
  {
   "cell_type": "markdown",
   "id": "713d5dab",
   "metadata": {},
   "source": [
    "Work_address - категоризатор рабочего адреса"
   ]
  },
  {
   "cell_type": "code",
   "execution_count": 939,
   "id": "4133b87f",
   "metadata": {},
   "outputs": [
    {
     "data": {
      "text/plain": [
       "3    44959\n",
       "2    20506\n",
       "1     8334\n",
       "Name: work_address, dtype: int64"
      ]
     },
     "execution_count": 939,
     "metadata": {},
     "output_type": "execute_result"
    }
   ],
   "source": [
    "data.work_address.value_counts()"
   ]
  },
  {
   "cell_type": "code",
   "execution_count": 940,
   "id": "71cb4201",
   "metadata": {},
   "outputs": [
    {
     "data": {
      "text/plain": [
       "<AxesSubplot:xlabel='default', ylabel='count'>"
      ]
     },
     "execution_count": 940,
     "metadata": {},
     "output_type": "execute_result"
    },
    {
     "data": {
      "image/png": "[encoded data removed]",
      "text/plain": [
       "<Figure size 432x288 with 1 Axes>"
      ]
     },
     "metadata": {
      "needs_background": "light"
     },
     "output_type": "display_data"
    }
   ],
   "source": [
    "sns.countplot(x = data['default'], hue= data['work_address'], data = data)"
   ]
  },
  {
   "cell_type": "markdown",
   "id": "94ca9ef9",
   "metadata": {},
   "source": [
    "Категориальный признак преобразую в дамми переменную"
   ]
  },
  {
   "cell_type": "code",
   "execution_count": 941,
   "id": "84e4a265",
   "metadata": {},
   "outputs": [],
   "source": [
    "data = pd.get_dummies(data, columns=['work_address'], drop_first=True)"
   ]
  },
  {
   "cell_type": "markdown",
   "id": "46507188",
   "metadata": {},
   "source": [
    "Income - доход заемщика"
   ]
  },
  {
   "cell_type": "code",
   "execution_count": 942,
   "id": "4823c61d",
   "metadata": {},
   "outputs": [
    {
     "data": {
      "text/plain": [
       "<AxesSubplot:>"
      ]
     },
     "execution_count": 942,
     "metadata": {},
     "output_type": "execute_result"
    },
    {
     "data": {
      "image/png": "[encoded data removed]",
      "text/plain": [
       "<Figure size 432x288 with 1 Axes>"
      ]
     },
     "metadata": {
      "needs_background": "light"
     },
     "output_type": "display_data"
    }
   ],
   "source": [
    "data.income.hist(bins=50)"
   ]
  },
  {
   "cell_type": "code",
   "execution_count": 943,
   "id": "f7211d35",
   "metadata": {},
   "outputs": [
    {
     "data": {
      "text/plain": [
       "(4695, -22000.0, 90000.0)"
      ]
     },
     "execution_count": 943,
     "metadata": {},
     "output_type": "execute_result"
    }
   ],
   "source": [
    "outliers(data.income)"
   ]
  },
  {
   "cell_type": "code",
   "execution_count": 944,
   "id": "e51e72af",
   "metadata": {},
   "outputs": [
    {
     "data": {
      "text/plain": [
       "6.361874822152061"
      ]
     },
     "execution_count": 944,
     "metadata": {},
     "output_type": "execute_result"
    }
   ],
   "source": [
    "outliers(data.income)[0]/ data.shape[0] *100"
   ]
  },
  {
   "cell_type": "code",
   "execution_count": 945,
   "id": "246cc81e",
   "metadata": {},
   "outputs": [
    {
     "data": {
      "text/plain": [
       "<AxesSubplot:>"
      ]
     },
     "execution_count": 945,
     "metadata": {},
     "output_type": "execute_result"
    },
    {
     "data": {
      "image/png": "[encoded data removed]",
      "text/plain": [
       "<Figure size 432x288 with 1 Axes>"
      ]
     },
     "metadata": {
      "needs_background": "light"
     },
     "output_type": "display_data"
    }
   ],
   "source": [
    "np.log(data['income'] + 1).hist()"
   ]
  },
  {
   "cell_type": "code",
   "execution_count": 946,
   "id": "d34bf73e",
   "metadata": {},
   "outputs": [],
   "source": [
    "data['income'] = np.log(data['income'] + 1)"
   ]
  },
  {
   "cell_type": "code",
   "execution_count": 947,
   "id": "91dcdcbe",
   "metadata": {},
   "outputs": [
    {
     "data": {
      "text/plain": [
       "(1767, 8.590378193705899, 12.092136480586621)"
      ]
     },
     "execution_count": 947,
     "metadata": {},
     "output_type": "execute_result"
    }
   ],
   "source": [
    "outliers(data.income)"
   ]
  },
  {
   "cell_type": "code",
   "execution_count": 948,
   "id": "d300e97c",
   "metadata": {},
   "outputs": [
    {
     "data": {
      "text/plain": [
       "2.394341386739658"
      ]
     },
     "execution_count": 948,
     "metadata": {},
     "output_type": "execute_result"
    }
   ],
   "source": [
    "outliers(data.income)[0]/ data.shape[0] *100"
   ]
  },
  {
   "cell_type": "markdown",
   "id": "722c29b8",
   "metadata": {},
   "source": [
    "Логарифмирование сильно улучшило распределение. Выбросы решила оставить, так как их немного и возможно логично, что экстримально мало людей с большим доходом обращаются за кредитом. Оставлю признак числовым. На будущее - можно попробовать разделить на уровни дохода и сделать признак категориальным."
   ]
  },
  {
   "cell_type": "markdown",
   "id": "4478fa50",
   "metadata": {},
   "source": [
    "Sna - связь заемщика с клиентами банка"
   ]
  },
  {
   "cell_type": "code",
   "execution_count": 949,
   "id": "a26e0fdb",
   "metadata": {},
   "outputs": [
    {
     "data": {
      "text/plain": [
       "<AxesSubplot:xlabel='default', ylabel='count'>"
      ]
     },
     "execution_count": 949,
     "metadata": {},
     "output_type": "execute_result"
    },
    {
     "data": {
      "image/png": "[encoded data removed]",
      "text/plain": [
       "<Figure size 432x288 with 1 Axes>"
      ]
     },
     "metadata": {
      "needs_background": "light"
     },
     "output_type": "display_data"
    }
   ],
   "source": [
    "sns.countplot(x = data['default'], hue= data['sna'], data = data)"
   ]
  },
  {
   "cell_type": "markdown",
   "id": "e087ae15",
   "metadata": {},
   "source": [
    "Категориальный признак преобразую в дамми переменную"
   ]
  },
  {
   "cell_type": "code",
   "execution_count": 950,
   "id": "54c69739",
   "metadata": {},
   "outputs": [],
   "source": [
    "data = pd.get_dummies(data, columns=['sna'], drop_first=True)"
   ]
  },
  {
   "cell_type": "markdown",
   "id": "12182831",
   "metadata": {},
   "source": [
    "Foreign_passport - наличие загранпаспорта"
   ]
  },
  {
   "cell_type": "code",
   "execution_count": 951,
   "id": "07064573",
   "metadata": {},
   "outputs": [
    {
     "data": {
      "text/plain": [
       "<AxesSubplot:xlabel='default', ylabel='count'>"
      ]
     },
     "execution_count": 951,
     "metadata": {},
     "output_type": "execute_result"
    },
    {
     "data": {
      "image/png": "[encoded data removed]",
      "text/plain": [
       "<Figure size 432x288 with 1 Axes>"
      ]
     },
     "metadata": {
      "needs_background": "light"
     },
     "output_type": "display_data"
    }
   ],
   "source": [
    "sns.countplot(x = data['default'], hue= data['foreign_passport'], data = data)"
   ]
  },
  {
   "cell_type": "markdown",
   "id": "c018ddeb",
   "metadata": {},
   "source": [
    "Бинарный признак - применим label_encoder"
   ]
  },
  {
   "cell_type": "code",
   "execution_count": 952,
   "id": "63c65b88",
   "metadata": {},
   "outputs": [],
   "source": [
    "data['foreign_passport'] = label_encoder.fit_transform(data['foreign_passport'])"
   ]
  },
  {
   "cell_type": "markdown",
   "id": "63b3c18b",
   "metadata": {},
   "source": [
    "Посмотрим на важность признаков:"
   ]
  },
  {
   "cell_type": "code",
   "execution_count": 953,
   "id": "881dfc3a",
   "metadata": {},
   "outputs": [],
   "source": [
    "num_cols=['score_bki', 'bki_request_cnt', 'income']"
   ]
  },
  {
   "cell_type": "code",
   "execution_count": 954,
   "id": "0ff6d3ae",
   "metadata": {},
   "outputs": [
    {
     "data": {
      "text/plain": [
       "<AxesSubplot:>"
      ]
     },
     "execution_count": 954,
     "metadata": {},
     "output_type": "execute_result"
    },
    {
     "data": {
      "image/png": "[encoded data removed]",
      "text/plain": [
       "<Figure size 432x288 with 1 Axes>"
      ]
     },
     "metadata": {
      "needs_background": "light"
     },
     "output_type": "display_data"
    }
   ],
   "source": [
    "imp_num = pd.Series(f_classif(data[num_cols], data['default'])[0], index = num_cols)\n",
    "imp_num.sort_values(inplace = True)\n",
    "imp_num.plot(kind = 'barh')"
   ]
  },
  {
   "cell_type": "code",
   "execution_count": 955,
   "id": "1b07c81d",
   "metadata": {},
   "outputs": [
    {
     "data": {
      "text/plain": [
       "Index(['sex', 'car', 'car_type', 'good_work', 'score_bki', 'bki_request_cnt',\n",
       "       'income', 'foreign_passport', 'default', 'app_date_month_2',\n",
       "       'app_date_month_3', 'app_date_month_4', 'app_date_quarter_month_2',\n",
       "       'app_date_quarter_month_3', 'app_date_quarter_month_4', 'education_ACD',\n",
       "       'education_GRD', 'education_PGR', 'education_UGR', 'years_of_age_26-35',\n",
       "       'years_of_age_36-45', 'years_of_age_46-55', 'years_of_age_55-65',\n",
       "       'years_of_age_66-95', 'decline_app_cnt_1-10', 'decline_app_cnt_11-20',\n",
       "       'decline_app_cnt_21_and_more', 'region_rating_30', 'region_rating_40',\n",
       "       'region_rating_50', 'region_rating_60', 'region_rating_70',\n",
       "       'region_rating_80', 'work_address_2', 'work_address_3', 'sna_2',\n",
       "       'sna_3', 'sna_4'],\n",
       "      dtype='object')"
      ]
     },
     "execution_count": 955,
     "metadata": {},
     "output_type": "execute_result"
    }
   ],
   "source": [
    "data.columns"
   ]
  },
  {
   "cell_type": "code",
   "execution_count": 956,
   "id": "782be0c4",
   "metadata": {},
   "outputs": [],
   "source": [
    "bin_cols=['sex', 'car', 'car_type', 'good_work', 'foreign_passport', 'app_date_month_2',\n",
    "       'app_date_month_3', 'app_date_month_4', 'app_date_quarter_month_2',\n",
    "       'app_date_quarter_month_3', 'app_date_quarter_month_4', 'education_ACD',\n",
    "       'education_GRD', 'education_PGR', 'education_UGR',\n",
    "       'years_of_age_26-35', 'years_of_age_36-45', 'years_of_age_46-55',\n",
    "       'years_of_age_55-65', 'years_of_age_66-95', 'decline_app_cnt_1-10',\n",
    "       'decline_app_cnt_11-20', 'decline_app_cnt_21_and_more',\n",
    "       'region_rating_30', 'region_rating_40', 'region_rating_50',\n",
    "       'region_rating_60', 'region_rating_70', 'region_rating_80',\n",
    "       'work_address_2', 'work_address_3', 'sna_2', 'sna_3', 'sna_4']"
   ]
  },
  {
   "cell_type": "code",
   "execution_count": 957,
   "id": "3537ab72",
   "metadata": {},
   "outputs": [
    {
     "data": {
      "text/plain": [
       "<AxesSubplot:>"
      ]
     },
     "execution_count": 957,
     "metadata": {},
     "output_type": "execute_result"
    },
    {
     "data": {
      "image/png": "[encoded data removed]",
      "text/plain": [
       "<Figure size 720x1080 with 1 Axes>"
      ]
     },
     "metadata": {
      "needs_background": "light"
     },
     "output_type": "display_data"
    }
   ],
   "source": [
    "imp_bin = Series(mutual_info_classif(data[bin_cols], data['default'],\n",
    "                                     discrete_features =True), index = bin_cols)\n",
    "imp_bin.sort_values(inplace = True)\n",
    "imp_bin.plot(kind = 'barh', figsize=(10, 15))"
   ]
  },
  {
   "cell_type": "markdown",
   "id": "1168fb12",
   "metadata": {},
   "source": [
    "Видим, что самый важный признак - score_bki, с большим отрывом. На заметку - можно будет потом попробовать построить модель только на важных признаках. И проверить какие признаки считает неважными L1. "
   ]
  },
  {
   "cell_type": "code",
   "execution_count": 958,
   "id": "0b068eb7",
   "metadata": {},
   "outputs": [
    {
     "data": {
      "text/plain": [
       "<AxesSubplot:>"
      ]
     },
     "execution_count": 958,
     "metadata": {},
     "output_type": "execute_result"
    },
    {
     "data": {
      "image/png": "[encoded data removed]",
      "text/plain": [
       "<Figure size 1440x1080 with 2 Axes>"
      ]
     },
     "metadata": {
      "needs_background": "light"
     },
     "output_type": "display_data"
    }
   ],
   "source": [
    "plt.subplots(figsize=(20,15))\n",
    "\n",
    "sns.heatmap(data.corr().abs(), vmin=0, vmax=1)"
   ]
  },
  {
   "cell_type": "markdown",
   "id": "a2eb7587",
   "metadata": {},
   "source": [
    "Видим какие-то непредвиденные и не очень корреляции. Решаю удалить признаки, которые в паре имеют меньше важности."
   ]
  },
  {
   "cell_type": "code",
   "execution_count": 959,
   "id": "a580f097",
   "metadata": {},
   "outputs": [],
   "source": [
    "data.drop(['car'], axis=1, inplace=True)\n",
    "data.drop(['work_address_2'], axis=1, inplace=True)"
   ]
  },
  {
   "cell_type": "markdown",
   "id": "a33870c6",
   "metadata": {},
   "source": [
    "Метрики"
   ]
  },
  {
   "cell_type": "code",
   "execution_count": 960,
   "id": "efec9bb5",
   "metadata": {},
   "outputs": [],
   "source": [
    "def count_metrics(y_val, y_pred, y_probs):    \n",
    "    metrics = {}\n",
    "    metrics['accuracy'] = accuracy_score(y_val, y_pred)\n",
    "    metrics['precision'] = precision_score(y_val, 1 - y_pred)\n",
    "    metrics['recall'] = recall_score(y_val, 1 - y_pred)\n",
    "    metrics['f1'] = f1_score(y_val, y_pred)\n",
    "    metrics['roc_auc'] = roc_auc_score(y_val, y_probs)  \n",
    "    metrics['confusion'] = confusion_matrix(y_val, y_pred)\n",
    "    return metrics \n",
    "\n",
    "def show_roc_auc(y_val, y_probs):\n",
    "    fpr, tpr, threshold = roc_curve(y_val, y_probs)\n",
    "    roc_auc = roc_auc_score(y_val, y_probs)\n",
    "    plt.figure()\n",
    "    plt.plot([0, 1], label='Baseline', linestyle='--')\n",
    "    plt.plot(fpr, tpr, label = 'Regression')\n",
    "    plt.title('Logistic Regression ROC AUC = %0.3f' % roc_auc)\n",
    "    plt.ylabel('True Positive Rate')\n",
    "    plt.xlabel('False Positive Rate')\n",
    "    plt.legend(loc = 'lower right')\n",
    "    plt.show()"
   ]
  },
  {
   "cell_type": "markdown",
   "id": "f5735347",
   "metadata": {},
   "source": [
    "Обучение"
   ]
  },
  {
   "cell_type": "code",
   "execution_count": 961,
   "id": "ba984fd0",
   "metadata": {},
   "outputs": [],
   "source": [
    "X = data.drop(columns=['default'])\n",
    "Y = data['default']"
   ]
  },
  {
   "cell_type": "code",
   "execution_count": 962,
   "id": "c6216714",
   "metadata": {},
   "outputs": [],
   "source": [
    "X_train, X_val, y_train, y_val = train_test_split(X, Y, test_size=0.20, random_state=42)"
   ]
  },
  {
   "cell_type": "code",
   "execution_count": 963,
   "id": "abd3be17",
   "metadata": {},
   "outputs": [
    {
     "name": "stdout",
     "output_type": "stream",
     "text": [
      "В тренировочном датасете такая пропорция классов [0.87220312 0.12779688]\n"
     ]
    }
   ],
   "source": [
    "print(f'В тренировочном датасете такая пропорция классов {np.unique(y_train, return_counts=True)[1] / y_train.shape[0]}')"
   ]
  },
  {
   "cell_type": "markdown",
   "id": "6190c305",
   "metadata": {},
   "source": [
    "Нормализация данных"
   ]
  },
  {
   "cell_type": "code",
   "execution_count": 964,
   "id": "561d5efd",
   "metadata": {},
   "outputs": [],
   "source": [
    "def do_std_scale(train, test, column):\n",
    "    scaler = StandardScaler()\n",
    "    train[column] = scaler.fit_transform(train[[column]])\n",
    "    test[column] = scaler.transform(test[[column]])\n",
    "    \n",
    "    return train, test"
   ]
  },
  {
   "cell_type": "code",
   "execution_count": 965,
   "id": "65e56c47",
   "metadata": {},
   "outputs": [],
   "source": [
    "for col in num_cols:\n",
    "    X_train, X_val = do_std_scale(X_train, X_val, col)"
   ]
  },
  {
   "cell_type": "markdown",
   "id": "4945c97f",
   "metadata": {},
   "source": [
    "Наивная модель"
   ]
  },
  {
   "cell_type": "code",
   "execution_count": 966,
   "id": "5a4b6695",
   "metadata": {},
   "outputs": [
    {
     "data": {
      "image/png": "[encoded data removed]",
      "text/plain": [
       "<Figure size 432x288 with 1 Axes>"
      ]
     },
     "metadata": {
      "needs_background": "light"
     },
     "output_type": "display_data"
    },
    {
     "data": {
      "text/html": [
       "<div>\n",
       "<style scoped>\n",
       "    .dataframe tbody tr th:only-of-type {\n",
       "        vertical-align: middle;\n",
       "    }\n",
       "\n",
       "    .dataframe tbody tr th {\n",
       "        vertical-align: top;\n",
       "    }\n",
       "\n",
       "    .dataframe thead th {\n",
       "        text-align: right;\n",
       "    }\n",
       "</style>\n",
       "<table border=\"1\" class=\"dataframe\">\n",
       "  <thead>\n",
       "    <tr style=\"text-align: right;\">\n",
       "      <th></th>\n",
       "      <th>naive</th>\n",
       "    </tr>\n",
       "  </thead>\n",
       "  <tbody>\n",
       "    <tr>\n",
       "      <th>accuracy</th>\n",
       "      <td>0.875271</td>\n",
       "    </tr>\n",
       "    <tr>\n",
       "      <th>precision</th>\n",
       "      <td>0.121898</td>\n",
       "    </tr>\n",
       "    <tr>\n",
       "      <th>recall</th>\n",
       "      <td>0.978654</td>\n",
       "    </tr>\n",
       "    <tr>\n",
       "      <th>f1</th>\n",
       "      <td>0.040646</td>\n",
       "    </tr>\n",
       "    <tr>\n",
       "      <th>roc_auc</th>\n",
       "      <td>0.738554</td>\n",
       "    </tr>\n",
       "    <tr>\n",
       "      <th>confusion</th>\n",
       "      <td>[[12880, 53], [1788, 39]]</td>\n",
       "    </tr>\n",
       "  </tbody>\n",
       "</table>\n",
       "</div>"
      ],
      "text/plain": [
       "                               naive\n",
       "accuracy                    0.875271\n",
       "precision                   0.121898\n",
       "recall                      0.978654\n",
       "f1                          0.040646\n",
       "roc_auc                     0.738554\n",
       "confusion  [[12880, 53], [1788, 39]]"
      ]
     },
     "metadata": {},
     "output_type": "display_data"
    }
   ],
   "source": [
    "model_naive = LogisticRegression()\n",
    "model_naive.fit(X_train, y_train)\n",
    "y_pred = model_naive.predict(X_val)\n",
    "y_probs = model_naive.predict_proba(X_val)[:,1]\n",
    "\n",
    "metrics_naive = count_metrics(y_val, y_pred, y_probs)\n",
    "data_metrics = pd.DataFrame.from_dict(metrics_naive, orient='index',columns = ['naive'])\n",
    "\n",
    "show_roc_auc(y_val, y_probs)\n",
    "display(data_metrics)"
   ]
  },
  {
   "cell_type": "markdown",
   "id": "af0a491a",
   "metadata": {},
   "source": [
    "Видим, что модель хорошо предсказывает дефолт, даже подозрительно хорошо, а хороших заемщиков - хуже, то есть мы упускаем деньги. Нужно попробовать сбалансировать выборку. Решаю сделать первоначально оверсемплинг - не хочу потерять данные."
   ]
  },
  {
   "cell_type": "code",
   "execution_count": 967,
   "id": "b7b16998",
   "metadata": {},
   "outputs": [],
   "source": [
    "oversample_ups = imblearn.over_sampling.RandomOverSampler(sampling_strategy=0.8, random_state=42)\n",
    "X_train_oversempl, y_train_oversempl = oversample_ups.fit_resample(X_train, y_train)"
   ]
  },
  {
   "cell_type": "code",
   "execution_count": 968,
   "id": "3edba125",
   "metadata": {},
   "outputs": [
    {
     "data": {
      "image/png": "[encoded data removed]",
      "text/plain": [
       "<Figure size 432x288 with 1 Axes>"
      ]
     },
     "metadata": {
      "needs_background": "light"
     },
     "output_type": "display_data"
    },
    {
     "data": {
      "text/html": [
       "<div>\n",
       "<style scoped>\n",
       "    .dataframe tbody tr th:only-of-type {\n",
       "        vertical-align: middle;\n",
       "    }\n",
       "\n",
       "    .dataframe tbody tr th {\n",
       "        vertical-align: top;\n",
       "    }\n",
       "\n",
       "    .dataframe thead th {\n",
       "        text-align: right;\n",
       "    }\n",
       "</style>\n",
       "<table border=\"1\" class=\"dataframe\">\n",
       "  <thead>\n",
       "    <tr style=\"text-align: right;\">\n",
       "      <th></th>\n",
       "      <th>over_sampling</th>\n",
       "    </tr>\n",
       "  </thead>\n",
       "  <tbody>\n",
       "    <tr>\n",
       "      <th>accuracy</th>\n",
       "      <td>0.732182</td>\n",
       "    </tr>\n",
       "    <tr>\n",
       "      <th>precision</th>\n",
       "      <td>0.073437</td>\n",
       "    </tr>\n",
       "    <tr>\n",
       "      <th>recall</th>\n",
       "      <td>0.423098</td>\n",
       "    </tr>\n",
       "    <tr>\n",
       "      <th>f1</th>\n",
       "      <td>0.347797</td>\n",
       "    </tr>\n",
       "    <tr>\n",
       "      <th>roc_auc</th>\n",
       "      <td>0.738384</td>\n",
       "    </tr>\n",
       "    <tr>\n",
       "      <th>confusion</th>\n",
       "      <td>[[9753, 3180], [773, 1054]]</td>\n",
       "    </tr>\n",
       "  </tbody>\n",
       "</table>\n",
       "</div>"
      ],
      "text/plain": [
       "                         over_sampling\n",
       "accuracy                      0.732182\n",
       "precision                     0.073437\n",
       "recall                        0.423098\n",
       "f1                            0.347797\n",
       "roc_auc                       0.738384\n",
       "confusion  [[9753, 3180], [773, 1054]]"
      ]
     },
     "metadata": {},
     "output_type": "display_data"
    }
   ],
   "source": [
    "log_reg = LogisticRegression()\n",
    "log_reg.fit(X_train_oversempl, y_train_oversempl)\n",
    "y_pred_oversempl = log_reg.predict(X_val)\n",
    "y_probs_oversempl = log_reg.predict_proba(X_val)[:,1]\n",
    "\n",
    "metrics_oversempl = count_metrics(y_val, y_pred_oversempl, y_probs_oversempl)\n",
    "data_metrics_oversempl = pd.DataFrame.from_dict(metrics_oversempl, orient='index',columns = ['over_sampling'])\n",
    "\n",
    "show_roc_auc(y_val, y_probs_oversempl)\n",
    "display(data_metrics_oversempl)"
   ]
  },
  {
   "cell_type": "markdown",
   "id": "31f6b97a",
   "metadata": {},
   "source": [
    "Все таки попробуем убрать часть данных"
   ]
  },
  {
   "cell_type": "code",
   "execution_count": 969,
   "id": "22111f20",
   "metadata": {},
   "outputs": [],
   "source": [
    "undersample_ups = imblearn.under_sampling.RandomUnderSampler(sampling_strategy=1, random_state=42)\n",
    "X_train_undersempl, y_train_undersempl = undersample_ups.fit_resample(X_train, y_train)"
   ]
  },
  {
   "cell_type": "code",
   "execution_count": 970,
   "id": "c4c3edc9",
   "metadata": {},
   "outputs": [
    {
     "data": {
      "image/png": "[encoded data removed]",
      "text/plain": [
       "<Figure size 432x288 with 1 Axes>"
      ]
     },
     "metadata": {
      "needs_background": "light"
     },
     "output_type": "display_data"
    },
    {
     "data": {
      "text/html": [
       "<div>\n",
       "<style scoped>\n",
       "    .dataframe tbody tr th:only-of-type {\n",
       "        vertical-align: middle;\n",
       "    }\n",
       "\n",
       "    .dataframe tbody tr th {\n",
       "        vertical-align: top;\n",
       "    }\n",
       "\n",
       "    .dataframe thead th {\n",
       "        text-align: right;\n",
       "    }\n",
       "</style>\n",
       "<table border=\"1\" class=\"dataframe\">\n",
       "  <thead>\n",
       "    <tr style=\"text-align: right;\">\n",
       "      <th></th>\n",
       "      <th>under_sampling</th>\n",
       "    </tr>\n",
       "  </thead>\n",
       "  <tbody>\n",
       "    <tr>\n",
       "      <th>accuracy</th>\n",
       "      <td>0.663753</td>\n",
       "    </tr>\n",
       "    <tr>\n",
       "      <th>precision</th>\n",
       "      <td>0.063527</td>\n",
       "    </tr>\n",
       "    <tr>\n",
       "      <th>recall</th>\n",
       "      <td>0.31746</td>\n",
       "    </tr>\n",
       "    <tr>\n",
       "      <th>f1</th>\n",
       "      <td>0.334451</td>\n",
       "    </tr>\n",
       "    <tr>\n",
       "      <th>roc_auc</th>\n",
       "      <td>0.738027</td>\n",
       "    </tr>\n",
       "    <tr>\n",
       "      <th>confusion</th>\n",
       "      <td>[[8550, 4383], [580, 1247]]</td>\n",
       "    </tr>\n",
       "  </tbody>\n",
       "</table>\n",
       "</div>"
      ],
      "text/plain": [
       "                        under_sampling\n",
       "accuracy                      0.663753\n",
       "precision                     0.063527\n",
       "recall                         0.31746\n",
       "f1                            0.334451\n",
       "roc_auc                       0.738027\n",
       "confusion  [[8550, 4383], [580, 1247]]"
      ]
     },
     "metadata": {},
     "output_type": "display_data"
    }
   ],
   "source": [
    "log_reg_undersempl = LogisticRegression()\n",
    "log_reg_undersempl.fit(X_train_undersempl, y_train_undersempl)\n",
    "y_pred_undersempl = log_reg_undersempl.predict(X_val)\n",
    "y_probs_undersempl = log_reg_undersempl.predict_proba(X_val)[:,1]\n",
    "\n",
    "metrics_undersempl = count_metrics(y_val, y_pred_undersempl, y_probs_undersempl)\n",
    "data_metrics_undersempl = pd.DataFrame.from_dict(metrics_undersempl, orient='index',columns = ['under_sampling'])\n",
    "\n",
    "show_roc_auc(y_val, y_probs_undersempl)\n",
    "display(data_metrics_undersempl)"
   ]
  },
  {
   "cell_type": "markdown",
   "id": "0a65788e",
   "metadata": {},
   "source": [
    "Видим, что общая точность и полнота модели упали, но! Мы стали лучше угадывать хороших клиентов и f1 улучшилось. Попробуем подобрать лучшие параметры для обучения, с помощью гиперпараметров"
   ]
  },
  {
   "cell_type": "code",
   "execution_count": 971,
   "id": "4385ca1e",
   "metadata": {},
   "outputs": [],
   "source": [
    "penalty= ['l2']\n",
    "C= np.logspace(0, 4, 10)\n",
    "class_weight= ['balanced', {0: 1, 1: 10}]"
   ]
  },
  {
   "cell_type": "code",
   "execution_count": 972,
   "id": "1facd497",
   "metadata": {},
   "outputs": [],
   "source": [
    "hyperparameters = dict(C=C, penalty=penalty, class_weight=class_weight)"
   ]
  },
  {
   "cell_type": "code",
   "execution_count": 973,
   "id": "08e1c6e3",
   "metadata": {},
   "outputs": [],
   "source": [
    "repeated_cv = RepeatedKFold(n_repeats=2, random_state=42) # добавляю RepeatedKFold для того, \n",
    "                                                          # чтобы уменьшить вероятность сильного дисбаланса классов"
   ]
  },
  {
   "cell_type": "code",
   "execution_count": 856,
   "id": "894ec3b1",
   "metadata": {},
   "outputs": [],
   "source": [
    "log_reg = LogisticRegression()\n",
    "log_reg.fit(X_train, y_train)\n",
    "\n",
    "gs = GridSearchCV(log_reg, param_grid=hyperparameters, cv=repeated_cv, scoring='roc_auc')"
   ]
  },
  {
   "cell_type": "code",
   "execution_count": 857,
   "id": "63d2a38a",
   "metadata": {},
   "outputs": [
    {
     "data": {
      "text/plain": [
       "GridSearchCV(cv=RepeatedKFold(n_repeats=2, n_splits=5, random_state=42),\n",
       "             estimator=LogisticRegression(),\n",
       "             param_grid={'C': array([1.00000000e+00, 2.78255940e+00, 7.74263683e+00, 2.15443469e+01,\n",
       "       5.99484250e+01, 1.66810054e+02, 4.64158883e+02, 1.29154967e+03,\n",
       "       3.59381366e+03, 1.00000000e+04]),\n",
       "                         'class_weight': ['balanced', {0: 1, 1: 10}],\n",
       "                         'penalty': ['l2']},\n",
       "             scoring='roc_auc')"
      ]
     },
     "execution_count": 857,
     "metadata": {},
     "output_type": "execute_result"
    }
   ],
   "source": [
    "gs.fit(X_train, y_train)"
   ]
  },
  {
   "cell_type": "code",
   "execution_count": 858,
   "id": "01f5a2a6",
   "metadata": {},
   "outputs": [
    {
     "data": {
      "text/plain": [
       "{'C': 1291.5496650148827, 'class_weight': 'balanced', 'penalty': 'l2'}"
      ]
     },
     "execution_count": 858,
     "metadata": {},
     "output_type": "execute_result"
    }
   ],
   "source": [
    "gs.best_params_"
   ]
  },
  {
   "cell_type": "code",
   "execution_count": 859,
   "id": "e52e4a05",
   "metadata": {},
   "outputs": [
    {
     "name": "stdout",
     "output_type": "stream",
     "text": [
      "ROC AUC 0.7382108818930423\n",
      "Confusion matrix: \n",
      " [[8633 4300]\n",
      " [ 592 1235]]\n"
     ]
    }
   ],
   "source": [
    "probs = gs.predict_proba(X_val)\n",
    "preds = gs.predict(X_val)\n",
    "\n",
    "# Смотрим наши две главные метрики\n",
    "print('ROC AUC', roc_auc_score(y_val, probs[:, 1]))\n",
    "print('Confusion matrix: \\n', confusion_matrix(y_val, preds))"
   ]
  },
  {
   "cell_type": "markdown",
   "id": "1fb0796e",
   "metadata": {},
   "source": [
    "Попробуем подобрать параметры, используя еще и L1 регуляризацию и поэтому выбираем другой алгоритм - liblinear."
   ]
  },
  {
   "cell_type": "code",
   "execution_count": 860,
   "id": "33194e97",
   "metadata": {},
   "outputs": [
    {
     "data": {
      "text/plain": [
       "{'C': 1.0, 'class_weight': 'balanced', 'penalty': 'l1'}"
      ]
     },
     "execution_count": 860,
     "metadata": {},
     "output_type": "execute_result"
    }
   ],
   "source": [
    "penalty_all_reg= ['l1','l2']\n",
    "hyperparameters_all_reg = dict(C=C, penalty=penalty_all_reg, class_weight=class_weight)\n",
    "\n",
    "log_reg_all_reg = LogisticRegression(solver = 'liblinear')\n",
    "log_reg_all_reg.fit(X_train, y_train)\n",
    "\n",
    "gs_all_reg = GridSearchCV(log_reg_all_reg, param_grid=hyperparameters_all_reg, cv=repeated_cv, scoring='roc_auc')\n",
    "gs_all_reg.fit(X_train, y_train)\n",
    "gs_all_reg.best_params_"
   ]
  },
  {
   "cell_type": "code",
   "execution_count": 861,
   "id": "86c3cac6",
   "metadata": {},
   "outputs": [
    {
     "name": "stdout",
     "output_type": "stream",
     "text": [
      "ROC AUC 0.7383562989430899\n",
      "Confusion matrix: \n",
      " [[8637 4296]\n",
      " [ 590 1237]]\n"
     ]
    }
   ],
   "source": [
    "probs_all_reg = gs_all_reg.predict_proba(X_val)\n",
    "preds_all_reg = gs_all_reg.predict(X_val)\n",
    "print('ROC AUC', roc_auc_score(y_val, probs_all_reg[:, 1]))\n",
    "print('Confusion matrix: \\n', confusion_matrix(y_val, preds_all_reg))"
   ]
  },
  {
   "cell_type": "markdown",
   "id": "646757cd",
   "metadata": {},
   "source": [
    "В целом данные уже сильно не меняются. Решаю оставить последний вариант и обучить модель с этими параметрами. Но на всякий случай еще хочу попробовать DecisionTreeClassifier, который мы мельком успели пощупать в теоретической части модулей. "
   ]
  },
  {
   "cell_type": "code",
   "execution_count": 977,
   "id": "7b46f33d",
   "metadata": {},
   "outputs": [],
   "source": [
    "from sklearn.tree import DecisionTreeClassifier"
   ]
  },
  {
   "cell_type": "code",
   "execution_count": 978,
   "id": "c116a937",
   "metadata": {},
   "outputs": [
    {
     "data": {
      "text/plain": [
       "DecisionTreeClassifier(random_state=42)"
      ]
     },
     "execution_count": 978,
     "metadata": {},
     "output_type": "execute_result"
    }
   ],
   "source": [
    "clf = DecisionTreeClassifier(random_state=42)\n",
    "clf.fit(X_train, y_train)"
   ]
  },
  {
   "cell_type": "code",
   "execution_count": 979,
   "id": "4cc927a8",
   "metadata": {},
   "outputs": [],
   "source": [
    "y_pred_dtc = clf.predict(X_val)\n",
    "y_probs_dtc = clf.predict_proba(X_val)[:,1]"
   ]
  },
  {
   "cell_type": "code",
   "execution_count": 980,
   "id": "01b1a580",
   "metadata": {},
   "outputs": [
    {
     "name": "stdout",
     "output_type": "stream",
     "text": [
      "ROC AUC 0.5417088983426901\n",
      "Confusion matrix: \n",
      " [[11152  1781]\n",
      " [ 1423   404]]\n"
     ]
    }
   ],
   "source": [
    "print('ROC AUC', roc_auc_score(y_val, y_probs_dtc))\n",
    "print('Confusion matrix: \\n', confusion_matrix(y_val, y_pred_dtc))"
   ]
  },
  {
   "cell_type": "markdown",
   "id": "4bc29925",
   "metadata": {},
   "source": [
    "Пока что - это худший результат. Оставляем как есть"
   ]
  },
  {
   "cell_type": "code",
   "execution_count": 974,
   "id": "f2fbfcd2",
   "metadata": {},
   "outputs": [],
   "source": [
    "finish_model = LogisticRegression(C=1, class_weight='balanced', penalty='l1', solver = 'liblinear')\n",
    "finish_model.fit(X_train, y_train)\n",
    "\n",
    "y_pred_finish = finish_model.predict(X_val)\n",
    "y_probs_finish = finish_model.predict_proba(X_val)[:,1]"
   ]
  },
  {
   "cell_type": "code",
   "execution_count": 975,
   "id": "f290fc97",
   "metadata": {},
   "outputs": [
    {
     "name": "stdout",
     "output_type": "stream",
     "text": [
      "ROC AUC 0.7383562142998709\n",
      "Confusion matrix: \n",
      " [[8637 4296]\n",
      " [ 590 1237]]\n"
     ]
    }
   ],
   "source": [
    "print('ROC AUC', roc_auc_score(y_val, y_probs_finish))\n",
    "print('Confusion matrix: \\n', confusion_matrix(y_val, y_pred_finish))"
   ]
  },
  {
   "cell_type": "markdown",
   "id": "2d095e91",
   "metadata": {},
   "source": [
    "В целом нам удалось повысить угадываемость недефолтных заемщиков на такой же уровень, как и дефолтных, не угадываем в примерно 30% случаев. Есть к чему стремиться!"
   ]
  },
  {
   "cell_type": "markdown",
   "id": "12ecb3a5",
   "metadata": {},
   "source": [
    "Подгружаем наш тестовый датасет"
   ]
  },
  {
   "cell_type": "code",
   "execution_count": 998,
   "id": "0a5f1057",
   "metadata": {},
   "outputs": [],
   "source": [
    "test=pd.read_csv('test.csv')"
   ]
  },
  {
   "cell_type": "markdown",
   "id": "3a4752ba",
   "metadata": {},
   "source": [
    "Делаем все такие же маневры с признаками, как для тренировочного."
   ]
  },
  {
   "cell_type": "code",
   "execution_count": 999,
   "id": "f1134071",
   "metadata": {},
   "outputs": [],
   "source": [
    "test.drop(['home_address'], axis=1, inplace=True)\n",
    "\n",
    "test.drop(['first_time'], axis=1, inplace=True)\n",
    "\n",
    "test.app_date = pd.to_datetime(test.app_date)\n",
    "test['app_date_year'] = test.app_date.dt.year\n",
    "test['app_date_month'] = test.app_date.dt.month\n",
    "test['app_date_day'] = test.app_date.dt.day\n",
    "test['app_date_weekday'] = test.app_date.dt.weekday\n",
    "test['app_date_season'] = test.app_date_month.apply(lambda x: 1 if x in [12,1,2] \n",
    "                                                    else 2 if x in [3,4,5] \n",
    "                                                    else 3 if x in [6,7,7] \n",
    "                                                    else 4)\n",
    "\n",
    "test = test.drop('app_date',axis=1)\n",
    "test['app_date_quarter_month'] = test['app_date_day'].apply(lambda x: 1 if x in [1,2,3,4,5,6,7] \n",
    "                                                            else 2 if x in [8,9,10,11,12,13,14,15] \n",
    "                                                            else 3 if x in [16,17,18,19,20,21,22,23] \n",
    "                                                            else 4)\n",
    "\n",
    "test = pd.get_dummies(test, columns=['app_date_month'], drop_first=True)\n",
    "test = pd.get_dummies(test, columns=['app_date_quarter_month'], drop_first=True)\n",
    "test = test.drop('app_date_year',axis=1)\n",
    "test = test.drop('app_date_day',axis=1)\n",
    "test = test.drop('app_date_weekday',axis=1)\n",
    "test = test.drop('app_date_season',axis=1)\n",
    "\n",
    "test['education']=test['education'].fillna('SCH')\n",
    "test = pd.get_dummies(test, columns=['education'])\n",
    "test = test.drop('education_SCH',axis=1)\n",
    "\n",
    "test['sex'] = label_encoder.fit_transform(test['sex'])\n",
    "\n",
    "test['years_of_age'] = test.age.apply(lambda x: 1 if x in life[1:11]\n",
    "                                                 else 2 if x in life[11:21] \n",
    "                                                 else 3 if x in life[21:31] \n",
    "                                                 else 4 if x in life[31:41] \n",
    "                                                 else 5 if x in life[41:51] \n",
    "                                                 else 6 if x in life[51:81] \n",
    "                                                 else 7)\n",
    "\n",
    "test['years_of_age'] = test['years_of_age'].apply(lambda x: '16-25' if x==1 \n",
    "                                                   else '26-35' if x==2 \n",
    "                                                   else '36-45' if x==3\n",
    "                                                   else '46-55' if x==4\n",
    "                                                   else '55-65' if x==5\n",
    "                                                   else '66-95' if x==6\n",
    "                                                   else '1-15,95-100')\n",
    "\n",
    "test = pd.get_dummies(test, columns=['years_of_age'], drop_first=True)\n",
    "test = test.drop('age',axis=1)\n",
    "\n",
    "test['car'] = label_encoder.fit_transform(test['car'])\n",
    "\n",
    "test['car_type'] = label_encoder.fit_transform(test['car_type'])\n",
    "\n",
    "test['decline_app_cnt'] = test['decline_app_cnt'].apply(lambda x: '0' if x==0 \n",
    "                                                        else '1-10' if x in range(1,11) \n",
    "                                                        else '11-20' if x in range(11,21) \n",
    "                                                        else '21_and_more')\n",
    "\n",
    "test = pd.get_dummies(test, columns=['decline_app_cnt'], drop_first=True)\n",
    "\n",
    "test['bki_request_cnt'] = np.log(test['bki_request_cnt'] + 1)\n",
    "\n",
    "test = pd.get_dummies(test, columns=['region_rating'], drop_first=True)\n",
    "\n",
    "test = pd.get_dummies(test, columns=['work_address'], drop_first=True)\n",
    "\n",
    "test['income'] = np.log(test['income'] + 1)\n",
    "\n",
    "test = pd.get_dummies(test, columns=['sna'], drop_first=True)\n",
    "\n",
    "test['foreign_passport'] = label_encoder.fit_transform(test['foreign_passport'])\n",
    "\n",
    "test.drop(['car'], axis=1, inplace=True)\n",
    "test.drop(['work_address_2'], axis=1, inplace=True)"
   ]
  },
  {
   "cell_type": "code",
   "execution_count": 1000,
   "id": "3bde6c5e",
   "metadata": {},
   "outputs": [],
   "source": [
    "for col in num_cols:\n",
    "    data, test = do_std_scale(data, test, col)"
   ]
  },
  {
   "cell_type": "code",
   "execution_count": 1001,
   "id": "5744103e",
   "metadata": {},
   "outputs": [],
   "source": [
    "finish_model.fit(X, Y)\n",
    "\n",
    "X_test_finish=test.drop(columns=['client_id'])\n",
    "\n",
    "y_pred_test = finish_model.predict(X_test_finish)\n",
    "y_probs_test = finish_model.predict_proba(X_test_finish)[:,1]\n",
    "\n",
    "test['default'] = y_probs_test"
   ]
  },
  {
   "cell_type": "code",
   "execution_count": 1002,
   "id": "2b445f30",
   "metadata": {},
   "outputs": [],
   "source": [
    "submission = test[['client_id','default']]"
   ]
  },
  {
   "cell_type": "code",
   "execution_count": 1003,
   "id": "648f101f",
   "metadata": {},
   "outputs": [
    {
     "data": {
      "text/html": [
       "<div>\n",
       "<style scoped>\n",
       "    .dataframe tbody tr th:only-of-type {\n",
       "        vertical-align: middle;\n",
       "    }\n",
       "\n",
       "    .dataframe tbody tr th {\n",
       "        vertical-align: top;\n",
       "    }\n",
       "\n",
       "    .dataframe thead th {\n",
       "        text-align: right;\n",
       "    }\n",
       "</style>\n",
       "<table border=\"1\" class=\"dataframe\">\n",
       "  <thead>\n",
       "    <tr style=\"text-align: right;\">\n",
       "      <th></th>\n",
       "      <th>client_id</th>\n",
       "      <th>default</th>\n",
       "    </tr>\n",
       "  </thead>\n",
       "  <tbody>\n",
       "    <tr>\n",
       "      <th>0</th>\n",
       "      <td>74835</td>\n",
       "      <td>0.229950</td>\n",
       "    </tr>\n",
       "    <tr>\n",
       "      <th>1</th>\n",
       "      <td>17527</td>\n",
       "      <td>0.749189</td>\n",
       "    </tr>\n",
       "    <tr>\n",
       "      <th>2</th>\n",
       "      <td>75683</td>\n",
       "      <td>0.286370</td>\n",
       "    </tr>\n",
       "    <tr>\n",
       "      <th>3</th>\n",
       "      <td>26883</td>\n",
       "      <td>0.373101</td>\n",
       "    </tr>\n",
       "    <tr>\n",
       "      <th>4</th>\n",
       "      <td>28862</td>\n",
       "      <td>0.134742</td>\n",
       "    </tr>\n",
       "  </tbody>\n",
       "</table>\n",
       "</div>"
      ],
      "text/plain": [
       "   client_id   default\n",
       "0      74835  0.229950\n",
       "1      17527  0.749189\n",
       "2      75683  0.286370\n",
       "3      26883  0.373101\n",
       "4      28862  0.134742"
      ]
     },
     "execution_count": 1003,
     "metadata": {},
     "output_type": "execute_result"
    }
   ],
   "source": [
    "submission.head()"
   ]
  },
  {
   "cell_type": "code",
   "execution_count": 1004,
   "id": "33071bd0",
   "metadata": {},
   "outputs": [],
   "source": [
    "submission.to_csv('submission.csv', index=False)"
   ]
  },
  {
   "cell_type": "markdown",
   "id": "da78fb56",
   "metadata": {},
   "source": [
    "Что можно сделать еще, кроме тех заметок, которые я оставляла по ходу написания кода:\n",
    "\n",
    "1)Сделать полименальные признаки\n",
    "\n",
    "2)Добавить признаки из открытого доступа\n",
    "\n",
    "3)Удалить неважные признаки и на только их основе построить модель, или на только самых важных\n",
    "\n",
    "4)Попробовать не оверсемплинг, а генерация новых данных на основе существующих \n",
    "\n",
    "5)Попробовать другие виды модели обучения\n",
    "\n",
    "6)Перебирать гиперпараметры\n",
    "\n",
    "7) Попробовать другую нормализацию данных\n",
    "\n",
    "8) Проверить на переобучение модель"
   ]
  },
  {
   "cell_type": "code",
   "execution_count": null,
   "id": "cb8bb5c6",
   "metadata": {},
   "outputs": [],
   "source": []
  }
 ],
 "metadata": {
  "kernelspec": {
   "display_name": "Python 3",
   "language": "python",
   "name": "python3"
  },
  "language_info": {
   "codemirror_mode": {
    "name": "ipython",
    "version": 3
   },
   "file_extension": ".py",
   "mimetype": "text/x-python",
   "name": "python",
   "nbconvert_exporter": "python",
   "pygments_lexer": "ipython3",
   "version": "3.8.8"
  }
 },
 "nbformat": 4,
 "nbformat_minor": 5
}
